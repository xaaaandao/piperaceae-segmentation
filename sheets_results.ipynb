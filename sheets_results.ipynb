{
 "cells": [
  {
   "cell_type": "code",
   "execution_count": 1,
   "metadata": {
    "collapsed": true
   },
   "outputs": [],
   "source": [
    "import csv\n",
    "import pandas as pd\n",
    "import pathlib"
   ]
  },
  {
   "cell_type": "code",
   "execution_count": 2,
   "outputs": [],
   "source": [
    "path = '/home/xandao/Documentos/resultados_gimp/u-net'"
   ],
   "metadata": {
    "collapsed": false
   }
  },
  {
   "cell_type": "code",
   "execution_count": 8,
   "outputs": [
    {
     "data": {
      "text/plain": "6"
     },
     "execution_count": 8,
     "metadata": {},
     "output_type": "execute_result"
    }
   ],
   "source": [
    "list_files = [file for file in pathlib.Path(path).rglob('mean.csv') if file.is_file()]\n",
    "len(list_files)"
   ],
   "metadata": {
    "collapsed": false
   }
  },
  {
   "cell_type": "code",
   "execution_count": 4,
   "outputs": [
    {
     "data": {
      "text/plain": "                0\n0       loss_mean\n1        loss_std\n2       dice_mean\n3        dice_std\n4    jaccard_mean\n5     jaccard_std\n6  precision_mean\n7   precision_std\n8     recall_mean\n9      recall_std",
      "text/html": "<div>\n<style scoped>\n    .dataframe tbody tr th:only-of-type {\n        vertical-align: middle;\n    }\n\n    .dataframe tbody tr th {\n        vertical-align: top;\n    }\n\n    .dataframe thead th {\n        text-align: right;\n    }\n</style>\n<table border=\"1\" class=\"dataframe\">\n  <thead>\n    <tr style=\"text-align: right;\">\n      <th></th>\n      <th>0</th>\n    </tr>\n  </thead>\n  <tbody>\n    <tr>\n      <th>0</th>\n      <td>loss_mean</td>\n    </tr>\n    <tr>\n      <th>1</th>\n      <td>loss_std</td>\n    </tr>\n    <tr>\n      <th>2</th>\n      <td>dice_mean</td>\n    </tr>\n    <tr>\n      <th>3</th>\n      <td>dice_std</td>\n    </tr>\n    <tr>\n      <th>4</th>\n      <td>jaccard_mean</td>\n    </tr>\n    <tr>\n      <th>5</th>\n      <td>jaccard_std</td>\n    </tr>\n    <tr>\n      <th>6</th>\n      <td>precision_mean</td>\n    </tr>\n    <tr>\n      <th>7</th>\n      <td>precision_std</td>\n    </tr>\n    <tr>\n      <th>8</th>\n      <td>recall_mean</td>\n    </tr>\n    <tr>\n      <th>9</th>\n      <td>recall_std</td>\n    </tr>\n  </tbody>\n</table>\n</div>"
     },
     "metadata": {},
     "output_type": "display_data"
    }
   ],
   "source": [
    "index = ['loss', 'dice', 'jaccard', 'precision', 'recall']#, 'folder', 'best_fold']\n",
    "index = [i + '_' + mean_std for i in index for mean_std in ['mean', 'std']]\n",
    "sheet_rgb = pd.DataFrame(index)\n",
    "sheet_grayscale = pd.DataFrame(index)\n",
    "display(sheet_rgb)"
   ],
   "metadata": {
    "collapsed": false
   }
  },
  {
   "cell_type": "code",
   "execution_count": 11,
   "outputs": [],
   "source": [
    "def round_mean(value):\n",
    "     return '=ROUND(' + str(value) + '; 4)'\n",
    "\n",
    "def plus_minus_std(value):\n",
    "     return '=\"±\"&ROUND(' + str(value) + '; 4)'\n",
    "\n",
    "def get_mean(sheet, metric):\n",
    "    if metric not in ['train', 'val', 'test']:\n",
    "        raise ValueError('metric not valid')\n",
    "\n",
    "    mean_metric = 'mean_' + metric\n",
    "    std_metric = 'std_' + metric\n",
    "    return [\n",
    "        round_mean(sheet.loc['loss'][mean_metric]), plus_minus_std(sheet.loc['loss'][std_metric]),\n",
    "        round_mean(sheet.loc['dice'][mean_metric]), plus_minus_std(sheet.loc['dice'][std_metric]),\n",
    "        round_mean(sheet.loc['jaccard'][mean_metric]), plus_minus_std(sheet.loc['jaccard'][std_metric]),\n",
    "        round_mean(sheet.loc['precision'][mean_metric]), plus_minus_std(sheet.loc['precision'][std_metric]),\n",
    "        round_mean(sheet.loc['recall'][mean_metric]), plus_minus_std(sheet.loc['recall'][std_metric]),\n",
    "    ]\n",
    "\n",
    "\n",
    "def insert_mean_sheet(sheet, mean_train, mean_val, mean_test):\n",
    "    sheet['mean_train_' + str(image_size)] = mean_train\n",
    "    sheet['mean_val_' + str(image_size)] = mean_val\n",
    "    sheet['mean_test_' + str(image_size)] = mean_test\n",
    "\n",
    "def save_xlsx_csv(filename, sheet):\n",
    "    sheet.to_excel(filename + '.xlsx', na_rep='', engine='xlsxwriter')\n",
    "    sheet.to_csv(filename + '.csv', sep=';', na_rep='', quoting=csv.QUOTE_ALL, index=None)\n",
    "\n",
    "for file in sorted(list_files):\n",
    "    sheet_cfg = pd.read_csv(str(file).replace('mean.csv', 'cfg.csv'), header=None, sep=';', index_col=0)\n",
    "    color_mode = sheet_cfg.loc['channel'][1]\n",
    "    image_size = sheet_cfg.loc['image_size'][1]\n",
    "\n",
    "    sheet_mean = pd.read_csv(file, sep=';', index_col=0)\n",
    "    mean_train = get_mean(sheet_mean, 'train')\n",
    "    mean_val = get_mean(sheet_mean, 'val')\n",
    "    mean_test = get_mean(sheet_mean, 'test')\n",
    "\n",
    "    if color_mode == str(1):\n",
    "        insert_mean_sheet(sheet_grayscale, mean_train, mean_val, mean_test)\n",
    "    else:\n",
    "        insert_mean_sheet(sheet_rgb, mean_train, mean_val, mean_test)\n",
    "save_xlsx_csv('mean_grayscale', sheet_grayscale)\n",
    "save_xlsx_csv('mean_rgb', sheet_rgb)"
   ],
   "metadata": {
    "collapsed": false
   }
  }
 ],
 "metadata": {
  "kernelspec": {
   "display_name": "Python 3",
   "language": "python",
   "name": "python3"
  },
  "language_info": {
   "codemirror_mode": {
    "name": "ipython",
    "version": 2
   },
   "file_extension": ".py",
   "mimetype": "text/x-python",
   "name": "python",
   "nbconvert_exporter": "python",
   "pygments_lexer": "ipython2",
   "version": "2.7.6"
  }
 },
 "nbformat": 4,
 "nbformat_minor": 0
}
