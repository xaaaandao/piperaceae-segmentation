{
 "cells": [
  {
   "cell_type": "code",
   "execution_count": null,
   "outputs": [],
   "source": [
    "import csv\n",
    "import datetime\n",
    "import ipynbname\n",
    "import math\n",
    "import numpy\n",
    "import os\n",
    "import pandas\n",
    "import pathlib\n",
    "import skimage.io\n",
    "import sklearn.model_selection\n",
    "import tensorflow\n",
    "import time\n",
    "\n",
    "from metrics import dice_coef, jaccard_distance\n",
    "from model import unet_model, get_loss_function"
   ],
   "metadata": {
    "collapsed": false,
    "pycharm": {
     "name": "#%%\n"
    }
   }
  },
  {
   "cell_type": "code",
   "execution_count": null,
   "outputs": [],
   "source": [
    "cfg = {\n",
    "    \"channel\": 3,\n",
    "    \"batch_size\": 4,\n",
    "    \"fold\": 5,\n",
    "    \"epochs\": 75,\n",
    "    \"image_size\": 400,\n",
    "    \"learning_rate\": 0.001,\n",
    "    \"random_state\": 1234,\n",
    "    \"test_size\": 0.2,\n",
    "    \"val_size\": 0.05,\n",
    "    \"path_dataset\": \"dataset\",\n",
    "    \"path_out\": \"out\",\n",
    "    \"loss_function\": \"dice\",\n",
    "    \"data_augmentation\": False\n",
    "}\n",
    "images_folder = os.path.join(cfg[\"path_dataset\"], \"IMAGEM_ORIGINAL\", \"CONVERTIDAS\", \"RGB\", \"400\", \"OUT\")\n",
    "masks_folder = os.path.join(cfg[\"path_dataset\"], \"MASK\", \"BITMAP\", \"400\", \"OUT\")"
   ],
   "metadata": {
    "collapsed": false,
    "pycharm": {
     "name": "#%%\n"
    }
   }
  },
  {
   "cell_type": "code",
   "execution_count": null,
   "metadata": {
    "collapsed": true,
    "pycharm": {
     "name": "#%%\n"
    }
   },
   "outputs": [],
   "source": [
    "list_images = sorted(list([file for file in pathlib.Path(images_folder).rglob(\"*\")]))\n",
    "list_masks = sorted(list([file for file in pathlib.Path(masks_folder).rglob(\"*\")]))\n",
    "\n",
    "x_train, x_val, y_train, y_val = sklearn.model_selection.train_test_split(list_images, list_masks, test_size=cfg[\"test_size\"], random_state=cfg[\"random_state\"])\n",
    "len(x_train), len(x_val)"
   ]
  },
  {
   "cell_type": "code",
   "execution_count": null,
   "outputs": [],
   "source": [
    "class CreateSequence(tensorflow.keras.utils.Sequence):\n",
    "    \"\"\"Helper to iterate over the data (as Numpy arrays).\"\"\"\n",
    "\n",
    "    def __init__(self, batch_size, img_size, input_img_paths, target_img_paths):\n",
    "        self.batch_size = batch_size\n",
    "        self.img_size = img_size\n",
    "        self.input_img_paths = input_img_paths\n",
    "        self.target_img_paths = target_img_paths\n",
    "\n",
    "    def __len__(self):\n",
    "        return len(self.target_img_paths) // self.batch_size\n",
    "\n",
    "    def __getitem__(self, idx):\n",
    "        \"\"\"Returns tuple (input, target) correspond to batch #idx.\"\"\"\n",
    "        i = idx * self.batch_size\n",
    "        batch_input_img_paths = self.input_img_paths[i : i + self.batch_size]\n",
    "        batch_target_img_paths = self.target_img_paths[i : i + self.batch_size]\n",
    "        x = numpy.zeros((self.batch_size,) + self.img_size + (3,), dtype=\"float32\")\n",
    "        for j, path in enumerate(batch_input_img_paths):\n",
    "            img = skimage.io.imread(path)\n",
    "            img = numpy.float32(img/255)\n",
    "            x[j] = img\n",
    "        y = numpy.zeros((self.batch_size,) + self.img_size, dtype=\"float32\")\n",
    "        for j, path in enumerate(batch_target_img_paths):\n",
    "            img = skimage.io.imread(path)\n",
    "            img = numpy.float32(img/255)\n",
    "            y[j] = img\n",
    "        return x, y"
   ],
   "metadata": {
    "collapsed": false,
    "pycharm": {
     "name": "#%%\n"
    }
   }
  },
  {
   "cell_type": "code",
   "execution_count": null,
   "outputs": [],
   "source": [
    "train_data = CreateSequence(cfg[\"batch_size\"], (cfg[\"image_size\"], cfg[\"image_size\"]), list_images, list_masks)\n",
    "val_data = CreateSequence(cfg[\"batch_size\"], (cfg[\"image_size\"], cfg[\"image_size\"]), x_val, y_val)"
   ],
   "metadata": {
    "collapsed": false,
    "pycharm": {
     "name": "#%%\n"
    }
   }
  },
  {
   "cell_type": "code",
   "execution_count": null,
   "outputs": [],
   "source": [
    "current_datetime = datetime.datetime.now().strftime(\"%d-%m-%Y-%H-%M-%S\")\n",
    "path_model = os.path.join(cfg[\"path_out\"], \"train\", current_datetime)\n",
    "pathlib.Path(path_model).mkdir(parents=True, exist_ok=True)\n",
    "\n",
    "steps_per_epoch = math.ceil(len(images_folder) / cfg[\"batch_size\"])\n",
    "reduce_learning_rate = tensorflow.keras.callbacks.ReduceLROnPlateau(monitor=\"loss\", factor=0.5, patience=3, verbose=1)\n",
    "filename_model = os.path.join(path_model, \"unet.h5\")\n",
    "checkpointer = tensorflow.keras.callbacks.ModelCheckpoint(filename_model, verbose=1, save_best_only=True)\n",
    "strategy = tensorflow.distribute.MirroredStrategy()\n",
    "\n",
    "with strategy.scope():\n",
    "    model = unet_model(cfg)\n",
    "    adam_opt = tensorflow.keras.optimizers.Adam(learning_rate=cfg[\"learning_rate\"])\n",
    "    model.compile(optimizer=adam_opt, loss=get_loss_function(cfg[\"loss_function\"]), metrics=[dice_coef, jaccard_distance, tensorflow.keras.metrics.Precision(), tensorflow.keras.metrics.Recall()])\n",
    "\n",
    "tensorflow.keras.backend.clear_session()\n",
    "start_time = time.time()\n",
    "fit = model.fit(train_data, steps_per_epoch=steps_per_epoch, epochs=cfg[\"epochs\"], validation_data=val_data, callbacks=[checkpointer, reduce_learning_rate])\n",
    "end_time = time.time() - start_time"
   ],
   "metadata": {
    "collapsed": false,
    "pycharm": {
     "name": "#%%\n"
    }
   }
  },
  {
   "cell_type": "code",
   "execution_count": null,
   "outputs": [],
   "source": [
    "columns = [\"batch_size\", \"epochs\", \"learning_rate\", \"loss_function\", \"images\", \"masks\", \"len_images\", \"len_masks\", \"channel\", \"image_size\", \"fold\", \"test_size\", \"val_size\", \"random_state\", \"path_dataset\", \"path_out\", \"data_augmentation\", \"filename_script\", \"time\"]\n",
    "data = [cfg[\"batch_size\"], cfg[\"epochs\"], cfg[\"learning_rate\"], cfg[\"loss_function\"], images_folder, masks_folder, len(list_images), len(list_masks), cfg[\"channel\"], cfg[\"image_size\"], cfg[\"fold\"], cfg[\"test_size\"], cfg[\"val_size\"], cfg[\"random_state\"], cfg[\"path_dataset\"], cfg[\"path_out\"], cfg[\"data_augmentation\"], ipynbname.name(), time.strftime(\"%H:%M:%S\", time.gmtime(end_time))]\n",
    "\n",
    "dataframe_cfg = pandas.DataFrame(data, columns)\n",
    "dataframe_cfg = dataframe_cfg.applymap(lambda x: str(x).replace(\".\", \",\") if isinstance(x,float) else x)\n",
    "dataframe_cfg.to_csv(os.path.join(path_model, \"cfg.csv\"), decimal=\",\", sep=\";\", na_rep=\" \", header=False, quoting=csv.QUOTE_ALL)\n",
    "dataframe_cfg"
   ],
   "metadata": {
    "collapsed": false,
    "pycharm": {
     "name": "#%%\n"
    }
   }
  }
 ],
 "metadata": {
  "kernelspec": {
   "display_name": "Python 3",
   "language": "python",
   "name": "python3"
  },
  "language_info": {
   "codemirror_mode": {
    "name": "ipython",
    "version": 2
   },
   "file_extension": ".py",
   "mimetype": "text/x-python",
   "name": "python",
   "nbconvert_exporter": "python",
   "pygments_lexer": "ipython2",
   "version": "2.7.6"
  }
 },
 "nbformat": 4,
 "nbformat_minor": 0
}