{
 "cells": [
  {
   "cell_type": "code",
   "execution_count": 1,
   "outputs": [],
   "source": [
    "%reload_ext autoreload\n",
    "%autoreload 2\n",
    "%matplotlib inline\n",
    "import collections\n",
    "import sklearn.model_selection\n",
    "\n",
    "from classes import *\n",
    "from files import create_outfile_each_fold, create_outfile_mean, get_path_outfile_each_fold, get_path_mean, save_figs\n",
    "from gpu import set_avx_avx2, set_gpu\n",
    "from metrics import calculate_iou_dice, dice_loss, jaccard_distance_loss, jaccard_distance, dice_coef\n",
    "from model import cfg_model, train_model"
   ],
   "metadata": {
    "collapsed": false,
    "pycharm": {
     "name": "#%%\n"
    }
   }
  },
  {
   "cell_type": "code",
   "execution_count": 2,
   "outputs": [
    {
     "data": {
      "text/plain": "'2.8.2'"
     },
     "execution_count": 2,
     "metadata": {},
     "output_type": "execute_result"
    }
   ],
   "source": [
    "tensorflow.__version__"
   ],
   "metadata": {
    "collapsed": false,
    "pycharm": {
     "name": "#%%\n"
    }
   }
  },
  {
   "cell_type": "markdown",
   "source": [
    "# GPU"
   ],
   "metadata": {
    "collapsed": false,
    "pycharm": {
     "name": "#%% md\n"
    }
   }
  },
  {
   "cell_type": "code",
   "execution_count": 3,
   "outputs": [
    {
     "name": "stdout",
     "output_type": "stream",
     "text": [
      "GPU: /physical_device:GPU:0\n"
     ]
    }
   ],
   "source": [
    "set_avx_avx2()\n",
    "set_gpu()"
   ],
   "metadata": {
    "collapsed": false,
    "pycharm": {
     "name": "#%%\n"
    }
   }
  },
  {
   "cell_type": "code",
   "execution_count": 4,
   "outputs": [],
   "source": [
    "cfg = {\n",
    "    \"channel\": 1,\n",
    "    \"batch_size\": 4,\n",
    "    \"cross_validation\": 5,\n",
    "    \"epochs\": 75,\n",
    "    \"image_size\": 400,\n",
    "    \"learning_rate\": 0.001,\n",
    "    \"random_state\": 1234,\n",
    "    \"test_size\": 0.2,\n",
    "    \"val_size\": 0.05,\n",
    "    \"path_base\": \"dataset\",\n",
    "    \"path_out\": \"out\"\n",
    "}"
   ],
   "metadata": {
    "collapsed": false,
    "pycharm": {
     "name": "#%%\n"
    }
   }
  },
  {
   "cell_type": "code",
   "execution_count": 5,
   "outputs": [
    {
     "data": {
      "text/plain": "375"
     },
     "execution_count": 5,
     "metadata": {},
     "output_type": "execute_result"
    }
   ],
   "source": [
    "path_images = os.path.join(cfg[\"path_base\"], \"grayscale/images_grayscale_400_400\")\n",
    "path_mask = os.path.join(cfg[\"path_base\"], \"mask\")\n",
    "piperaceae_dataset = Dataset(cfg, path_images, path_mask)\n",
    "len(getattr(piperaceae_dataset, \"list_images\"))"
   ],
   "metadata": {
    "collapsed": false,
    "pycharm": {
     "name": "#%%\n"
    }
   }
  },
  {
   "cell_type": "code",
   "execution_count": 6,
   "outputs": [
    {
     "data": {
      "text/plain": "Counter({'manekia': 75,\n         'ottonia': 75,\n         'peperomia': 75,\n         'piper': 75,\n         'pothomorphe': 75})"
     },
     "execution_count": 6,
     "metadata": {},
     "output_type": "execute_result"
    }
   ],
   "source": [
    "list_images = getattr(piperaceae_dataset, \"list_images\")\n",
    "x = numpy.array(list([l for l in list_images]), dtype=object)\n",
    "y = numpy.array(list([getattr(l[\"image\"], \"label\").value for l in list_images]))\n",
    "\n",
    "collections.Counter(y.tolist())"
   ],
   "metadata": {
    "collapsed": false,
    "pycharm": {
     "name": "#%%\n"
    }
   }
  },
  {
   "cell_type": "code",
   "execution_count": 7,
   "outputs": [
    {
     "data": {
      "text/plain": "5"
     },
     "execution_count": 7,
     "metadata": {},
     "output_type": "execute_result"
    }
   ],
   "source": [
    "index = sklearn.model_selection.StratifiedKFold(n_splits=cfg[\"cross_validation\"], shuffle=True, random_state=cfg[\"random_state\"])\n",
    "list_index = list([Index(fold, index_train, index_test) for fold, (index_train, index_test) in enumerate(index.split(x, y))])\n",
    "len(list_index)"
   ],
   "metadata": {
    "collapsed": false,
    "pycharm": {
     "name": "#%%\n"
    }
   }
  },
  {
   "cell_type": "code",
   "execution_count": 8,
   "outputs": [
    {
     "data": {
      "text/plain": "Counter({0: 1,\n         1: 1,\n         2: 1,\n         3: 1,\n         4: 1,\n         5: 1,\n         6: 1,\n         7: 1,\n         8: 1,\n         9: 1,\n         10: 1,\n         11: 1,\n         12: 1,\n         13: 1,\n         14: 1,\n         15: 1,\n         16: 1,\n         17: 1,\n         18: 1,\n         19: 1,\n         20: 1,\n         21: 1,\n         22: 1,\n         23: 1,\n         24: 1,\n         25: 1,\n         26: 1,\n         27: 1,\n         28: 1,\n         29: 1,\n         30: 1,\n         31: 1,\n         32: 1,\n         33: 1,\n         34: 1,\n         35: 1,\n         36: 1,\n         37: 1,\n         38: 1,\n         39: 1,\n         40: 1,\n         41: 1,\n         42: 1,\n         43: 1,\n         44: 1,\n         45: 1,\n         46: 1,\n         47: 1,\n         48: 1,\n         49: 1,\n         50: 1,\n         51: 1,\n         52: 1,\n         53: 1,\n         54: 1,\n         55: 1,\n         56: 1,\n         57: 1,\n         58: 1,\n         59: 1,\n         60: 1,\n         61: 1,\n         62: 1,\n         63: 1,\n         64: 1,\n         65: 1,\n         66: 1,\n         67: 1,\n         68: 1,\n         69: 1,\n         70: 1,\n         71: 1,\n         72: 1,\n         73: 1,\n         74: 1,\n         75: 1,\n         76: 1,\n         77: 1,\n         78: 1,\n         79: 1,\n         80: 1,\n         81: 1,\n         82: 1,\n         83: 1,\n         84: 1,\n         85: 1,\n         86: 1,\n         87: 1,\n         88: 1,\n         89: 1,\n         90: 1,\n         91: 1,\n         92: 1,\n         93: 1,\n         94: 1,\n         95: 1,\n         96: 1,\n         97: 1,\n         98: 1,\n         99: 1,\n         100: 1,\n         101: 1,\n         102: 1,\n         103: 1,\n         104: 1,\n         105: 1,\n         106: 1,\n         107: 1,\n         108: 1,\n         109: 1,\n         110: 1,\n         111: 1,\n         112: 1,\n         113: 1,\n         114: 1,\n         115: 1,\n         116: 1,\n         117: 1,\n         118: 1,\n         119: 1,\n         120: 1,\n         121: 1,\n         122: 1,\n         123: 1,\n         124: 1,\n         125: 1,\n         126: 1,\n         127: 1,\n         128: 1,\n         129: 1,\n         130: 1,\n         131: 1,\n         132: 1,\n         133: 1,\n         134: 1,\n         135: 1,\n         136: 1,\n         137: 1,\n         138: 1,\n         139: 1,\n         140: 1,\n         141: 1,\n         142: 1,\n         143: 1,\n         144: 1,\n         145: 1,\n         146: 1,\n         147: 1,\n         148: 1,\n         149: 1,\n         150: 1,\n         151: 1,\n         152: 1,\n         153: 1,\n         154: 1,\n         155: 1,\n         156: 1,\n         157: 1,\n         158: 1,\n         159: 1,\n         160: 1,\n         161: 1,\n         162: 1,\n         163: 1,\n         164: 1,\n         165: 1,\n         166: 1,\n         167: 1,\n         168: 1,\n         169: 1,\n         170: 1,\n         171: 1,\n         172: 1,\n         173: 1,\n         174: 1,\n         175: 1,\n         176: 1,\n         177: 1,\n         178: 1,\n         179: 1,\n         180: 1,\n         181: 1,\n         182: 1,\n         183: 1,\n         184: 1,\n         185: 1,\n         186: 1,\n         187: 1,\n         188: 1,\n         189: 1,\n         190: 1,\n         191: 1,\n         192: 1,\n         193: 1,\n         194: 1,\n         195: 1,\n         196: 1,\n         197: 1,\n         198: 1,\n         199: 1,\n         200: 1,\n         201: 1,\n         202: 1,\n         203: 1,\n         204: 1,\n         205: 1,\n         206: 1,\n         207: 1,\n         208: 1,\n         209: 1,\n         210: 1,\n         211: 1,\n         212: 1,\n         213: 1,\n         214: 1,\n         215: 1,\n         216: 1,\n         217: 1,\n         218: 1,\n         219: 1,\n         220: 1,\n         221: 1,\n         222: 1,\n         223: 1,\n         224: 1,\n         225: 1,\n         226: 1,\n         227: 1,\n         228: 1,\n         229: 1,\n         230: 1,\n         231: 1,\n         232: 1,\n         233: 1,\n         234: 1,\n         235: 1,\n         236: 1,\n         237: 1,\n         238: 1,\n         239: 1,\n         240: 1,\n         241: 1,\n         242: 1,\n         243: 1,\n         244: 1,\n         245: 1,\n         246: 1,\n         247: 1,\n         248: 1,\n         249: 1,\n         250: 1,\n         251: 1,\n         252: 1,\n         253: 1,\n         254: 1,\n         255: 1,\n         256: 1,\n         257: 1,\n         258: 1,\n         259: 1,\n         260: 1,\n         261: 1,\n         262: 1,\n         263: 1,\n         264: 1,\n         265: 1,\n         266: 1,\n         267: 1,\n         268: 1,\n         269: 1,\n         270: 1,\n         271: 1,\n         272: 1,\n         273: 1,\n         274: 1,\n         275: 1,\n         276: 1,\n         277: 1,\n         278: 1,\n         279: 1,\n         280: 1,\n         281: 1,\n         282: 1,\n         283: 1,\n         284: 1,\n         285: 1,\n         286: 1,\n         287: 1,\n         288: 1,\n         289: 1,\n         290: 1,\n         291: 1,\n         292: 1,\n         293: 1,\n         294: 1,\n         295: 1,\n         296: 1,\n         297: 1,\n         298: 1,\n         299: 1,\n         300: 1,\n         301: 1,\n         302: 1,\n         303: 1,\n         304: 1,\n         305: 1,\n         306: 1,\n         307: 1,\n         308: 1,\n         309: 1,\n         310: 1,\n         311: 1,\n         312: 1,\n         313: 1,\n         314: 1,\n         315: 1,\n         316: 1,\n         317: 1,\n         318: 1,\n         319: 1,\n         320: 1,\n         321: 1,\n         322: 1,\n         323: 1,\n         324: 1,\n         325: 1,\n         326: 1,\n         327: 1,\n         328: 1,\n         329: 1,\n         330: 1,\n         331: 1,\n         332: 1,\n         333: 1,\n         334: 1,\n         335: 1,\n         336: 1,\n         337: 1,\n         338: 1,\n         339: 1,\n         340: 1,\n         341: 1,\n         342: 1,\n         343: 1,\n         344: 1,\n         345: 1,\n         346: 1,\n         347: 1,\n         348: 1,\n         349: 1,\n         350: 1,\n         351: 1,\n         352: 1,\n         353: 1,\n         354: 1,\n         355: 1,\n         356: 1,\n         357: 1,\n         358: 1,\n         359: 1,\n         360: 1,\n         361: 1,\n         362: 1,\n         363: 1,\n         364: 1,\n         365: 1,\n         366: 1,\n         367: 1,\n         368: 1,\n         369: 1,\n         370: 1,\n         371: 1,\n         372: 1,\n         373: 1,\n         374: 1})"
     },
     "execution_count": 8,
     "metadata": {},
     "output_type": "execute_result"
    }
   ],
   "source": [
    "import itertools\n",
    "list_index_test = list([getattr(i, \"index_test\").tolist() for i in list_index])\n",
    "collections.Counter(sorted(list(itertools.chain(*list_index_test))))"
   ],
   "metadata": {
    "collapsed": false,
    "pycharm": {
     "name": "#%%\n"
    }
   }
  },
  {
   "cell_type": "code",
   "execution_count": 9,
   "outputs": [
    {
     "name": "stdout",
     "output_type": "stream",
     "text": [
      "0\n",
      "(285, 400, 400, 1) (285, 400, 400, 1)\n",
      "(75, 400, 400, 1) (75, 400, 400, 1)\n",
      "(15, 400, 400, 1) (15, 400, 400, 1)\n",
      "INFO:tensorflow:Using MirroredStrategy with devices ('/job:localhost/replica:0/task:0/device:GPU:0',)\n",
      "INFO:tensorflow:Reduce to /job:localhost/replica:0/task:0/device:CPU:0 then broadcast to ('/job:localhost/replica:0/task:0/device:CPU:0',).\n",
      "INFO:tensorflow:Reduce to /job:localhost/replica:0/task:0/device:CPU:0 then broadcast to ('/job:localhost/replica:0/task:0/device:CPU:0',).\n",
      "INFO:tensorflow:Reduce to /job:localhost/replica:0/task:0/device:CPU:0 then broadcast to ('/job:localhost/replica:0/task:0/device:CPU:0',).\n",
      "INFO:tensorflow:Reduce to /job:localhost/replica:0/task:0/device:CPU:0 then broadcast to ('/job:localhost/replica:0/task:0/device:CPU:0',).\n",
      "INFO:tensorflow:Reduce to /job:localhost/replica:0/task:0/device:CPU:0 then broadcast to ('/job:localhost/replica:0/task:0/device:CPU:0',).\n",
      "INFO:tensorflow:Reduce to /job:localhost/replica:0/task:0/device:CPU:0 then broadcast to ('/job:localhost/replica:0/task:0/device:CPU:0',).\n",
      "INFO:tensorflow:Reduce to /job:localhost/replica:0/task:0/device:CPU:0 then broadcast to ('/job:localhost/replica:0/task:0/device:CPU:0',).\n",
      "INFO:tensorflow:Reduce to /job:localhost/replica:0/task:0/device:CPU:0 then broadcast to ('/job:localhost/replica:0/task:0/device:CPU:0',).\n",
      "INFO:tensorflow:Reduce to /job:localhost/replica:0/task:0/device:CPU:0 then broadcast to ('/job:localhost/replica:0/task:0/device:CPU:0',).\n",
      "INFO:tensorflow:Reduce to /job:localhost/replica:0/task:0/device:CPU:0 then broadcast to ('/job:localhost/replica:0/task:0/device:CPU:0',).\n"
     ]
    },
    {
     "name": "stderr",
     "output_type": "stream",
     "text": [
      "C:\\Users\\xandao\\anaconda3\\lib\\site-packages\\albumentations\\augmentations\\transforms.py:1613: FutureWarning: This class has been deprecated. Please use RandomBrightnessContrast\n",
      "  warnings.warn(\n",
      "C:\\Users\\xandao\\anaconda3\\lib\\site-packages\\albumentations\\augmentations\\transforms.py:1639: FutureWarning: RandomContrast has been deprecated. Please use RandomBrightnessContrast\n",
      "  warnings.warn(\n"
     ]
    },
    {
     "name": "stdout",
     "output_type": "stream",
     "text": [
      "Epoch 1/75\n",
      "22/72 [========>.....................] - ETA: 20s - loss: 0.7049 - dice_coef: 0.4504 - jaccard_distance: 0.2951 - precision: 0.7672 - recall: 0.4876"
     ]
    },
    {
     "name": "stderr",
     "output_type": "stream",
     "text": [
      "\n",
      "KeyboardInterrupt\n",
      "\n"
     ]
    }
   ],
   "source": [
    "def get_image(cfg, list_images):\n",
    "    images = list([getattr(image[\"image\"], \"image\") for image in list_images])\n",
    "    mask = list([getattr(image[\"mask\"], \"image\") for image in list_images])\n",
    "    x = numpy.array(images).reshape((len(images), cfg[\"image_size\"], cfg[\"image_size\"], cfg[\"channel\"]))\n",
    "    y = numpy.array(mask).reshape((len(mask), cfg[\"image_size\"], cfg[\"image_size\"], 1))\n",
    "    return x, y\n",
    "\n",
    "\n",
    "list_result = list([])\n",
    "list_elapsed_time = list([])\n",
    "path = get_path_mean(cfg)\n",
    "pathlib.Path(path).mkdir(parents=True, exist_ok=True)\n",
    "for index in list_index:\n",
    "    fold = str(getattr(index, \"fold\"))\n",
    "    print(fold)\n",
    "    path_outfile_each_fold = get_path_outfile_each_fold(fold, path)\n",
    "    pathlib.Path(path_outfile_each_fold).mkdir(parents=True, exist_ok=True)\n",
    "\n",
    "    index_train = getattr(index, \"index_train\")\n",
    "    index_test = getattr(index, \"index_test\")\n",
    "\n",
    "    x_train_o, y_train_o = x[index_train], y[index_train]\n",
    "    x_test_o, y_test_o = x[index_test], y[index_test]\n",
    "    x_train_o, x_val_o, y_train_o, y_val_o = sklearn.model_selection.train_test_split(x_train_o, y_train_o, test_size=cfg[\"val_size\"], random_state=cfg[\"random_state\"])\n",
    "\n",
    "    x_train, y_train = get_image(cfg, x_train_o)\n",
    "    x_test, y_test = get_image(cfg, x_test_o)\n",
    "    x_val, y_val = get_image(cfg, x_val_o)\n",
    "\n",
    "    print(x_train.shape, y_train.shape)\n",
    "    print(x_test.shape, y_test.shape)\n",
    "    print(x_val.shape, y_val.shape)\n",
    "\n",
    "    checkpointer, reduce_learning_rate, steps_per_epoch, strategy, train_generator, unet_filename = cfg_model(cfg, fold, path_outfile_each_fold, x_train, y_train)\n",
    "\n",
    "    if os.path.exists(unet_filename):\n",
    "        model = tensorflow.keras.models.load_model(unet_filename, custom_objects = {\"jaccard_distance_loss\": jaccard_distance_loss, \"dice_coef\": dice_coef, \"jaccard_distance\": jaccard_distance })\n",
    "    else:\n",
    "        elapsed_time, model = train_model(cfg, checkpointer, fold, path_outfile_each_fold, reduce_learning_rate, steps_per_epoch, strategy, train_generator, x_val, y_val)\n",
    "\n",
    "    metrics = calculate_iou_dice(model, x_test, x_train, x_val, y_test, y_train, y_val)\n",
    "    list_elapsed_time.append(elapsed_time)\n",
    "    list_result.append(metrics)\n",
    "    create_outfile_each_fold(elapsed_time, fold, metrics, path_outfile_each_fold)\n",
    "    save_figs(cfg, model, path_outfile_each_fold, x_test_o, x_train_o, x_val_o, y_test_o, y_train_o, y_val_o)"
   ],
   "metadata": {
    "collapsed": false,
    "pycharm": {
     "name": "#%%\n"
    }
   }
  },
  {
   "cell_type": "code",
   "execution_count": null,
   "outputs": [],
   "source": [
    "create_outfile_mean(cfg, list_elapsed_time, list_result, path)\n",
    "len(list_result)"
   ],
   "metadata": {
    "collapsed": false,
    "pycharm": {
     "name": "#%%\n"
    }
   }
  },
  {
   "cell_type": "code",
   "execution_count": null,
   "outputs": [],
   "source": [],
   "metadata": {
    "collapsed": false,
    "pycharm": {
     "name": "#%%\n"
    }
   }
  }
 ],
 "metadata": {
  "kernelspec": {
   "display_name": "Python 3",
   "language": "python",
   "name": "python3"
  },
  "language_info": {
   "codemirror_mode": {
    "name": "ipython",
    "version": 2
   },
   "file_extension": ".py",
   "mimetype": "text/x-python",
   "name": "python",
   "nbconvert_exporter": "python",
   "pygments_lexer": "ipython2",
   "version": "2.7.6"
  }
 },
 "nbformat": 4,
 "nbformat_minor": 0
}