{
 "cells": [
  {
   "cell_type": "code",
   "execution_count": 10,
   "outputs": [],
   "source": [
    "%reload_ext autoreload\n",
    "%autoreload 2\n",
    "%matplotlib inline\n",
    "import collections\n",
    "import sklearn.model_selection\n",
    "\n",
    "from classes import *\n",
    "from files import create_outfile_each_fold, create_outfile_mean, get_path_outfile_each_fold, get_path_mean, save_figs\n",
    "from gpu import set_avx_avx2, set_gpu\n",
    "from metrics import calculate_iou_dice, dice_loss, jaccard_distance_loss\n",
    "from model import cfg_model, train_model"
   ],
   "metadata": {
    "collapsed": false,
    "pycharm": {
     "name": "#%%\n"
    }
   }
  },
  {
   "cell_type": "code",
   "execution_count": 11,
   "outputs": [
    {
     "data": {
      "text/plain": "'2.8.2'"
     },
     "execution_count": 11,
     "metadata": {},
     "output_type": "execute_result"
    }
   ],
   "source": [
    "tensorflow.__version__"
   ],
   "metadata": {
    "collapsed": false,
    "pycharm": {
     "name": "#%%\n"
    }
   }
  },
  {
   "cell_type": "markdown",
   "source": [
    "# GPU"
   ],
   "metadata": {
    "collapsed": false,
    "pycharm": {
     "name": "#%% md\n"
    }
   }
  },
  {
   "cell_type": "code",
   "execution_count": 12,
   "outputs": [
    {
     "name": "stdout",
     "output_type": "stream",
     "text": [
      "GPU: /physical_device:GPU:0\n"
     ]
    }
   ],
   "source": [
    "set_avx_avx2()\n",
    "set_gpu()"
   ],
   "metadata": {
    "collapsed": false,
    "pycharm": {
     "name": "#%%\n"
    }
   }
  },
  {
   "cell_type": "code",
   "execution_count": 31,
   "outputs": [],
   "source": [
    "cfg = {\n",
    "    \"batch_size\": 8,\n",
    "    \"cross_validation\": 2,\n",
    "    \"epochs\": 1,\n",
    "    \"image_size\": 400,\n",
    "    \"learning_rate\": 0.001,\n",
    "    \"random_state\": 1234,\n",
    "    \"test_size\": 0.2,\n",
    "    \"val_size\": 0.05,\n",
    "    \"path_base\": \"dataset\",\n",
    "    \"path_out\": \"out\"\n",
    "}"
   ],
   "metadata": {
    "collapsed": false,
    "pycharm": {
     "name": "#%%\n"
    }
   }
  },
  {
   "cell_type": "code",
   "execution_count": 21,
   "outputs": [],
   "source": [
    "def get_index(cfg):\n",
    "    return sklearn.model_selection.StratifiedShuffleSplit(n_splits=cfg[\"cross_validation\"], test_size=cfg[\"test_size\"], random_state=cfg[\"random_state\"])\n",
    "\n",
    "def get_list_index(cfg, x, y):\n",
    "    list_index = get_index(cfg)\n",
    "    return list([Index(fold, index_train, index_test) for fold, (index_train, index_test) in enumerate(list_index.split(x, y))])"
   ],
   "metadata": {
    "collapsed": false,
    "pycharm": {
     "name": "#%%\n"
    }
   }
  },
  {
   "cell_type": "code",
   "execution_count": 22,
   "outputs": [
    {
     "data": {
      "text/plain": "375"
     },
     "execution_count": 22,
     "metadata": {},
     "output_type": "execute_result"
    }
   ],
   "source": [
    "piperaceae_dataset = Dataset(cfg, os.path.join(cfg[\"path_base\"], \"grayscale/images_grayscale_400_400\"), os.path.join(cfg[\"path_base\"], \"mask\"))\n",
    "len(getattr(piperaceae_dataset, \"list_images\"))"
   ],
   "metadata": {
    "collapsed": false,
    "pycharm": {
     "name": "#%%\n"
    }
   }
  },
  {
   "cell_type": "code",
   "execution_count": 23,
   "outputs": [
    {
     "data": {
      "text/plain": "Counter({'manekia': 75,\n         'ottonia': 75,\n         'peperomia': 75,\n         'piper': 75,\n         'pothomorphe': 75})"
     },
     "execution_count": 23,
     "metadata": {},
     "output_type": "execute_result"
    }
   ],
   "source": [
    "list_images = getattr(piperaceae_dataset, \"list_images\")\n",
    "x = numpy.array(list([l for l in list_images]), dtype=object)\n",
    "y = numpy.array(list([getattr(l[\"image\"], \"label\").value for l in list_images]))\n",
    "\n",
    "collections.Counter(y.tolist())"
   ],
   "metadata": {
    "collapsed": false,
    "pycharm": {
     "name": "#%%\n"
    }
   }
  },
  {
   "cell_type": "code",
   "execution_count": 24,
   "outputs": [
    {
     "data": {
      "text/plain": "2"
     },
     "execution_count": 24,
     "metadata": {},
     "output_type": "execute_result"
    }
   ],
   "source": [
    "list_index = get_list_index(cfg, x, y)\n",
    "len(list_index)"
   ],
   "metadata": {
    "collapsed": false,
    "pycharm": {
     "name": "#%%\n"
    }
   }
  },
  {
   "cell_type": "code",
   "execution_count": null,
   "outputs": [
    {
     "name": "stdout",
     "output_type": "stream",
     "text": [
      "0\n",
      "(285, 400, 400, 1) (285, 400, 400, 1)\n",
      "(75, 400, 400, 1) (75, 400, 400, 1)\n",
      "(15, 400, 400, 1) (15, 400, 400, 1)\n",
      "INFO:tensorflow:Using MirroredStrategy with devices ('/job:localhost/replica:0/task:0/device:GPU:0',)\n",
      "36/36 [==============================] - ETA: 0s - loss: 0.6815 - dice_coef: 0.4753 - jaccard_distance: 0.3201\n",
      "Epoch 1: val_loss improved from inf to 0.87404, saving model to out\\31-07-2022-20-50-59\\0\\batch8+lr0_001+epoch1+steps36+fold0+unet.h5\n",
      "36/36 [==============================] - 124s 3s/step - loss: 0.6815 - dice_coef: 0.4753 - jaccard_distance: 0.3201 - val_loss: 0.8740 - val_dice_coef: 0.2237 - val_jaccard_distance: 0.1260 - lr: 0.0010\n",
      "time elapsed 00:02:05\n",
      "out\\31-07-2022-20-50-59\\0\\fold0-fit.pckl created\n",
      "out\\31-07-2022-20-50-59\\0\\fold0-lossgraph.png created\n",
      "['loss', 'dice_coef', 'jaccard_distance']\n",
      "fold: 0, elapsed_time: 00:02:05\n"
     ]
    },
    {
     "name": "stderr",
     "output_type": "stream",
     "text": [
      "C:\\Users\\xandao\\Documents\\GitKraken\\piperaceae-segmentation\\files.py:110: UserWarning: out\\31-07-2022-20-50-59\\0\\test\\0\\228piperALCB002452+img+mask_unet.png is a low contrast image\n",
      "  skimage.io.imsave(filename, skimage.img_as_ubyte(image))\n",
      "C:\\Users\\xandao\\Documents\\GitKraken\\piperaceae-segmentation\\files.py:110: UserWarning: out\\31-07-2022-20-50-59\\0\\test\\2\\70manekiaV0489288F_01+img+mask_unet.png is a low contrast image\n",
      "  skimage.io.imsave(filename, skimage.img_as_ubyte(image))\n",
      "C:\\Users\\xandao\\Documents\\GitKraken\\piperaceae-segmentation\\files.py:110: UserWarning: out\\31-07-2022-20-50-59\\0\\test\\3\\37manekiaNY01801087_01+img+mask_unet.png is a low contrast image\n",
      "  skimage.io.imsave(filename, skimage.img_as_ubyte(image))\n",
      "C:\\Users\\xandao\\Documents\\GitKraken\\piperaceae-segmentation\\files.py:110: UserWarning: out\\31-07-2022-20-50-59\\0\\test\\5\\138ottoniaUEC146277+img+mask_unet.png is a low contrast image\n",
      "  skimage.io.imsave(filename, skimage.img_as_ubyte(image))\n",
      "C:\\Users\\xandao\\Documents\\GitKraken\\piperaceae-segmentation\\files.py:110: UserWarning: out\\31-07-2022-20-50-59\\0\\test\\8\\342pothomorpheNL-WAG1168241+img+mask_unet.png is a low contrast image\n",
      "  skimage.io.imsave(filename, skimage.img_as_ubyte(image))\n",
      "C:\\Users\\xandao\\Documents\\GitKraken\\piperaceae-segmentation\\files.py:110: UserWarning: out\\31-07-2022-20-50-59\\0\\test\\14\\349pothomorpheNY00191845_01+img+mask_unet.png is a low contrast image\n",
      "  skimage.io.imsave(filename, skimage.img_as_ubyte(image))\n",
      "C:\\Users\\xandao\\Documents\\GitKraken\\piperaceae-segmentation\\files.py:110: UserWarning: out\\31-07-2022-20-50-59\\0\\test\\15\\115ottoniaHUEM000009829+img+mask_unet.png is a low contrast image\n",
      "  skimage.io.imsave(filename, skimage.img_as_ubyte(image))\n",
      "C:\\Users\\xandao\\Documents\\GitKraken\\piperaceae-segmentation\\files.py:110: UserWarning: out\\31-07-2022-20-50-59\\0\\test\\17\\59manekiaV0489277F_01+img+mask_unet.png is a low contrast image\n",
      "  skimage.io.imsave(filename, skimage.img_as_ubyte(image))\n",
      "C:\\Users\\xandao\\Documents\\GitKraken\\piperaceae-segmentation\\files.py:110: UserWarning: out\\31-07-2022-20-50-59\\0\\test\\20\\317pothomorpheNL-L1537987+img+mask_unet.png is a low contrast image\n",
      "  skimage.io.imsave(filename, skimage.img_as_ubyte(image))\n",
      "C:\\Users\\xandao\\Documents\\GitKraken\\piperaceae-segmentation\\files.py:110: UserWarning: out\\31-07-2022-20-50-59\\0\\test\\22\\31manekiaMBM177954+img+mask_unet.png is a low contrast image\n",
      "  skimage.io.imsave(filename, skimage.img_as_ubyte(image))\n",
      "C:\\Users\\xandao\\Documents\\GitKraken\\piperaceae-segmentation\\files.py:110: UserWarning: out\\31-07-2022-20-50-59\\0\\test\\23\\128ottoniaSPF00095033+img+mask_unet.png is a low contrast image\n",
      "  skimage.io.imsave(filename, skimage.img_as_ubyte(image))\n",
      "C:\\Users\\xandao\\Documents\\GitKraken\\piperaceae-segmentation\\files.py:110: UserWarning: out\\31-07-2022-20-50-59\\0\\test\\24\\341pothomorpheNL-WAG1168240+img+mask_unet.png is a low contrast image\n",
      "  skimage.io.imsave(filename, skimage.img_as_ubyte(image))\n",
      "C:\\Users\\xandao\\Documents\\GitKraken\\piperaceae-segmentation\\files.py:110: UserWarning: out\\31-07-2022-20-50-59\\0\\test\\35\\315pothomorpheNL-L1537985+img+mask_unet.png is a low contrast image\n",
      "  skimage.io.imsave(filename, skimage.img_as_ubyte(image))\n",
      "C:\\Users\\xandao\\Documents\\GitKraken\\piperaceae-segmentation\\files.py:110: UserWarning: out\\31-07-2022-20-50-59\\0\\test\\38\\104ottoniaFLOR0022573+img+mask_unet.png is a low contrast image\n",
      "  skimage.io.imsave(filename, skimage.img_as_ubyte(image))\n",
      "C:\\Users\\xandao\\Documents\\GitKraken\\piperaceae-segmentation\\files.py:110: UserWarning: out\\31-07-2022-20-50-59\\0\\test\\39\\325pothomorpheNL-U1478402+img+mask_unet.png is a low contrast image\n",
      "  skimage.io.imsave(filename, skimage.img_as_ubyte(image))\n",
      "C:\\Users\\xandao\\Documents\\GitKraken\\piperaceae-segmentation\\files.py:110: UserWarning: out\\31-07-2022-20-50-59\\0\\test\\40\\316pothomorpheNL-L1537986+img+mask_unet.png is a low contrast image\n",
      "  skimage.io.imsave(filename, skimage.img_as_ubyte(image))\n",
      "C:\\Users\\xandao\\Documents\\GitKraken\\piperaceae-segmentation\\files.py:110: UserWarning: out\\31-07-2022-20-50-59\\0\\test\\41\\219peperomiaSPF00127393+img+mask_unet.png is a low contrast image\n",
      "  skimage.io.imsave(filename, skimage.img_as_ubyte(image))\n",
      "C:\\Users\\xandao\\Documents\\GitKraken\\piperaceae-segmentation\\files.py:110: UserWarning: out\\31-07-2022-20-50-59\\0\\test\\42\\212peperomiaNL-U1481168+img+mask_unet.png is a low contrast image\n",
      "  skimage.io.imsave(filename, skimage.img_as_ubyte(image))\n",
      "C:\\Users\\xandao\\Documents\\GitKraken\\piperaceae-segmentation\\files.py:110: UserWarning: out\\31-07-2022-20-50-59\\0\\test\\47\\275piperHUEFS0222801+img+mask_unet.png is a low contrast image\n",
      "  skimage.io.imsave(filename, skimage.img_as_ubyte(image))\n",
      "C:\\Users\\xandao\\Documents\\GitKraken\\piperaceae-segmentation\\files.py:110: UserWarning: out\\31-07-2022-20-50-59\\0\\test\\48\\271piperFURB51271+img+mask_unet.png is a low contrast image\n",
      "  skimage.io.imsave(filename, skimage.img_as_ubyte(image))\n",
      "C:\\Users\\xandao\\Documents\\GitKraken\\piperaceae-segmentation\\files.py:110: UserWarning: out\\31-07-2022-20-50-59\\0\\test\\49\\244piperALCB002468+img+mask_unet.png is a low contrast image\n",
      "  skimage.io.imsave(filename, skimage.img_as_ubyte(image))\n",
      "C:\\Users\\xandao\\Documents\\GitKraken\\piperaceae-segmentation\\files.py:110: UserWarning: out\\31-07-2022-20-50-59\\0\\test\\51\\49manekiaSP010634+img+mask_unet.png is a low contrast image\n",
      "  skimage.io.imsave(filename, skimage.img_as_ubyte(image))\n",
      "C:\\Users\\xandao\\Documents\\GitKraken\\piperaceae-segmentation\\files.py:110: UserWarning: out\\31-07-2022-20-50-59\\0\\test\\52\\272piperG00206141+img+mask_unet.png is a low contrast image\n",
      "  skimage.io.imsave(filename, skimage.img_as_ubyte(image))\n",
      "C:\\Users\\xandao\\Documents\\GitKraken\\piperaceae-segmentation\\files.py:110: UserWarning: out\\31-07-2022-20-50-59\\0\\test\\53\\211peperomiaNL-U1481140+img+mask_unet.png is a low contrast image\n",
      "  skimage.io.imsave(filename, skimage.img_as_ubyte(image))\n",
      "C:\\Users\\xandao\\Documents\\GitKraken\\piperaceae-segmentation\\files.py:110: UserWarning: out\\31-07-2022-20-50-59\\0\\test\\54\\105ottoniaFLOR0022577+img+mask_unet.png is a low contrast image\n",
      "  skimage.io.imsave(filename, skimage.img_as_ubyte(image))\n",
      "C:\\Users\\xandao\\Documents\\GitKraken\\piperaceae-segmentation\\files.py:110: UserWarning: out\\31-07-2022-20-50-59\\0\\test\\55\\358pothomorpheNY00493902_01+img+mask_unet.png is a low contrast image\n",
      "  skimage.io.imsave(filename, skimage.img_as_ubyte(image))\n",
      "C:\\Users\\xandao\\Documents\\GitKraken\\piperaceae-segmentation\\files.py:110: UserWarning: out\\31-07-2022-20-50-59\\0\\test\\57\\207peperomiaNL-U1480499+img+mask_unet.png is a low contrast image\n",
      "  skimage.io.imsave(filename, skimage.img_as_ubyte(image))\n",
      "C:\\Users\\xandao\\Documents\\GitKraken\\piperaceae-segmentation\\files.py:110: UserWarning: out\\31-07-2022-20-50-59\\0\\test\\58\\288piperNL-L1542757+img+mask_unet.png is a low contrast image\n",
      "  skimage.io.imsave(filename, skimage.img_as_ubyte(image))\n",
      "C:\\Users\\xandao\\Documents\\GitKraken\\piperaceae-segmentation\\files.py:110: UserWarning: out\\31-07-2022-20-50-59\\0\\test\\59\\33manekiaMBM234031+img+mask_unet.png is a low contrast image\n",
      "  skimage.io.imsave(filename, skimage.img_as_ubyte(image))\n",
      "C:\\Users\\xandao\\Documents\\GitKraken\\piperaceae-segmentation\\files.py:110: UserWarning: out\\31-07-2022-20-50-59\\0\\test\\60\\146ottoniaUEC149339+img+mask_unet.png is a low contrast image\n",
      "  skimage.io.imsave(filename, skimage.img_as_ubyte(image))\n",
      "C:\\Users\\xandao\\Documents\\GitKraken\\piperaceae-segmentation\\files.py:110: UserWarning: out\\31-07-2022-20-50-59\\0\\test\\61\\286piperMBM152362+img+mask_unet.png is a low contrast image\n",
      "  skimage.io.imsave(filename, skimage.img_as_ubyte(image))\n",
      "C:\\Users\\xandao\\Documents\\GitKraken\\piperaceae-segmentation\\files.py:110: UserWarning: out\\31-07-2022-20-50-59\\0\\test\\62\\107ottoniaFLOR0023286+img+mask_unet.png is a low contrast image\n",
      "  skimage.io.imsave(filename, skimage.img_as_ubyte(image))\n",
      "C:\\Users\\xandao\\Documents\\GitKraken\\piperaceae-segmentation\\files.py:110: UserWarning: out\\31-07-2022-20-50-59\\0\\test\\63\\320pothomorpheNL-L1538037+img+mask_unet.png is a low contrast image\n",
      "  skimage.io.imsave(filename, skimage.img_as_ubyte(image))\n",
      "C:\\Users\\xandao\\Documents\\GitKraken\\piperaceae-segmentation\\files.py:110: UserWarning: out\\31-07-2022-20-50-59\\0\\test\\64\\64manekiaV0489282F_01+img+mask_unet.png is a low contrast image\n",
      "  skimage.io.imsave(filename, skimage.img_as_ubyte(image))\n",
      "C:\\Users\\xandao\\Documents\\GitKraken\\piperaceae-segmentation\\files.py:110: UserWarning: out\\31-07-2022-20-50-59\\0\\test\\65\\93ottoniaESA102003+img+mask_unet.png is a low contrast image\n",
      "  skimage.io.imsave(filename, skimage.img_as_ubyte(image))\n",
      "C:\\Users\\xandao\\Documents\\GitKraken\\piperaceae-segmentation\\files.py:110: UserWarning: out\\31-07-2022-20-50-59\\0\\test\\66\\44manekiaP00603887_01+img+mask_unet.png is a low contrast image\n",
      "  skimage.io.imsave(filename, skimage.img_as_ubyte(image))\n",
      "C:\\Users\\xandao\\Documents\\GitKraken\\piperaceae-segmentation\\files.py:110: UserWarning: out\\31-07-2022-20-50-59\\0\\test\\68\\110ottoniaFLOR0024174+img+mask_unet.png is a low contrast image\n",
      "  skimage.io.imsave(filename, skimage.img_as_ubyte(image))\n",
      "C:\\Users\\xandao\\Documents\\GitKraken\\piperaceae-segmentation\\files.py:110: UserWarning: out\\31-07-2022-20-50-59\\0\\test\\69\\360pothomorpheNY00557362_01+img+mask_unet.png is a low contrast image\n",
      "  skimage.io.imsave(filename, skimage.img_as_ubyte(image))\n",
      "C:\\Users\\xandao\\Documents\\GitKraken\\piperaceae-segmentation\\files.py:110: UserWarning: out\\31-07-2022-20-50-59\\0\\test\\70\\30manekiaMBM168196+img+mask_unet.png is a low contrast image\n",
      "  skimage.io.imsave(filename, skimage.img_as_ubyte(image))\n",
      "C:\\Users\\xandao\\Documents\\GitKraken\\piperaceae-segmentation\\files.py:110: UserWarning: out\\31-07-2022-20-50-59\\0\\test\\72\\23manekiaMBM033198+img+mask_unet.png is a low contrast image\n",
      "  skimage.io.imsave(filename, skimage.img_as_ubyte(image))\n",
      "C:\\Users\\xandao\\Documents\\GitKraken\\piperaceae-segmentation\\files.py:110: UserWarning: out\\31-07-2022-20-50-59\\0\\test\\74\\348pothomorpheNY00164656_01+img+mask_unet.png is a low contrast image\n",
      "  skimage.io.imsave(filename, skimage.img_as_ubyte(image))\n",
      "C:\\Users\\xandao\\Documents\\GitKraken\\piperaceae-segmentation\\files.py:110: UserWarning: out\\31-07-2022-20-50-59\\0\\train\\0\\216peperomiaSP011002+img+mask_unet.png is a low contrast image\n",
      "  skimage.io.imsave(filename, skimage.img_as_ubyte(image))\n",
      "C:\\Users\\xandao\\Documents\\GitKraken\\piperaceae-segmentation\\files.py:110: UserWarning: out\\31-07-2022-20-50-59\\0\\train\\2\\109ottoniaFLOR0023301_02+img+mask_unet.png is a low contrast image\n",
      "  skimage.io.imsave(filename, skimage.img_as_ubyte(image))\n",
      "C:\\Users\\xandao\\Documents\\GitKraken\\piperaceae-segmentation\\files.py:110: UserWarning: out\\31-07-2022-20-50-59\\0\\train\\3\\67manekiaV0489285F_01+img+mask_unet.png is a low contrast image\n",
      "  skimage.io.imsave(filename, skimage.img_as_ubyte(image))\n",
      "C:\\Users\\xandao\\Documents\\GitKraken\\piperaceae-segmentation\\files.py:110: UserWarning: out\\31-07-2022-20-50-59\\0\\train\\7\\227piperALCB002451+img+mask_unet.png is a low contrast image\n",
      "  skimage.io.imsave(filename, skimage.img_as_ubyte(image))\n",
      "C:\\Users\\xandao\\Documents\\GitKraken\\piperaceae-segmentation\\files.py:110: UserWarning: out\\31-07-2022-20-50-59\\0\\train\\8\\357pothomorpheNY00416482_01+img+mask_unet.png is a low contrast image\n",
      "  skimage.io.imsave(filename, skimage.img_as_ubyte(image))\n",
      "C:\\Users\\xandao\\Documents\\GitKraken\\piperaceae-segmentation\\files.py:110: UserWarning: out\\31-07-2022-20-50-59\\0\\train\\10\\324pothomorpheNL-U1478401+img+mask_unet.png is a low contrast image\n",
      "  skimage.io.imsave(filename, skimage.img_as_ubyte(image))\n",
      "C:\\Users\\xandao\\Documents\\GitKraken\\piperaceae-segmentation\\files.py:110: UserWarning: out\\31-07-2022-20-50-59\\0\\train\\11\\133ottoniaUEC016576+img+mask_unet.png is a low contrast image\n",
      "  skimage.io.imsave(filename, skimage.img_as_ubyte(image))\n",
      "C:\\Users\\xandao\\Documents\\GitKraken\\piperaceae-segmentation\\files.py:110: UserWarning: out\\31-07-2022-20-50-59\\0\\train\\12\\270piperFURB38318+img+mask_unet.png is a low contrast image\n",
      "  skimage.io.imsave(filename, skimage.img_as_ubyte(image))\n",
      "C:\\Users\\xandao\\Documents\\GitKraken\\piperaceae-segmentation\\files.py:110: UserWarning: out\\31-07-2022-20-50-59\\0\\train\\14\\261piperCEN00075963+img+mask_unet.png is a low contrast image\n",
      "  skimage.io.imsave(filename, skimage.img_as_ubyte(image))\n",
      "C:\\Users\\xandao\\Documents\\GitKraken\\piperaceae-segmentation\\files.py:110: UserWarning: out\\31-07-2022-20-50-59\\0\\train\\19\\350pothomorpheNY00192217_01+img+mask_unet.png is a low contrast image\n",
      "  skimage.io.imsave(filename, skimage.img_as_ubyte(image))\n",
      "C:\\Users\\xandao\\Documents\\GitKraken\\piperaceae-segmentation\\files.py:110: UserWarning: out\\31-07-2022-20-50-59\\0\\train\\21\\8manekiaFURB37072+img+mask_unet.png is a low contrast image\n",
      "  skimage.io.imsave(filename, skimage.img_as_ubyte(image))\n",
      "C:\\Users\\xandao\\Documents\\GitKraken\\piperaceae-segmentation\\files.py:110: UserWarning: out\\31-07-2022-20-50-59\\0\\train\\24\\240piperALCB002464+img+mask_unet.png is a low contrast image\n",
      "  skimage.io.imsave(filename, skimage.img_as_ubyte(image))\n",
      "C:\\Users\\xandao\\Documents\\GitKraken\\piperaceae-segmentation\\files.py:110: UserWarning: out\\31-07-2022-20-50-59\\0\\train\\25\\186peperomiaBHCB052424+img+mask_unet.png is a low contrast image\n",
      "  skimage.io.imsave(filename, skimage.img_as_ubyte(image))\n",
      "C:\\Users\\xandao\\Documents\\GitKraken\\piperaceae-segmentation\\files.py:110: UserWarning: out\\31-07-2022-20-50-59\\0\\train\\26\\72manekiaV0489290F_01+img+mask_unet.png is a low contrast image\n",
      "  skimage.io.imsave(filename, skimage.img_as_ubyte(image))\n",
      "C:\\Users\\xandao\\Documents\\GitKraken\\piperaceae-segmentation\\files.py:110: UserWarning: out\\31-07-2022-20-50-59\\0\\train\\27\\145ottoniaUEC149333+img+mask_unet.png is a low contrast image\n",
      "  skimage.io.imsave(filename, skimage.img_as_ubyte(image))\n",
      "C:\\Users\\xandao\\Documents\\GitKraken\\piperaceae-segmentation\\files.py:110: UserWarning: out\\31-07-2022-20-50-59\\0\\train\\28\\112ottoniaFLOR0024176+img+mask_unet.png is a low contrast image\n",
      "  skimage.io.imsave(filename, skimage.img_as_ubyte(image))\n",
      "C:\\Users\\xandao\\Documents\\GitKraken\\piperaceae-segmentation\\files.py:110: UserWarning: out\\31-07-2022-20-50-59\\0\\train\\29\\361pothomorpheNY00557363_01+img+mask_unet.png is a low contrast image\n",
      "  skimage.io.imsave(filename, skimage.img_as_ubyte(image))\n",
      "C:\\Users\\xandao\\Documents\\GitKraken\\piperaceae-segmentation\\files.py:110: UserWarning: out\\31-07-2022-20-50-59\\0\\train\\30\\7manekiaFURB02959+img+mask_unet.png is a low contrast image\n",
      "  skimage.io.imsave(filename, skimage.img_as_ubyte(image))\n",
      "C:\\Users\\xandao\\Documents\\GitKraken\\piperaceae-segmentation\\files.py:110: UserWarning: out\\31-07-2022-20-50-59\\0\\train\\33\\100ottoniaFLOR0015030+img+mask_unet.png is a low contrast image\n",
      "  skimage.io.imsave(filename, skimage.img_as_ubyte(image))\n",
      "C:\\Users\\xandao\\Documents\\GitKraken\\piperaceae-segmentation\\files.py:110: UserWarning: out\\31-07-2022-20-50-59\\0\\train\\34\\237piperALCB002461+img+mask_unet.png is a low contrast image\n",
      "  skimage.io.imsave(filename, skimage.img_as_ubyte(image))\n",
      "C:\\Users\\xandao\\Documents\\GitKraken\\piperaceae-segmentation\\files.py:110: UserWarning: out\\31-07-2022-20-50-59\\0\\train\\36\\304pothomorpheHUEFS0214753+img+mask_unet.png is a low contrast image\n",
      "  skimage.io.imsave(filename, skimage.img_as_ubyte(image))\n",
      "C:\\Users\\xandao\\Documents\\GitKraken\\piperaceae-segmentation\\files.py:110: UserWarning: out\\31-07-2022-20-50-59\\0\\train\\41\\108ottoniaFLOR0023301_01+img+mask_unet.png is a low contrast image\n",
      "  skimage.io.imsave(filename, skimage.img_as_ubyte(image))\n",
      "C:\\Users\\xandao\\Documents\\GitKraken\\piperaceae-segmentation\\files.py:110: UserWarning: out\\31-07-2022-20-50-59\\0\\train\\43\\273piperG00206863+img+mask_unet.png is a low contrast image\n",
      "  skimage.io.imsave(filename, skimage.img_as_ubyte(image))\n",
      "C:\\Users\\xandao\\Documents\\GitKraken\\piperaceae-segmentation\\files.py:110: UserWarning: out\\31-07-2022-20-50-59\\0\\train\\45\\69manekiaV0489287F_01+img+mask_unet.png is a low contrast image\n",
      "  skimage.io.imsave(filename, skimage.img_as_ubyte(image))\n",
      "C:\\Users\\xandao\\Documents\\GitKraken\\piperaceae-segmentation\\files.py:110: UserWarning: out\\31-07-2022-20-50-59\\0\\train\\47\\353pothomorpheNY00283950_01+img+mask_unet.png is a low contrast image\n",
      "  skimage.io.imsave(filename, skimage.img_as_ubyte(image))\n",
      "C:\\Users\\xandao\\Documents\\GitKraken\\piperaceae-segmentation\\files.py:110: UserWarning: out\\31-07-2022-20-50-59\\0\\train\\50\\236piperALCB002460+img+mask_unet.png is a low contrast image\n",
      "  skimage.io.imsave(filename, skimage.img_as_ubyte(image))\n",
      "C:\\Users\\xandao\\Documents\\GitKraken\\piperaceae-segmentation\\files.py:110: UserWarning: out\\31-07-2022-20-50-59\\0\\train\\51\\332pothomorpheNL-U1478412+img+mask_unet.png is a low contrast image\n",
      "  skimage.io.imsave(filename, skimage.img_as_ubyte(image))\n",
      "C:\\Users\\xandao\\Documents\\GitKraken\\piperaceae-segmentation\\files.py:110: UserWarning: out\\31-07-2022-20-50-59\\0\\train\\52\\28manekiaMBM117390+img+mask_unet.png is a low contrast image\n",
      "  skimage.io.imsave(filename, skimage.img_as_ubyte(image))\n",
      "C:\\Users\\xandao\\Documents\\GitKraken\\piperaceae-segmentation\\files.py:110: UserWarning: out\\31-07-2022-20-50-59\\0\\train\\53\\193peperomiaFURB37688+img+mask_unet.png is a low contrast image\n",
      "  skimage.io.imsave(filename, skimage.img_as_ubyte(image))\n",
      "C:\\Users\\xandao\\Documents\\GitKraken\\piperaceae-segmentation\\files.py:110: UserWarning: out\\31-07-2022-20-50-59\\0\\train\\54\\76ottoniaCRI005890+img+mask_unet.png is a low contrast image\n",
      "  skimage.io.imsave(filename, skimage.img_as_ubyte(image))\n",
      "C:\\Users\\xandao\\Documents\\GitKraken\\piperaceae-segmentation\\files.py:110: UserWarning: out\\31-07-2022-20-50-59\\0\\train\\55\\106ottoniaFLOR0022586+img+mask_unet.png is a low contrast image\n",
      "  skimage.io.imsave(filename, skimage.img_as_ubyte(image))\n",
      "C:\\Users\\xandao\\Documents\\GitKraken\\piperaceae-segmentation\\files.py:110: UserWarning: out\\31-07-2022-20-50-59\\0\\train\\56\\206peperomiaNL-U1476928+img+mask_unet.png is a low contrast image\n",
      "  skimage.io.imsave(filename, skimage.img_as_ubyte(image))\n",
      "C:\\Users\\xandao\\Documents\\GitKraken\\piperaceae-segmentation\\files.py:110: UserWarning: out\\31-07-2022-20-50-59\\0\\train\\58\\57manekiaV0489275F_01+img+mask_unet.png is a low contrast image\n",
      "  skimage.io.imsave(filename, skimage.img_as_ubyte(image))\n",
      "C:\\Users\\xandao\\Documents\\GitKraken\\piperaceae-segmentation\\files.py:110: UserWarning: out\\31-07-2022-20-50-59\\0\\train\\60\\48manekiaSP010627+img+mask_unet.png is a low contrast image\n",
      "  skimage.io.imsave(filename, skimage.img_as_ubyte(image))\n",
      "C:\\Users\\xandao\\Documents\\GitKraken\\piperaceae-segmentation\\files.py:110: UserWarning: out\\31-07-2022-20-50-59\\0\\train\\61\\11manekiaFURB37076+img+mask_unet.png is a low contrast image\n",
      "  skimage.io.imsave(filename, skimage.img_as_ubyte(image))\n",
      "C:\\Users\\xandao\\Documents\\GitKraken\\piperaceae-segmentation\\files.py:110: UserWarning: out\\31-07-2022-20-50-59\\0\\train\\63\\24manekiaMBM037869+img+mask_unet.png is a low contrast image\n",
      "  skimage.io.imsave(filename, skimage.img_as_ubyte(image))\n",
      "C:\\Users\\xandao\\Documents\\GitKraken\\piperaceae-segmentation\\files.py:110: UserWarning: out\\31-07-2022-20-50-59\\0\\train\\64\\338pothomorpheNL-U1478425+img+mask_unet.png is a low contrast image\n",
      "  skimage.io.imsave(filename, skimage.img_as_ubyte(image))\n",
      "C:\\Users\\xandao\\Documents\\GitKraken\\piperaceae-segmentation\\files.py:110: UserWarning: out\\31-07-2022-20-50-59\\0\\train\\66\\321pothomorpheNL-L1538039+img+mask_unet.png is a low contrast image\n",
      "  skimage.io.imsave(filename, skimage.img_as_ubyte(image))\n",
      "C:\\Users\\xandao\\Documents\\GitKraken\\piperaceae-segmentation\\files.py:110: UserWarning: out\\31-07-2022-20-50-59\\0\\train\\68\\122ottoniaNL-WAG1166850+img+mask_unet.png is a low contrast image\n",
      "  skimage.io.imsave(filename, skimage.img_as_ubyte(image))\n",
      "C:\\Users\\xandao\\Documents\\GitKraken\\piperaceae-segmentation\\files.py:110: UserWarning: out\\31-07-2022-20-50-59\\0\\train\\69\\245piperALCB002469+img+mask_unet.png is a low contrast image\n",
      "  skimage.io.imsave(filename, skimage.img_as_ubyte(image))\n",
      "C:\\Users\\xandao\\Documents\\GitKraken\\piperaceae-segmentation\\files.py:110: UserWarning: out\\31-07-2022-20-50-59\\0\\train\\70\\243piperALCB002467+img+mask_unet.png is a low contrast image\n",
      "  skimage.io.imsave(filename, skimage.img_as_ubyte(image))\n",
      "C:\\Users\\xandao\\Documents\\GitKraken\\piperaceae-segmentation\\files.py:110: UserWarning: out\\31-07-2022-20-50-59\\0\\train\\72\\114ottoniaFLOR0027749+img+mask_unet.png is a low contrast image\n",
      "  skimage.io.imsave(filename, skimage.img_as_ubyte(image))\n",
      "C:\\Users\\xandao\\Documents\\GitKraken\\piperaceae-segmentation\\files.py:110: UserWarning: out\\31-07-2022-20-50-59\\0\\train\\73\\195peperomiaFURB38437+img+mask_unet.png is a low contrast image\n",
      "  skimage.io.imsave(filename, skimage.img_as_ubyte(image))\n",
      "C:\\Users\\xandao\\Documents\\GitKraken\\piperaceae-segmentation\\files.py:110: UserWarning: out\\31-07-2022-20-50-59\\0\\train\\74\\269piperFURB37961+img+mask_unet.png is a low contrast image\n",
      "  skimage.io.imsave(filename, skimage.img_as_ubyte(image))\n",
      "C:\\Users\\xandao\\Documents\\GitKraken\\piperaceae-segmentation\\files.py:110: UserWarning: out\\31-07-2022-20-50-59\\0\\train\\75\\88ottoniaESA068981+img+mask_unet.png is a low contrast image\n",
      "  skimage.io.imsave(filename, skimage.img_as_ubyte(image))\n",
      "C:\\Users\\xandao\\Documents\\GitKraken\\piperaceae-segmentation\\files.py:110: UserWarning: out\\31-07-2022-20-50-59\\0\\train\\76\\337pothomorpheNL-U1478424+img+mask_unet.png is a low contrast image\n",
      "  skimage.io.imsave(filename, skimage.img_as_ubyte(image))\n",
      "C:\\Users\\xandao\\Documents\\GitKraken\\piperaceae-segmentation\\files.py:110: UserWarning: out\\31-07-2022-20-50-59\\0\\train\\77\\94ottoniaESA102603+img+mask_unet.png is a low contrast image\n",
      "  skimage.io.imsave(filename, skimage.img_as_ubyte(image))\n",
      "C:\\Users\\xandao\\Documents\\GitKraken\\piperaceae-segmentation\\files.py:110: UserWarning: out\\31-07-2022-20-50-59\\0\\train\\78\\213peperomiaNL-U1481346+img+mask_unet.png is a low contrast image\n",
      "  skimage.io.imsave(filename, skimage.img_as_ubyte(image))\n",
      "C:\\Users\\xandao\\Documents\\GitKraken\\piperaceae-segmentation\\files.py:110: UserWarning: out\\31-07-2022-20-50-59\\0\\train\\79\\200peperomiaMBM002975+img+mask_unet.png is a low contrast image\n",
      "  skimage.io.imsave(filename, skimage.img_as_ubyte(image))\n",
      "C:\\Users\\xandao\\Documents\\GitKraken\\piperaceae-segmentation\\files.py:110: UserWarning: out\\31-07-2022-20-50-59\\0\\train\\80\\62manekiaV0489280F_01+img+mask_unet.png is a low contrast image\n",
      "  skimage.io.imsave(filename, skimage.img_as_ubyte(image))\n",
      "C:\\Users\\xandao\\Documents\\GitKraken\\piperaceae-segmentation\\files.py:110: UserWarning: out\\31-07-2022-20-50-59\\0\\train\\81\\191peperomiaFURB37222+img+mask_unet.png is a low contrast image\n",
      "  skimage.io.imsave(filename, skimage.img_as_ubyte(image))\n",
      "C:\\Users\\xandao\\Documents\\GitKraken\\piperaceae-segmentation\\files.py:110: UserWarning: out\\31-07-2022-20-50-59\\0\\train\\82\\222peperomiaUEC149392+img+mask_unet.png is a low contrast image\n",
      "  skimage.io.imsave(filename, skimage.img_as_ubyte(image))\n"
     ]
    }
   ],
   "source": [
    "from metrics import jaccard_distance, dice_coef\n",
    "\n",
    "\n",
    "def get_image(cfg, list_images):\n",
    "    x = list([])\n",
    "    y = list([])\n",
    "    for image in list_images:\n",
    "        x.append(getattr(image[\"image\"], \"image\"))\n",
    "        y.append(getattr(image[\"mask\"], \"image\"))\n",
    "    x = numpy.array(x)\n",
    "    y = numpy.array(y)\n",
    "    return x.reshape(x.shape[0], cfg[\"image_size\"], cfg[\"image_size\"], 1), y.reshape(y.shape[0], cfg[\"image_size\"],\n",
    "                                                                                     cfg[\"image_size\"], 1)\n",
    "\n",
    "\n",
    "list_result = list([])\n",
    "list_elapsed_time = list([])\n",
    "path = get_path_mean(cfg)\n",
    "pathlib.Path(path).mkdir(parents=True, exist_ok=True)\n",
    "for index in list_index:\n",
    "    fold = str(getattr(index, \"fold\"))\n",
    "    print(fold)\n",
    "    path_outfile_each_fold = get_path_outfile_each_fold(fold, path)\n",
    "    pathlib.Path(path_outfile_each_fold).mkdir(parents=True, exist_ok=True)\n",
    "\n",
    "    x_train_o, y_train_o = x[getattr(index, \"index_train\")], y[getattr(index, \"index_train\")]\n",
    "    x_test_o, y_test_o = x[getattr(index, \"index_test\")], y[getattr(index, \"index_test\")]\n",
    "    x_train_o, x_val_o, y_train_o, y_val_o = sklearn.model_selection.train_test_split(x_train_o, y_train_o,\n",
    "                                                                                      test_size=cfg[\"val_size\"],\n",
    "                                                                                      random_state=cfg[\"random_state\"])\n",
    "\n",
    "    x_train, y_train = get_image(cfg, x_train_o)\n",
    "    x_test, y_test = get_image(cfg, x_test_o)\n",
    "    x_val, y_val = get_image(cfg, x_val_o)\n",
    "\n",
    "    print(x_train.shape, y_train.shape)\n",
    "    print(x_test.shape, y_test.shape)\n",
    "    print(x_val.shape, y_val.shape)\n",
    "\n",
    "    # unet_filename = \"out/31-07-2022-18-09-15/0/batch8+lr0_001+epoch3+steps36+fold0+unet.h5\"\n",
    "\n",
    "    checkpointer, reduce_learning_rate, steps_per_epoch, strategy, train_generator, unet_filename = cfg_model(cfg, fold, path_outfile_each_fold, x_train, y_train)\n",
    "    elapsed_time = None\n",
    "    if os.path.exists(unet_filename):\n",
    "        model = tensorflow.keras.models.load_model(unet_filename, custom_objects={  \"jaccard_distance_loss\": jaccard_distance_loss,\n",
    "        \"dice_coef\": dice_coef, \"jaccard_distance\": jaccard_distance\n",
    "    })\n",
    "    else:\n",
    "        elapsed_time, model = train_model(cfg, checkpointer, fold, path_outfile_each_fold, reduce_learning_rate, steps_per_epoch, strategy, train_generator, x_val, y_val)\n",
    "\n",
    "    metrics = calculate_iou_dice(model, x_test, x_train, x_val, y_test, y_train, y_val)\n",
    "    list_elapsed_time.append(elapsed_time)\n",
    "    list_result.append(metrics)\n",
    "    create_outfile_each_fold(elapsed_time, fold, metrics, path_outfile_each_fold)\n",
    "    save_figs(cfg, model, path_outfile_each_fold, x_test_o, x_train_o, x_val_o, y_test_o, y_train_o, y_val_o)"
   ],
   "metadata": {
    "collapsed": false,
    "pycharm": {
     "name": "#%%\n",
     "is_executing": true
    }
   }
  },
  {
   "cell_type": "code",
   "execution_count": null,
   "outputs": [],
   "source": [
    "create_outfile_mean(cfg, list_elapsed_time, list_result, path)\n",
    "len(list_result)"
   ],
   "metadata": {
    "collapsed": false,
    "pycharm": {
     "name": "#%%\n"
    }
   }
  },
  {
   "cell_type": "code",
   "execution_count": null,
   "outputs": [],
   "source": [],
   "metadata": {
    "collapsed": false,
    "pycharm": {
     "name": "#%%\n"
    }
   }
  }
 ],
 "metadata": {
  "kernelspec": {
   "display_name": "Python 3",
   "language": "python",
   "name": "python3"
  },
  "language_info": {
   "codemirror_mode": {
    "name": "ipython",
    "version": 2
   },
   "file_extension": ".py",
   "mimetype": "text/x-python",
   "name": "python",
   "nbconvert_exporter": "python",
   "pygments_lexer": "ipython2",
   "version": "2.7.6"
  }
 },
 "nbformat": 4,
 "nbformat_minor": 0
}