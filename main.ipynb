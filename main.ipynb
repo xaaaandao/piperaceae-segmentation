{
 "cells": [
  {
   "cell_type": "code",
   "execution_count": null,
   "outputs": [],
   "source": [
    "%reload_ext autoreload\n",
    "%autoreload 2\n",
    "%matplotlib inline\n",
    "import csv\n",
    "import cv2\n",
    "import datetime\n",
    "import ipynbname\n",
    "import math\n",
    "import numpy\n",
    "import os\n",
    "import pandas\n",
    "import pathlib\n",
    "import skimage.io\n",
    "import skimage.transform\n",
    "import sklearn.model_selection\n",
    "import tensorflow\n",
    "import time\n",
    "\n",
    "from albumentations import (\n",
    "    Compose, HorizontalFlip, ShiftScaleRotate, ElasticTransform,\n",
    "    RandomBrightness, RandomContrast, RandomGamma\n",
    ")\n",
    "\n",
    "from files import create_folder, save_fit_history, save_lossgraph, save_figs\n",
    "from metrics import dice_coef, jaccard_distance\n",
    "from model import evaluate, unet_model, get_loss_function\n",
    "from AugmentationSequence import AugmentationSequence"
   ],
   "metadata": {
    "collapsed": false,
    "pycharm": {
     "name": "#%%\n"
    }
   }
  },
  {
   "cell_type": "code",
   "execution_count": null,
   "outputs": [],
   "source": [
    "class CreateSequence(tensorflow.keras.utils.Sequence):\n",
    "    def __init__(self, x_set, y_set, batch_size):\n",
    "        self.x, self.y = x_set, y_set\n",
    "        self.batch_size = batch_size\n",
    "\n",
    "    def __len__(self):\n",
    "        return int(numpy.ceil(len(self.x) / float(self.batch_size)))\n",
    "\n",
    "    def __getitem__(self, idx):\n",
    "        batch_x = self.x[idx * self.batch_size:(idx + 1) * self.batch_size]\n",
    "        batch_y = self.y[idx * self.batch_size:(idx + 1) * self.batch_size]\n",
    "\n",
    "        return batch_x, batch_y"
   ],
   "metadata": {
    "collapsed": false,
    "pycharm": {
     "name": "#%%\n"
    }
   }
  },
  {
   "cell_type": "markdown",
   "source": [
    "# GPU"
   ],
   "metadata": {
    "collapsed": false,
    "pycharm": {
     "name": "#%% md\n"
    }
   }
  },
  {
   "cell_type": "code",
   "execution_count": null,
   "outputs": [],
   "source": [
    "gpus = tensorflow.config.experimental.list_physical_devices(\"GPU\")\n",
    "if gpus:\n",
    "    try:\n",
    "        # Currently, memory growth needs to be the same across GPUs\n",
    "        for gpu in gpus:\n",
    "            print(f\"GPU: {gpu.name}\")\n",
    "            tensorflow.config.experimental.set_memory_growth(gpu, True)\n",
    "    except RuntimeError as e:\n",
    "        print(e)"
   ],
   "metadata": {
    "collapsed": false,
    "pycharm": {
     "name": "#%%\n"
    }
   }
  },
  {
   "cell_type": "code",
   "execution_count": null,
   "outputs": [],
   "source": [
    "cfg = {\n",
    "    \"channel\": 3,\n",
    "    \"batch_size\": 4,\n",
    "    \"fold\": 5,\n",
    "    \"epochs\": 75,\n",
    "    \"image_size\": 256,\n",
    "    \"learning_rate\": 0.001,\n",
    "    \"random_state\": 1234,\n",
    "    \"test_size\": 0.2,\n",
    "    \"val_size\": 0.05,\n",
    "    \"path_dataset\": \"dataset\",\n",
    "    \"path_out\": \"out\",\n",
    "    \"loss_function\": \"dice\",\n",
    "    \"data_augmentation\": False\n",
    "}\n",
    "images_folder = os.path.join(cfg[\"path_dataset\"], \"IMAGEM_ORIGINAL\", \"CONVERTIDAS\", \"RGB\", \"256\", \"OUT\")\n",
    "masks_folder = os.path.join(cfg[\"path_dataset\"], \"MASK\", \"BITMAP\", \"256\", \"OUT\")"
   ],
   "metadata": {
    "collapsed": false,
    "pycharm": {
     "name": "#%%\n"
    }
   }
  },
  {
   "cell_type": "code",
   "execution_count": null,
   "outputs": [],
   "source": [
    "list_labels = list([])\n",
    "list_images = list([])\n",
    "list_images_names = list([])\n",
    "def load_files():\n",
    "    for file in sorted(pathlib.Path(masks_folder).rglob(\"*\")):\n",
    "        mask = skimage.io.imread(file.resolve())\n",
    "        mask = numpy.float32(mask/255)\n",
    "        list_labels.append(mask)\n",
    "\n",
    "        image = skimage.io.imread(os.path.join(images_folder, f\"{file.stem}.png\"))\n",
    "        image = numpy.float32(image/255)\n",
    "        list_images.append(image)\n",
    "\n",
    "        list_images_names.append(str(file.stem))\n",
    "\n",
    "load_files()\n",
    "print(len(list_labels), len(list_images), len(list_images_names))"
   ],
   "metadata": {
    "collapsed": false,
    "pycharm": {
     "name": "#%%\n"
    }
   }
  },
  {
   "cell_type": "code",
   "execution_count": null,
   "outputs": [],
   "source": [
    "x = numpy.array(list_images).reshape((len(list_images), cfg[\"image_size\"], cfg[\"image_size\"], cfg[\"channel\"]))\n",
    "y = numpy.array(list_labels).reshape((len(list_labels), cfg[\"image_size\"], cfg[\"image_size\"], 1))\n",
    "\n",
    "print(x.shape, y.shape)"
   ],
   "metadata": {
    "collapsed": false,
    "pycharm": {
     "name": "#%%\n"
    }
   }
  },
  {
   "cell_type": "code",
   "execution_count": null,
   "outputs": [],
   "source": [
    "kf = sklearn.model_selection.KFold(n_splits=cfg[\"fold\"], shuffle=True, random_state=cfg[\"random_state\"])\n",
    "\n",
    "models = []\n",
    "list_evaluate = list([])\n",
    "current_datetime = datetime.datetime.now().strftime(\"%d-%m-%Y-%H-%M-%S\")\n",
    "path = os.path.join(cfg[\"path_out\"], current_datetime)\n",
    "create_folder(list([path]))\n",
    "for fold, (train_index, test_index) in enumerate(kf.split(x)):\n",
    "    x_train, x_test = x[train_index], x[test_index]\n",
    "    y_train, y_test = y[train_index], y[test_index]\n",
    "    x_train, x_val, y_train, y_val = sklearn.model_selection.train_test_split(x_train, y_train, test_size=cfg[\"val_size\"], random_state=cfg[\"random_state\"])\n",
    "\n",
    "    print(x_train.shape)\n",
    "    print(x_val.shape)\n",
    "    print(x_test.shape)\n",
    "    print(x.shape)\n",
    "\n",
    "    path_fold = os.path.join(path, str(fold))\n",
    "    create_folder(list([path_fold]))\n",
    "\n",
    "    augment = Compose([\n",
    "        HorizontalFlip(),\n",
    "        ShiftScaleRotate(rotate_limit=45, border_mode=cv2.BORDER_CONSTANT),\n",
    "        ElasticTransform(border_mode=cv2.BORDER_CONSTANT),\n",
    "        RandomBrightness(),\n",
    "        RandomContrast(),\n",
    "        RandomGamma()\n",
    "    ])\n",
    "    steps_per_epoch = math.ceil(x_train.shape[0] / cfg[\"batch_size\"])\n",
    "    if cfg[\"data_augmentation\"]:\n",
    "        train_generator = AugmentationSequence(x_train, y_train, cfg[\"batch_size\"], augment)\n",
    "    else:\n",
    "        train_generator = CreateSequence(x_train, y_train, cfg[\"batch_size\"])\n",
    "    reduce_learning_rate = tensorflow.keras.callbacks.ReduceLROnPlateau(monitor=\"loss\", factor=0.5, patience=3, verbose=1)\n",
    "    filename_model = os.path.join(path_fold, \"unet.h5\")\n",
    "    checkpointer = tensorflow.keras.callbacks.ModelCheckpoint(filename_model, verbose=1, save_best_only=True)\n",
    "    strategy = tensorflow.distribute.MirroredStrategy()\n",
    "\n",
    "    with strategy.scope():\n",
    "        model = unet_model(cfg)\n",
    "        adam_opt = tensorflow.keras.optimizers.Adam(learning_rate=cfg[\"learning_rate\"])\n",
    "        model.compile(optimizer=adam_opt, loss=get_loss_function(cfg[\"loss_function\"]), metrics=[dice_coef, jaccard_distance, tensorflow.keras.metrics.Precision(), tensorflow.keras.metrics.Recall()])\n",
    "\n",
    "    tensorflow.keras.backend.clear_session()\n",
    "    start_time = time.time()\n",
    "    fit = model.fit(train_generator, steps_per_epoch=steps_per_epoch, epochs=cfg[\"epochs\"], validation_data=(x_val, y_val), callbacks=[checkpointer, reduce_learning_rate])\n",
    "    end_time = time.time() - start_time\n",
    "\n",
    "    save_fit_history(fold, fit, path_fold)\n",
    "    save_lossgraph(fold, fit, path_fold)\n",
    "    list_evaluate.append(evaluate(end_time, fold, model, x_train, x_val, x_test, y_train, y_val, y_test))\n",
    "\n",
    "    models.append(model)\n",
    "\n",
    "    # model = tensorflow.keras.models.load_model(\"unet_rgb.h5\", custom_objects = {\"dice_loss\": dice_loss, \"dice_coef\": dice_coef, \"jaccard_distance\": jaccard_distance })\n",
    "\n",
    "    save_figs(cfg, list_images_names, test_index, model, path_fold, x)\n",
    "\n",
    "tensorflow.keras.backend.clear_session()"
   ],
   "metadata": {
    "collapsed": false,
    "pycharm": {
     "name": "#%%\n"
    }
   }
  },
  {
   "cell_type": "code",
   "execution_count": null,
   "outputs": [],
   "source": [
    "columns = [\"batch_size\", \"epochs\", \"learning_rate\", \"loss_function\", \"images\", \"masks\", \"len_images\", \"len_masks\", \"channel\", \"image_size\", \"fold\", \"test_size\", \"val_size\", \"random_state\", \"path_dataset\", \"path_out\", \"data_augmentation\", \"filename_script\"]\n",
    "data = [cfg[\"batch_size\"], cfg[\"epochs\"], cfg[\"learning_rate\"], cfg[\"loss_function\"], images_folder, masks_folder, len(list_images), len(list_labels), cfg[\"channel\"], cfg[\"image_size\"], cfg[\"fold\"], cfg[\"test_size\"], cfg[\"val_size\"], cfg[\"random_state\"], cfg[\"path_dataset\"], cfg[\"path_out\"], cfg[\"data_augmentation\"], os.path.realpath(__file__)]\n",
    "\n",
    "dataframe_cfg = pandas.DataFrame(data, columns)\n",
    "dataframe_cfg = dataframe_cfg.applymap(lambda x: str(x).replace(\".\", \",\") if isinstance(x,float) else x)\n",
    "dataframe_cfg.to_csv(os.path.join(path, \"cfg.csv\"), decimal=\",\", sep=\";\", na_rep=\" \", header=False, quoting=csv.QUOTE_ALL)\n",
    "dataframe_cfg"
   ],
   "metadata": {
    "collapsed": false,
    "pycharm": {
     "name": "#%%\n"
    }
   }
  },
  {
   "cell_type": "code",
   "execution_count": null,
   "outputs": [],
   "source": [
    "def get_mean(key, list_evaluate):\n",
    "    return str(numpy.mean(list([evaluate[key] for evaluate in list_evaluate])))\n",
    "\n",
    "def get_std(key, list_evaluate):\n",
    "    return str(numpy.std(list([evaluate[key] for evaluate in list_evaluate])))\n",
    "\n",
    "dataframe_mean = pandas.DataFrame({\"mean_train\": [get_mean(\"loss_train\", list_evaluate),\n",
    "                                                  get_mean(\"dice_train\", list_evaluate),\n",
    "                                                  get_mean(\"jaccard_train\", list_evaluate),\n",
    "                                                  get_mean(\"precision_train\", list_evaluate),\n",
    "                                                  get_mean(\"recall_train\", list_evaluate)],\n",
    "                                   \"std_train\": [get_std(\"loss_train\", list_evaluate),\n",
    "                                                  get_std(\"dice_train\", list_evaluate),\n",
    "                                                  get_std(\"jaccard_train\", list_evaluate),\n",
    "                                                  get_std(\"precision_train\", list_evaluate),\n",
    "                                                  get_std(\"recall_train\", list_evaluate)],\n",
    "                                   \"mean_val\": [get_mean(\"loss_val\", list_evaluate),\n",
    "                                                  get_mean(\"dice_val\", list_evaluate),\n",
    "                                                  get_mean(\"jaccard_val\", list_evaluate),\n",
    "                                                  get_mean(\"precision_val\", list_evaluate),\n",
    "                                                  get_mean(\"recall_val\", list_evaluate)],\n",
    "                                   \"std_val\": [get_std(\"loss_val\", list_evaluate),\n",
    "                                                  get_std(\"dice_val\", list_evaluate),\n",
    "                                                  get_std(\"jaccard_val\", list_evaluate),\n",
    "                                                  get_std(\"precision_val\", list_evaluate),\n",
    "                                                  get_std(\"recall_val\", list_evaluate)],\n",
    "                                   \"mean_test\": [get_mean(\"loss_test\", list_evaluate),\n",
    "                                                  get_mean(\"dice_test\", list_evaluate),\n",
    "                                                  get_mean(\"jaccard_test\", list_evaluate),\n",
    "                                                  get_mean(\"precision_test\", list_evaluate),\n",
    "                                                  get_mean(\"recall_test\", list_evaluate)],\n",
    "                                   \"std_test\": [get_std(\"loss_test\", list_evaluate),\n",
    "                                                  get_std(\"dice_test\", list_evaluate),\n",
    "                                                  get_std(\"jaccard_test\", list_evaluate),\n",
    "                                                  get_std(\"precision_test\", list_evaluate),\n",
    "                                                  get_std(\"recall_test\", list_evaluate)],\n",
    "                                   }, index=[\"loss\", \"dice\", \"jaccard\", \"precision\", \"recall\"])\n",
    "\n",
    "\n",
    "dataframe_mean = dataframe_mean.applymap(lambda x: str(x).replace(\".\", \",\") if isinstance(x,float) else x)\n",
    "dataframe_mean = dataframe_mean.transpose()\n",
    "dataframe_mean.to_csv(os.path.join(path, \"mean.csv\"), decimal=\",\", sep=\";\", na_rep=\" \", quoting=csv.QUOTE_ALL)\n",
    "dataframe_mean"
   ],
   "metadata": {
    "collapsed": false,
    "pycharm": {
     "name": "#%%\n"
    }
   }
  },
  {
   "cell_type": "code",
   "execution_count": null,
   "outputs": [],
   "source": [
    "for evaluate in list_evaluate:\n",
    "    filename_fold = os.path.join(path, str(evaluate[\"fold\"]), \"metrics.csv\")\n",
    "\n",
    "    dataframe_fold = pandas.DataFrame({\"metrics_train\": [evaluate[\"loss_train\"],\n",
    "                                                  evaluate[\"dice_train\"],\n",
    "                                                  evaluate[\"jaccard_train\"],\n",
    "                                                  evaluate[\"precision_train\"],\n",
    "                                                  evaluate[\"recall_train\"]],\n",
    "                                   \"metrics_val\": [evaluate[\"loss_val\"],\n",
    "                                                  evaluate[\"dice_val\"],\n",
    "                                                  evaluate[\"jaccard_val\"],\n",
    "                                                  evaluate[\"precision_val\"],\n",
    "                                                  evaluate[\"recall_val\"]],\n",
    "                                   \"metrics_test\": [evaluate[\"loss_test\"],\n",
    "                                                  evaluate[\"dice_test\"],\n",
    "                                                  evaluate[\"jaccard_test\"],\n",
    "                                                  evaluate[\"precision_test\"],\n",
    "                                                  evaluate[\"recall_test\"]],\n",
    "                                   }, index=[\"loss\", \"dice\", \"jaccard\", \"precision\", \"recall\"])\n",
    "\n",
    "    dataframe_fold_info = pandas.DataFrame({evaluate[\"fold\"], evaluate[\"time\"]}, index=[\"fold\", \"time\"], columns=[\"info\"])\n",
    "    dataframe_fold = dataframe_fold.applymap(lambda x: str(x).replace(\".\", \",\") if isinstance(x,float) else x)\n",
    "    dataframe_fold = pandas.concat([dataframe_fold, dataframe_fold_info], axis=0)\n",
    "    dataframe_fold = dataframe_fold.transpose()\n",
    "    dataframe_fold.to_csv(filename_fold, decimal=\",\", sep=\";\", na_rep=\" \", quoting=csv.QUOTE_ALL)\n",
    "\n",
    "dataframe_fold"
   ],
   "metadata": {
    "collapsed": false,
    "pycharm": {
     "name": "#%%\n"
    }
   }
  }
 ],
 "metadata": {
  "kernelspec": {
   "display_name": "Python 3",
   "language": "python",
   "name": "python3"
  },
  "language_info": {
   "codemirror_mode": {
    "name": "ipython",
    "version": 2
   },
   "file_extension": ".py",
   "mimetype": "text/x-python",
   "name": "python",
   "nbconvert_exporter": "python",
   "pygments_lexer": "ipython2",
   "version": "2.7.6"
  }
 },
 "nbformat": 4,
 "nbformat_minor": 0
}