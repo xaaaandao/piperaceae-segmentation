{
 "cells": [
  {
   "cell_type": "code",
   "execution_count": 25,
   "metadata": {
    "collapsed": true,
    "pycharm": {
     "name": "#%%\n"
    }
   },
   "outputs": [],
   "source": [
    "import cv2\n",
    "import collections\n",
    "import datetime\n",
    "import itertools\n",
    "import keras.backend\n",
    "import keras.preprocessing.image\n",
    "import math\n",
    "import matplotlib.pyplot\n",
    "import numpy\n",
    "import os\n",
    "import pathlib\n",
    "import pickle\n",
    "import re\n",
    "import skimage.morphology\n",
    "import skimage.io\n",
    "import sklearn\n",
    "import sklearn.model_selection\n",
    "import sklearn.utils\n",
    "import tensorflow\n",
    "import time\n",
    "\n",
    "from albumentations import (\n",
    "    Compose, HorizontalFlip, ShiftScaleRotate, ElasticTransform,\n",
    "    RandomBrightness, RandomContrast, RandomGamma\n",
    ")"
   ]
  },
  {
   "cell_type": "code",
   "execution_count": 26,
   "outputs": [],
   "source": [
    "def create_if_not_exists_dir(dir):\n",
    "    if not os.path.isdir(dir):\n",
    "        os.makedirs(dir)\n",
    "\n",
    "dir_base = \"/home/xandao/herbario/code/piperaceae-segmentation\"\n",
    "current_datetime = datetime.datetime.now().strftime('%d-%m-%Y-%H-%M-%S')\n",
    "path_model = os.path.join(dir_base, \"model\")\n",
    "path_result = os.path.join(dir_base, \"result\")\n",
    "path_out = os.path.join(path_result, current_datetime)\n",
    "path_images = os.path.join(dir_base, \"images\")\n",
    "path_mask = os.path.join(dir_base, \"mask\")\n",
    "\n",
    "for path in [path_model, path_result, path_out, path_images, path_mask]:\n",
    "    create_if_not_exists_dir(path)"
   ],
   "metadata": {
    "collapsed": false,
    "pycharm": {
     "name": "#%%\n"
    }
   }
  },
  {
   "cell_type": "code",
   "execution_count": 27,
   "outputs": [],
   "source": [
    "cross_validation = 10\n",
    "test_size = 0.15\n",
    "val_size = 0.05\n",
    "learning_rate = 0.05\n",
    "batch_size = 4\n",
    "epochs = 200"
   ],
   "metadata": {
    "collapsed": false,
    "pycharm": {
     "name": "#%%\n"
    }
   }
  },
  {
   "cell_type": "code",
   "execution_count": 28,
   "outputs": [],
   "source": [
    "image_size = 400"
   ],
   "metadata": {
    "collapsed": false,
    "pycharm": {
     "name": "#%%\n"
    }
   }
  },
  {
   "cell_type": "code",
   "execution_count": 29,
   "outputs": [],
   "source": [
    "mean_time_train = 0\n",
    "sum_iou_train = 0\n",
    "sum_dice_train = 0\n",
    "sum_iou_val = 0\n",
    "sum_dice_val = 0\n",
    "sum_iou_test = 0\n",
    "sum_dice_test = 0"
   ],
   "metadata": {
    "collapsed": false,
    "pycharm": {
     "name": "#%%\n"
    }
   }
  },
  {
   "cell_type": "code",
   "execution_count": 30,
   "outputs": [],
   "source": [
    "class AugmentationSequence(tensorflow.keras.utils.Sequence):\n",
    "    def __init__(self, x_set, y_set, batch_size, augmentations):\n",
    "        self.x, self.y = x_set, y_set\n",
    "        self.batch_size = batch_size\n",
    "        self.augment = augmentations\n",
    "\n",
    "    def __len__(self):\n",
    "        return int(numpy.ceil(len(self.x) / float(self.batch_size)))\n",
    "\n",
    "    def __getitem__(self, idx):\n",
    "        batch_x = self.x[idx * self.batch_size:(idx + 1) * self.batch_size]\n",
    "        batch_y = self.y[idx * self.batch_size:(idx + 1) * self.batch_size]\n",
    "\n",
    "        aug_x = numpy.zeros(batch_x.shape)\n",
    "        aug_y = numpy.zeros(batch_y.shape)\n",
    "\n",
    "        for idx in range(batch_x.shape[0]):\n",
    "            aug = self.augment(image=batch_x[idx, :, :, :], mask=batch_y[idx, :, :, :])\n",
    "            aug_x[idx, :, :, :] = aug[\"image\"]\n",
    "            aug_y[idx, :, :, :] = aug[\"mask\"]\n",
    "\n",
    "        return aug_x, aug_y"
   ],
   "metadata": {
    "collapsed": false,
    "pycharm": {
     "name": "#%%\n"
    }
   }
  },
  {
   "cell_type": "code",
   "execution_count": 31,
   "outputs": [],
   "source": [
    "def resize_image(image, image_size):\n",
    "    return cv2.resize(image, (image_size, image_size), interpolation=cv2.INTER_CUBIC)\n",
    "\n",
    "def get_all_images(dir):\n",
    "    return [{\"filename\": file.name, \"file\": cv2.imread(str(file.resolve()), cv2.IMREAD_GRAYSCALE)}\n",
    "            for file in pathlib.Path(dir).rglob(\"*\")]\n",
    "\n",
    "def only_resize(list_images, output_dir, image_size):\n",
    "    create_if_not_exists_dir(output_dir)\n",
    "    for image in list_images:\n",
    "        cv2.imwrite(os.path.join(output_dir, image[\"filename\"]), resize_image(image[\"file\"], image_size))\n",
    "\n",
    "def resize_all():\n",
    "    for data in [{\"path\": \"new/images\", \"type\": \"images\"}, {\"path\": \"new/mask\", \"type\": \"mask\"}]:\n",
    "            only_resize(get_all_images(data[\"path\"]), data[\"type\"], 400)"
   ],
   "metadata": {
    "collapsed": false,
    "pycharm": {
     "name": "#%%\n"
    }
   }
  },
  {
   "cell_type": "code",
   "execution_count": 32,
   "outputs": [
    {
     "name": "stdout",
     "output_type": "stream",
     "text": [
      "X.shape: (375,), Y.shape: (375,)\n"
     ]
    }
   ],
   "source": [
    "def load_mask(filename):\n",
    "    return numpy.float32(skimage.io.imread(filename) / 255)\n",
    "\n",
    "def load_all_masks(path):\n",
    "    return [load_mask(filename) for filename in sorted(pathlib.Path(path).rglob(\"*\"))]\n",
    "\n",
    "def load_image(filename):\n",
    "    return skimage.img_as_float32(skimage.io.imread(filename))\n",
    "\n",
    "def load_all_images(path):\n",
    "    return [load_image(filename) for filename in sorted(pathlib.Path(path).rglob(\"*\"))]\n",
    "\n",
    "def width_height_are_equal_image_size(image, image_size):\n",
    "    return image.shape[0] == image_size and image.shape[1] == image_size\n",
    "\n",
    "def validate_data(path, image_size):\n",
    "    return all(not width_height_are_equal_image_size(skimage.io.imread(filename), image_size) for filename in sorted(pathlib.Path(path).rglob(\"*\")))\n",
    "\n",
    "if validate_data(path_mask, image_size) and validate_data(path_images, image_size):\n",
    "    raise SystemExit(\"err in input file\")\n",
    "\n",
    "def get_genus(filename):\n",
    "    list_genus = [\"manekia\", \"ottonia\", \"peperomia\", \"piper\", \"pothomorphe\"]\n",
    "    return next((g for g in list_genus if g in filename), ValueError(\"a\"))\n",
    "\n",
    "def get_path_mask(filename):\n",
    "    filename = re.sub(r\".[a-z]*$\", \"\", filename)\n",
    "    list_mask = list([str(file.resolve()) for file in pathlib.Path(path_mask).rglob(\"*\")])\n",
    "    return next((m for m in list_mask if filename in m), ValueError(\"a\"))\n",
    "\n",
    "def format_data(X, Y):\n",
    "    return X.reshape(X.shape[0], image_size, image_size, 1), Y.reshape(Y.shape[0], image_size, image_size, 1)\n",
    "\n",
    "list_images = list([{\"path_image\": str(file.resolve()), \"path_mask\": get_path_mask(file.name), \"label\": get_genus(str(file.name))} for file in pathlib.Path(path_images).rglob(\"*\")])\n",
    "indices = sklearn.model_selection.StratifiedShuffleSplit(n_splits=cross_validation, test_size=test_size, random_state=1234)\n",
    "\n",
    "X = numpy.array([{\"path_image\": file[\"path_image\"], \"path_mask\": file[\"path_mask\"]} for file in list_images])\n",
    "Y = numpy.array([file[\"label\"] for file in list_images])\n",
    "\n",
    "print(f\"X.shape: {X.shape}, Y.shape: {Y.shape}\")"
   ],
   "metadata": {
    "collapsed": false,
    "pycharm": {
     "name": "#%%\n"
    }
   }
  },
  {
   "cell_type": "markdown",
   "source": [
    "# GPU"
   ],
   "metadata": {
    "collapsed": false,
    "pycharm": {
     "name": "#%% md\n"
    }
   }
  },
  {
   "cell_type": "code",
   "execution_count": 33,
   "outputs": [
    {
     "name": "stdout",
     "output_type": "stream",
     "text": [
      "GPU: /physical_device:GPU:0\n"
     ]
    }
   ],
   "source": [
    "def set_avx_avx2():\n",
    "    os.environ['TF_CPP_MIN_LOG_LEVEL'] = '1' # INFO messages are not printed\n",
    "\n",
    "def set_gpu():\n",
    "    gpus = tensorflow.config.experimental.list_physical_devices(\"GPU\")\n",
    "    if gpus:\n",
    "        try:\n",
    "            # Currently, memory growth needs to be the same across GPUs\n",
    "            for gpu in gpus:\n",
    "                print(f\"GPU: {gpu.name}\")\n",
    "                tensorflow.config.experimental.set_memory_growth(gpu, True)\n",
    "        except RuntimeError as e:\n",
    "            print(e)\n",
    "\n",
    "set_avx_avx2()\n",
    "set_gpu()"
   ],
   "metadata": {
    "collapsed": false,
    "pycharm": {
     "name": "#%%\n"
    }
   }
  },
  {
   "cell_type": "markdown",
   "source": [
    "# U-net"
   ],
   "metadata": {
    "collapsed": false,
    "pycharm": {
     "name": "#%% md\n"
    }
   }
  },
  {
   "cell_type": "code",
   "execution_count": 34,
   "outputs": [],
   "source": [
    "def unet_model(keras=None, img_size=None):\n",
    "\n",
    "    input_img = tensorflow.keras.layers.Input((img_size, img_size, 1), name = \"img\")\n",
    "\n",
    "    # Contract #1\n",
    "    c1 = tensorflow.keras.layers.Conv2D(16, (3, 3), kernel_initializer = \"he_uniform\", padding = \"same\")(input_img)\n",
    "    c1 = tensorflow.keras.layers.BatchNormalization()(c1)\n",
    "    c1 = tensorflow.keras.layers.Activation(\"relu\")(c1)\n",
    "    c1 = tensorflow.keras.layers.Dropout(0.1)(c1)\n",
    "    c1 = tensorflow.keras.layers.Conv2D(16, (3, 3), kernel_initializer = \"he_uniform\", padding = \"same\")(c1)\n",
    "    c1 = tensorflow.keras.layers.BatchNormalization()(c1)\n",
    "    c1 = tensorflow.keras.layers.Activation(\"relu\")(c1)\n",
    "    p1 = tensorflow.keras.layers.MaxPooling2D((2, 2))(c1)\n",
    "\n",
    "    # Contract #2\n",
    "    c2 = tensorflow.keras.layers.Conv2D(32, (3, 3), kernel_initializer = \"he_uniform\", padding = \"same\")(p1)\n",
    "    c2 = tensorflow.keras.layers.BatchNormalization()(c2)\n",
    "    c2 = tensorflow.keras.layers.Activation(\"relu\")(c2)\n",
    "    c2 = tensorflow.keras.layers.Dropout(0.2)(c2)\n",
    "    c2 = tensorflow.keras.layers.Conv2D(32, (3, 3), kernel_initializer = \"he_uniform\", padding = \"same\")(c2)\n",
    "    c2 = tensorflow.keras.layers.BatchNormalization()(c2)\n",
    "    c2 = tensorflow.keras.layers.Activation(\"relu\")(c2)\n",
    "    p2 = tensorflow.keras.layers.MaxPooling2D((2, 2))(c2)\n",
    "\n",
    "    # Contract #3\n",
    "    c3 = tensorflow.keras.layers.Conv2D(64, (3, 3), kernel_initializer = \"he_uniform\", padding = \"same\")(p2)\n",
    "    c3 = tensorflow.keras.layers.BatchNormalization()(c3)\n",
    "    c3 = tensorflow.keras.layers.Activation(\"relu\")(c3)\n",
    "    c3 = tensorflow.keras.layers.Dropout(0.3)(c3)\n",
    "    c3 = tensorflow.keras.layers.Conv2D(64, (3, 3), kernel_initializer = \"he_uniform\", padding = \"same\")(c3)\n",
    "    c3 = tensorflow.keras.layers.BatchNormalization()(c3)\n",
    "    c3 = tensorflow.keras.layers.Activation(\"relu\")(c3)\n",
    "    p3 = tensorflow.keras.layers.MaxPooling2D((2, 2))(c3)\n",
    "\n",
    "    # Contract #4\n",
    "    c4 = tensorflow.keras.layers.Conv2D(128, (3, 3), kernel_initializer = \"he_uniform\", padding = \"same\")(p3)\n",
    "    c4 = tensorflow.keras.layers.BatchNormalization()(c4)\n",
    "    c4 = tensorflow.keras.layers.Activation(\"relu\")(c4)\n",
    "    c4 = tensorflow.keras.layers.Dropout(0.4)(c4)\n",
    "    c4 = tensorflow.keras.layers.Conv2D(128, (3, 3), kernel_initializer = \"he_uniform\", padding = \"same\")(c4)\n",
    "    c4 = tensorflow.keras.layers.BatchNormalization()(c4)\n",
    "    c4 = tensorflow.keras.layers.Activation(\"relu\")(c4)\n",
    "    p4 = tensorflow.keras.layers.MaxPooling2D((2, 2))(c4)\n",
    "\n",
    "    # Middle\n",
    "    c5 = tensorflow.keras.layers.Conv2D(256, (3, 3), kernel_initializer = \"he_uniform\", padding = \"same\")(p4)\n",
    "    c5 = tensorflow.keras.layers.BatchNormalization()(c5)\n",
    "    c5 = tensorflow.keras.layers.Activation(\"relu\")(c5)\n",
    "    c5 = tensorflow.keras.layers.Dropout(0.5)(c5)\n",
    "    c5 = tensorflow.keras.layers.Conv2D(256, (3, 3), kernel_initializer = \"he_uniform\", padding = \"same\")(c5)\n",
    "    c5 = tensorflow.keras.layers.BatchNormalization()(c5)\n",
    "    c5 = tensorflow.keras.layers.Activation(\"relu\")(c5)\n",
    "\n",
    "    # Expand (upscale) #1\n",
    "    u6 = tensorflow.keras.layers.Conv2DTranspose(128, (3, 3), strides = (2, 2), padding = \"same\")(c5)\n",
    "    u6 = tensorflow.keras.layers.concatenate([u6, c4])\n",
    "    c6 = tensorflow.keras.layers.Conv2D(128, (3, 3), kernel_initializer = \"he_uniform\", padding = \"same\")(u6)\n",
    "    c6 = tensorflow.keras.layers.BatchNormalization()(c6)\n",
    "    c6 = tensorflow.keras.layers.Activation(\"relu\")(c6)\n",
    "    c6 = tensorflow.keras.layers.Dropout(0.5)(c6)\n",
    "    c6 = tensorflow.keras.layers.Conv2D(128, (3, 3), kernel_initializer = \"he_uniform\", padding = \"same\")(c6)\n",
    "    c6 = tensorflow.keras.layers.BatchNormalization()(c6)\n",
    "    c6 = tensorflow.keras.layers.Activation(\"relu\")(c6)\n",
    "\n",
    "    # Expand (upscale) #2\n",
    "    u7 = tensorflow.keras.layers.Conv2DTranspose(64, (3, 3), strides = (2, 2), padding = \"same\")(c6)\n",
    "    u7 = tensorflow.keras.layers.concatenate([u7, c3])\n",
    "    c7 = tensorflow.keras.layers.Conv2D(64, (3, 3), kernel_initializer = \"he_uniform\", padding = \"same\")(u7)\n",
    "    c7 = tensorflow.keras.layers.BatchNormalization()(c7)\n",
    "    c7 = tensorflow.keras.layers.Activation(\"relu\")(c7)\n",
    "    c7 = tensorflow.keras.layers.Dropout(0.5)(c7)\n",
    "    c7 = tensorflow.keras.layers.Conv2D(64, (3, 3), kernel_initializer = \"he_uniform\", padding = \"same\")(c7)\n",
    "    c7 = tensorflow.keras.layers.BatchNormalization()(c7)\n",
    "    c7 = tensorflow.keras.layers.Activation(\"relu\")(c7)\n",
    "\n",
    "    # Expand (upscale) #3\n",
    "    u8 = tensorflow.keras.layers.Conv2DTranspose(32, (3, 3), strides = (2, 2), padding = \"same\")(c7)\n",
    "    u8 = tensorflow.keras.layers.concatenate([u8, c2])\n",
    "    c8 = tensorflow.keras.layers.Conv2D(32, (3, 3), kernel_initializer = \"he_uniform\", padding = \"same\")(u8)\n",
    "    c8 = tensorflow.keras.layers.BatchNormalization()(c8)\n",
    "    c8 = tensorflow.keras.layers.Activation(\"relu\")(c8)\n",
    "    c8 = tensorflow.keras.layers.Dropout(0.5)(c8)\n",
    "    c8 = tensorflow.keras.layers.Conv2D(32, (3, 3), kernel_initializer = \"he_uniform\", padding = \"same\")(c8)\n",
    "    c8 = tensorflow.keras.layers.BatchNormalization()(c8)\n",
    "    c8 = tensorflow.keras.layers.Activation(\"relu\")(c8)\n",
    "\n",
    "    # Expand (upscale) #4\n",
    "    u9 = tensorflow.keras.layers.Conv2DTranspose(16, (3, 3), strides = (2, 2), padding = \"same\")(c8)\n",
    "    u9 = tensorflow.keras.layers.concatenate([u9, c1])\n",
    "    c9 = tensorflow.keras.layers.Conv2D(16, (3, 3), kernel_initializer = \"he_uniform\", padding = \"same\")(u9)\n",
    "    c9 = tensorflow.keras.layers.BatchNormalization()(c9)\n",
    "    c9 = tensorflow.keras.layers.Activation(\"relu\")(c9)\n",
    "    c9 = tensorflow.keras.layers.Dropout(0.5)(c9)\n",
    "    c9 = tensorflow.keras.layers.Conv2D(16, (3, 3), kernel_initializer = \"he_uniform\", padding = \"same\")(c9)\n",
    "    c9 = tensorflow.keras.layers.BatchNormalization()(c9)\n",
    "    c9 = tensorflow.keras.layers.Activation(\"relu\")(c9)\n",
    "\n",
    "    output = tensorflow.keras.layers.Conv2D(1, (1, 1), activation = \"sigmoid\")(c9)\n",
    "    model = tensorflow.keras.Model(inputs = [input_img], outputs = [output])\n",
    "    return model"
   ],
   "metadata": {
    "collapsed": false,
    "pycharm": {
     "name": "#%%\n"
    }
   }
  },
  {
   "cell_type": "markdown",
   "source": [
    "# Metrics"
   ],
   "metadata": {
    "collapsed": false,
    "pycharm": {
     "name": "#%% md\n"
    }
   }
  },
  {
   "cell_type": "code",
   "execution_count": 35,
   "outputs": [],
   "source": [
    "def jaccard_distance_loss(y_true, y_pred, smooth = 100):\n",
    "    intersection = tensorflow.keras.backend.sum(tensorflow.keras.backend.abs(y_true * y_pred), axis = -1)\n",
    "    union = tensorflow.keras.backend.sum(tensorflow.keras.backend.abs(y_true) + tensorflow.keras.backend.abs(y_pred), axis = -1)\n",
    "    jac = (intersection + smooth) / (union - intersection + smooth)\n",
    "    loss = (1 - jac) * smooth\n",
    "    return loss\n",
    "\n",
    "def dice_coef(y_true, y_pred, smooth = 1):\n",
    "    intersection = tensorflow.keras.backend.sum(tensorflow.keras.backend.abs(y_true * y_pred), axis = -1)\n",
    "    union = tensorflow.keras.backend.sum(tensorflow.keras.backend.abs(y_true), -1) + tensorflow.keras.backend.sum(tensorflow.keras.backend.abs(y_pred), -1)\n",
    "    return (2. * intersection + smooth) / (union + smooth)"
   ],
   "metadata": {
    "collapsed": false,
    "pycharm": {
     "name": "#%%\n"
    }
   }
  },
  {
   "cell_type": "code",
   "execution_count": 36,
   "outputs": [],
   "source": [
    "def crop_image(img, mask):\n",
    "    crop_mask = mask > 0\n",
    "    m, n = mask.shape\n",
    "    crop_mask0, crop_mask1 = crop_mask.any(0), crop_mask.any(1)\n",
    "    col_start, col_end = crop_mask0.argmax(), n - crop_mask0[::-1].argmax()\n",
    "    row_start, row_end = crop_mask1.argmax(), m - crop_mask1[::-1].argmax()\n",
    "    return img[row_start:row_end, col_start:col_end], mask[row_start:row_end, col_start:col_end]\n",
    "\n",
    "def process_pred_mask(pred_mask):\n",
    "    open_pred_mask = skimage.morphology.erosion(pred_mask, skimage.morphology.square(5))\n",
    "    open_pred_mask = skimage.morphology.dilation(open_pred_mask, skimage.morphology.square(5))\n",
    "    return skimage.morphology.dilation(open_pred_mask, skimage.morphology.square(5))\n",
    "\n",
    "def save_image_mask_predmask(filename, image, mask, pred_mask, post_pred_mask, image_original_mask, image_pred_mask):\n",
    "    figure = matplotlib.pyplot.figure(figsize=(15, 10))\n",
    "    figure.add_subplot(2, 3, 1).set_title(\"Original image\", fontdict = {\"fontsize\":18})\n",
    "    matplotlib.pyplot.imshow(skimage.img_as_ubyte(image), cmap = \"gray\")\n",
    "    figure.add_subplot(2, 3, 2).set_title(\"Original mask\", fontdict = {\"fontsize\":18})\n",
    "    matplotlib.pyplot.imshow(skimage.img_as_ubyte(mask), cmap = \"gray\")\n",
    "    figure.add_subplot(2, 3, 3).set_title(\"Predicted mask\", fontdict = {\"fontsize\":18})\n",
    "    matplotlib.pyplot.imshow(pred_mask, cmap = \"gray\")\n",
    "    figure.add_subplot(2, 3, 4).set_title(\"Preprocessed mask\", fontdict = {\"fontsize\":18})\n",
    "    matplotlib.pyplot.imshow(post_pred_mask, cmap = \"gray\")\n",
    "    figure.add_subplot(2, 3, 5).set_title(\"Image original mask\", fontdict = {\"fontsize\":18})\n",
    "    matplotlib.pyplot.imshow(image_original_mask, cmap = \"gray\")\n",
    "    figure.add_subplot(2, 3, 6).set_title(\"Image pred mask\", fontdict = {\"fontsize\":18})\n",
    "    matplotlib.pyplot.imshow(image_pred_mask, cmap = \"gray\")\n",
    "    print(f\"{filename} created\")\n",
    "    figure.savefig(filename)\n",
    "\n",
    "\n",
    "def save_images(X, Y, data_type, model, out_folder):\n",
    "    for idx in range(0, X.shape[0]):\n",
    "        test_img = X[idx,:,:,:].reshape((1, image_size, image_size, 1))\n",
    "        test_mask = Y[idx,:,:,:].reshape((1, image_size, image_size, 1))\n",
    "        pred_mask = model.predict(test_img)[0,:,:,0]\n",
    "        image_pred_mask = pred_mask\n",
    "        pred_mask = numpy.uint8(pred_mask > 0.5)\n",
    "\n",
    "        post_pred_mask = process_pred_mask(pred_mask)\n",
    "        image_out_folder = os.path.join(out_folder, data_type, f\"{idx}\")\n",
    "\n",
    "        # crop_img, crop_mask = crop_image(test_img[0,:,:,0], post_pred_mask) # keep\n",
    "        image_mask_unet = test_img[0,:,:,0] * pred_mask\n",
    "        mask_original = numpy.uint8(test_mask[0,:,:,0] > 0.5)\n",
    "        image_mask_original = test_img[0,:,:,0] * mask_original\n",
    "        image_mask_unet[image_mask_unet == 0] = 1\n",
    "        image_mask_original[image_mask_original == 0] = 1\n",
    "\n",
    "        create_if_not_exists_dir(image_out_folder)\n",
    "\n",
    "        print(f\"{os.path.join(image_out_folder, f'{idx}-original.png')} created\")\n",
    "        skimage.io.imsave(os.path.join(image_out_folder, f\"{idx}-original.png\"), skimage.img_as_ubyte(test_img[0,:,:,0]))\n",
    "        skimage.io.imsave(os.path.join(image_out_folder, f\"{idx}-mask-original.png\"), skimage.img_as_ubyte(test_mask[0,:,:,0]))\n",
    "        skimage.io.imsave(os.path.join(image_out_folder, f\"{idx}-mask-unet.png\"), skimage.img_as_ubyte(image_pred_mask))\n",
    "        # skimage.io.imsave(os.path.join(image_out_folder, f\"{i}-post-pred-mask.png\"), post_pred_mask * 255)\n",
    "        # skimage.io.imsave(os.path.join(image_out_folder, f\"{i}-crop-img.png\"), skimage.img_as_ubyte(crop_img))\n",
    "        # skimage.io.imsave(os.path.join(image_out_folder, f\"{i}-crop-mask.png\"), crop_mask * 255)\n",
    "        skimage.io.imsave(os.path.join(image_out_folder, f\"{idx}-image-mask-unet.png\"), skimage.img_as_ubyte(image_mask_unet))\n",
    "        skimage.io.imsave(os.path.join(image_out_folder, f\"{idx}-image-mask-original.png\"), skimage.img_as_ubyte(image_mask_original))\n",
    "\n",
    "        save_image_mask_predmask(os.path.join(image_out_folder, f\"{idx}.png\"), test_img[0,:,:,0], test_mask[0,:,:,0], pred_mask, post_pred_mask, image_mask_original, image_mask_unet)\n"
   ],
   "metadata": {
    "collapsed": false,
    "pycharm": {
     "name": "#%%\n"
    }
   }
  },
  {
   "cell_type": "code",
   "execution_count": 37,
   "outputs": [],
   "source": [
    "images = load_all_images(path_images)\n",
    "\n",
    "def set_idx(X_test):\n",
    "    images_test_ids = []\n",
    "    for idx in range(X_test.shape[0]):\n",
    "        test_image = X_test[idx, :, :, 0]\n",
    "        if any(numpy.array_equal(test_image, x) for x in images):\n",
    "            images_test_ids.append(idx)"
   ],
   "metadata": {
    "collapsed": false,
    "pycharm": {
     "name": "#%%\n"
    }
   }
  },
  {
   "cell_type": "code",
   "execution_count": 38,
   "outputs": [],
   "source": [
    "def cfg_model(X_train, Y_train, index_cv):\n",
    "    steps_per_epoch = math.ceil(X_train.shape[0] / batch_size)\n",
    "    augment = Compose([\n",
    "        HorizontalFlip(),\n",
    "        ShiftScaleRotate(rotate_limit=45, border_mode=cv2.BORDER_CONSTANT),\n",
    "        ElasticTransform(border_mode=cv2.BORDER_CONSTANT),\n",
    "        RandomBrightness(),\n",
    "        RandomContrast(),\n",
    "        RandomGamma()\n",
    "    ])\n",
    "    train_generator = AugmentationSequence(X_train, Y_train, batch_size, augment)\n",
    "    unet_filename = os.path.join(path_model,\n",
    "                                 f\"batch{batch_size}+lr{str(learning_rate).replace('.', '_')}+epoch{epochs}+steps{steps_per_epoch}+cv{index_cv}+unet.h5\")\n",
    "    reduce_learning_rate = tensorflow.keras.callbacks.ReduceLROnPlateau(monitor=\"loss\", factor=0.5, patience=3,\n",
    "                                                                        verbose=1)\n",
    "    checkpointer = tensorflow.keras.callbacks.ModelCheckpoint(unet_filename, verbose=1, save_best_only=True)\n",
    "    strategy = tensorflow.distribute.MirroredStrategy()\n",
    "    return checkpointer, reduce_learning_rate, steps_per_epoch, strategy, train_generator, unet_filename"
   ],
   "metadata": {
    "collapsed": false,
    "pycharm": {
     "name": "#%%\n"
    }
   }
  },
  {
   "cell_type": "code",
   "execution_count": 39,
   "outputs": [],
   "source": [
    "def calculate_iou_dice(X_test, X_train, X_val, Y_test, Y_train, Y_val, model):\n",
    "    iou_train, dice_train = model.evaluate(X_train, Y_train, verbose=False)\n",
    "    iou_val, dice_val = model.evaluate(X_val, Y_val, verbose=False)\n",
    "    iou_test, dice_test = model.evaluate(X_test, Y_test, verbose=False)\n",
    "    return dice_test, dice_train, dice_val, iou_test, iou_train, iou_val"
   ],
   "metadata": {
    "collapsed": false,
    "pycharm": {
     "name": "#%%\n"
    }
   }
  },
  {
   "cell_type": "code",
   "execution_count": 40,
   "outputs": [],
   "source": [
    "def create_figure_with_three_columns(X_test, Y_test, model, index_cv, path):\n",
    "    fig = matplotlib.pyplot.figure(constrained_layout=True, figsize=(60, 20))\n",
    "    fig.suptitle(f\"Result {datetime.datetime.now().strftime('%d/%m/%Y %H:%M:%S')}\", fontsize=36, color=\"r\")\n",
    "    subfigs = fig.subfigures(nrows=3, ncols=1)\n",
    "    titles = [\"Original\", \"Mask original\", \"Mask u-net\"]\n",
    "    for i, subfig in enumerate(subfigs):\n",
    "        subfig.suptitle(titles[i], fontsize=28, color=\"r\")\n",
    "        axs = subfig.subplots(nrows=1, ncols=8)\n",
    "        for j, ax in enumerate(axs):\n",
    "            if i == 0:\n",
    "                test_img = X_test[j, :, :, :].reshape((1, image_size, image_size, 1))\n",
    "                ax.imshow(skimage.img_as_ubyte(test_img[0, :, :, 0]), cmap=\"gray\")\n",
    "            elif i == 1:\n",
    "                test_mask = Y_test[j, :, :, :].reshape((1, image_size, image_size, 1))\n",
    "                ax.imshow(skimage.img_as_ubyte(test_mask[0, :, :, 0]), cmap=\"gray\")\n",
    "            elif i == 2:\n",
    "                test_img = X_test[j, :, :, :].reshape((1, image_size, image_size, 1))\n",
    "                pred_mask = model.predict(test_img)[0, :, :, 0]\n",
    "                ax.imshow(pred_mask, cmap=\"gray\")\n",
    "    print(f\"{os.path.join(path, f'cv-{index_cv}-compartive.png')} created\")\n",
    "    fig.savefig(os.path.join(path, f\"cv-{index_cv}-compartive.png\"))"
   ],
   "metadata": {
    "collapsed": false,
    "pycharm": {
     "name": "#%%\n"
    }
   }
  },
  {
   "cell_type": "code",
   "execution_count": 41,
   "outputs": [],
   "source": [
    "def create_outfile_cv(X_test, X_train, X_val, dice_test, dice_train, dice_val, index_cv, iou_test, iou_train, iou_val, path, steps_per_epoch, unet_filename, elapsed_time):\n",
    "    try:\n",
    "        print(f\"{os.path.join(path, f'cv-{index_cv}-result.txt')} created\")\n",
    "        with open(os.path.join(path, f\"cv-{index_cv}-result.txt\"), \"w\") as file:\n",
    "            file.write(f\"unet filename={unet_filename}\\n\")\n",
    "            file.write(f\"index cv={index_cv}\\n\")\n",
    "            file.write(f\"elapsed time={elapsed_time}\\n\")\n",
    "            file.write(f\"X_train: {X_train.shape}, X_val: {X_val.shape}, X_test: {X_test.shape}\\n\")\n",
    "            file.write(f\"learning_rate={learning_rate}, batch_size={batch_size}\\n\")\n",
    "            file.write(f\"epochs={epochs}, steps={steps_per_epoch}\\n\")\n",
    "            file.write(f\"============================================\\n\")\n",
    "            file.write(f\"Jaccard distance (IoU) train: {iou_train}\\n\")\n",
    "            file.write(f\"Dice coeffient train: {dice_train}\\n\")\n",
    "            file.write(f\"Jaccard distance (IoU) validation: {iou_val}\\n\")\n",
    "            file.write(f\"Dice coeffient validation: {dice_val}\\n\")\n",
    "            file.write(f\"Jaccard distance (IoU) test: {iou_test}\\n\")\n",
    "            file.write(f\"Dice coeffient test: {dice_test}\\n\")\n",
    "            file.close()\n",
    "    except:\n",
    "        raise SystemError(f\"fail in create outfile {os.path.join(path, f'cv-{str(index_cv)}.txt')}\")\n",
    "\n",
    "def calculate_mean_metrics(path):\n",
    "    try:\n",
    "        print(f\"{os.path.join(path, '-mean')}.txt created\")\n",
    "        with open(f\"{os.path.join(path, '-mean')}.txt\", \"w\") as outfile:\n",
    "            outfile.write(f\"Mean Jaccard distance (IoU) train: {sum_iou_train / cross_validation}\\n\")\n",
    "            outfile.write(f\"Mean Dice coeffient train: {sum_dice_train / cross_validation}\\n\")\n",
    "            outfile.write(f\"Mean Jaccard distance (IoU) validation: {sum_iou_val / cross_validation}\\n\")\n",
    "            outfile.write(f\"Mean Dice coeffient validation: {sum_dice_val / cross_validation}\\n\")\n",
    "            outfile.write(f\"Mean Jaccard distance (IoU) test: {sum_iou_test / cross_validation}\\n\")\n",
    "            outfile.write(f\"Mean Dice coeffient test: {sum_dice_test / cross_validation}\\n\")\n",
    "            outfile.close()\n",
    "    except:\n",
    "        raise SystemError(f\"fail in create outfile {os.path.join(path, 'mean')}.txt\")\n",
    "\n",
    "def images_used(X, path, type):\n",
    "     try:\n",
    "        print(f\"{os.path.join(path, f'{type}images-used.csv')} created\")\n",
    "        with open(os.path.join(path, f\"{type}images-used.csv\"), \"w\") as file:\n",
    "            file.write(\"path_image;path_mask\\n\")\n",
    "            for x in X:\n",
    "                file.write(f\"\\\"{list(x.values())[0]}\\\";\\\"{list(x.values())[1]}\\\"\\n\")\n",
    "            file.close()\n",
    "     except:\n",
    "         raise SystemExit(f\"error in create file\")"
   ],
   "metadata": {
    "collapsed": false,
    "pycharm": {
     "name": "#%%\n"
    }
   }
  },
  {
   "cell_type": "code",
   "execution_count": 42,
   "outputs": [],
   "source": [
    "def save_all_images(X_test, X_train, X_val, Y_test, Y_train, Y_val, model, out_folder_index_cv):\n",
    "    save_images(X_train, Y_train, \"train\", model, out_folder_index_cv)\n",
    "    save_images(X_test, Y_test, \"test\", model, out_folder_index_cv)\n",
    "    save_images(X_val, Y_val, \"val\", model, out_folder_index_cv)"
   ],
   "metadata": {
    "collapsed": false,
    "pycharm": {
     "name": "#%%\n"
    }
   }
  },
  {
   "cell_type": "code",
   "execution_count": 43,
   "outputs": [],
   "source": [
    "def plot_loss_graph(model, index_cv, path):\n",
    "    fig, ax = matplotlib.pyplot.subplots(1, figsize=(10, 10))\n",
    "    ax.plot(model.history[\"loss\"], label=\"Train\", linewidth=2, marker=\"o\")\n",
    "    ax.plot(model.history[\"val_loss\"], label=\"Validation\", linewidth=2, marker=\"o\")\n",
    "    ax.plot(model.history[\"lr\"], label=\"Learning rate\", linewidth=2, marker=\"o\")\n",
    "    fig.suptitle(\"Train, Validation and Learning Rate\", color=\"r\", fontsize=20, fontweight=\"bold\", verticalalignment=\"center\")\n",
    "    ax.set_ylabel(\"Loss\", color=\"r\", fontsize=16)\n",
    "    ax.set_xlabel(\"Epoch\", color=\"r\", fontsize=16)\n",
    "    ax.legend()\n",
    "    print(f\"{os.path.join(path, f'cv-{index_cv}-lossgraph.png')} created\")\n",
    "    fig.savefig(os.path.join(path, f\"cv-{index_cv}-lossgraph.png\"))"
   ],
   "metadata": {
    "collapsed": false,
    "pycharm": {
     "name": "#%%\n"
    }
   }
  },
  {
   "cell_type": "code",
   "execution_count": 44,
   "outputs": [],
   "source": [
    "def save_fit_history(fit, index_cv, path):\n",
    "    try:\n",
    "        with open(os.path.join(path, f\"cv{index_cv}-fit.pckl\"), \"wb\") as file:\n",
    "            pickle.dump(fit.history, file)\n",
    "            file.close()\n",
    "    except:\n",
    "        raise SystemExit(f\"error in create cv{index_cv}-fit.pckl\")"
   ],
   "metadata": {
    "collapsed": false,
    "pycharm": {
     "name": "#%%\n"
    }
   }
  },
  {
   "cell_type": "code",
   "execution_count": 45,
   "outputs": [],
   "source": [
    "import sys\n",
    "def train_test(index_cv, X_train, Y_train, X_val, Y_val, X_test, Y_test, sum_iou_train, sum_dice_train, sum_iou_val, sum_dice_val, sum_iou_test, sum_dice_test, path):\n",
    "    print(f\"cv -> {index_cv}\")\n",
    "    print(f\"X_train.shape: {X_train.shape}, Y_train.shape: {Y_train.shape}\")\n",
    "    print(f\"X_val.shape: {X_val.shape}, Y_val.shape: {Y_val.shape}\")\n",
    "    print(f\"X_test.shape: {X_test.shape}, Y_test.shape: {Y_test.shape}\")\n",
    "\n",
    "    set_idx(X_test)\n",
    "    checkpointer, reduce_learning_rate, steps_per_epoch, strategy, train_generator, unet_filename = cfg_model(X_train, Y_train, index_cv)\n",
    "\n",
    "    elapsed_time = None\n",
    "    model = None\n",
    "    fit = None\n",
    "\n",
    "    if os.path.exists(unet_filename):\n",
    "        model = tensorflow.keras.models.load_model(unet_filename, custom_objects = {\"jaccard_distance_loss\": jaccard_distance_loss,\"dice_coef\": dice_coef})\n",
    "    else:\n",
    "        with strategy.scope():\n",
    "            model = unet_model()\n",
    "            adam_opt = tensorflow.keras.optimizers.Adam(learning_rate = learning_rate)\n",
    "            model.compile(optimizer = adam_opt, loss = jaccard_distance_loss, metrics = [dice_coef])\n",
    "\n",
    "        start_time = time.time()\n",
    "        fit = model.fit(train_generator,\n",
    "            steps_per_epoch = steps_per_epoch,\n",
    "            epochs = epochs,\n",
    "            validation_data = (X_val, Y_val),\n",
    "            callbacks = [checkpointer, reduce_learning_rate]\n",
    "        )\n",
    "        elapsed_time = time.time() - start_time\n",
    "        print(f\"time elapsed {time.strftime('%H:%M:%S', time.gmtime(elapsed_time))}\")\n",
    "\n",
    "        save_fit_history(fit, index_cv, path)\n",
    "        plot_loss_graph(fit, index_cv, path)\n",
    "\n",
    "\n",
    "    dice_test, dice_train, dice_val, iou_test, iou_train, iou_val = calculate_iou_dice(X_test, X_train, X_val, Y_test,Y_train, Y_val, model)\n",
    "\n",
    "    sum_iou_train += iou_train\n",
    "    sum_dice_train += dice_train\n",
    "    sum_iou_val += iou_val\n",
    "    sum_dice_val += dice_val\n",
    "    sum_iou_test += iou_test\n",
    "    sum_dice_test += dice_test\n",
    "\n",
    "    create_figure_with_three_columns(X_test, Y_test, model, index_cv, path)\n",
    "\n",
    "    create_outfile_cv(X_test, X_train, X_val, dice_test, dice_train, dice_val, index_cv, iou_test, iou_train, iou_val, path, steps_per_epoch, unet_filename, elapsed_time)\n",
    "\n",
    "    save_all_images(X_test, X_train, X_val, Y_test, Y_train, Y_val, model, path)"
   ],
   "metadata": {
    "collapsed": false,
    "pycharm": {
     "name": "#%%\n"
    }
   }
  },
  {
   "cell_type": "code",
   "execution_count": 46,
   "outputs": [],
   "source": [
    "def load_data(X, Y, path, type):\n",
    "    images_used(X, path, type)\n",
    "    X = numpy.array(list([load_image(x[\"path_image\"]) for x in X]))\n",
    "    Y = numpy.array(list([load_mask(y[\"path_mask\"]) for y in Y]))\n",
    "    return X.reshape(X.shape[0], image_size, image_size, 1), Y.reshape(Y.shape[0], image_size, image_size, 1)\n",
    "\n",
    "def load_all_data(X_train, X_val, X_test, path):\n",
    "    X_train, Y_train = load_data(X_train, numpy.copy(X_train), path, \"train\")\n",
    "    X_val, Y_val = load_data(X_val, numpy.copy(X_val), path, \"val\")\n",
    "    X_test, Y_test = load_data(X_test, numpy.copy(X_test), path, \"test\")\n",
    "    return X_train, Y_train, X_val, Y_val, X_test, Y_test"
   ],
   "metadata": {
    "collapsed": false,
    "pycharm": {
     "name": "#%%\n"
    }
   }
  },
  {
   "cell_type": "code",
   "execution_count": 47,
   "outputs": [],
   "source": [
    "def test_cross_validation():\n",
    "    for i, (train_index, test_index) in enumerate(indices.split(X, Y)):\n",
    "        keras.backend.clear_session()\n",
    "\n",
    "        out_folder_index_cv = os.path.join(path_out, f\"cv-{i}\")\n",
    "        create_if_not_exists_dir(out_folder_index_cv)\n",
    "\n",
    "        X_train, Y_train = X[train_index], X[train_index]\n",
    "        X_test, Y_test = X[test_index], X[test_index]\n",
    "        X_train, X_val, Y_train, Y_val = sklearn.model_selection.train_test_split(X_train, Y_train, test_size=val_size, random_state=1234)\n",
    "        X_train, Y_train, X_val, Y_val, X_test, Y_test = load_all_data(X_train, X_val, X_test, out_folder_index_cv)\n",
    "\n",
    "        train_test(i, X_train, Y_train, X_val, Y_val, X_test, Y_test, sum_iou_train, sum_dice_train, sum_iou_val, sum_dice_val, sum_iou_test, sum_dice_test, out_folder_index_cv)\n",
    "\n",
    "    calculate_mean_metrics(path_out)\n",
    "\n",
    "def without_cross_validation():\n",
    "    keras.backend.clear_session()\n",
    "\n",
    "    index_cv=999\n",
    "    out_folder_index_cv = os.path.join(path_out, f\"cv-{str(index_cv)}\")\n",
    "    create_if_not_exists_dir(out_folder_index_cv)\n",
    "\n",
    "    X_train, X_test, Y_train, Y_test = sklearn.model_selection.train_test_split(X, Y, test_size=test_size, random_state=1234)\n",
    "    X_train, X_val, Y_train, Y_val = sklearn.model_selection.train_test_split(X_train, Y_train, test_size=val_size, random_state=1234)\n",
    "    X_train, Y_train, X_val, Y_val, X_test, Y_test = load_all_data(X_train, X_val, X_test, out_folder_index_cv)\n",
    "\n",
    "    train_test(index_cv, X_train, Y_train, X_val, Y_val, X_test, Y_test, sum_iou_train, sum_dice_train, sum_iou_val, sum_dice_val, sum_iou_test, sum_dice_test, out_folder_index_cv)"
   ],
   "metadata": {
    "collapsed": false,
    "pycharm": {
     "name": "#%%\n"
    }
   }
  },
  {
   "cell_type": "code",
   "execution_count": 48,
   "outputs": [
    {
     "name": "stdout",
     "output_type": "stream",
     "text": [
      "/home/xandao/herbario/code/piperaceae-segmentation/result/10-07-2022-00-13-33/cv-999/trainimages-used.csv created\n",
      "/home/xandao/herbario/code/piperaceae-segmentation/result/10-07-2022-00-13-33/cv-999/valimages-used.csv created\n",
      "/home/xandao/herbario/code/piperaceae-segmentation/result/10-07-2022-00-13-33/cv-999/testimages-used.csv created\n",
      "cv -> 999\n",
      "X_train.shape: (302, 400, 400, 1), Y_train.shape: (302, 400, 400, 1)\n",
      "X_val.shape: (16, 400, 400, 1), Y_val.shape: (16, 400, 400, 1)\n",
      "X_test.shape: (57, 400, 400, 1), Y_test.shape: (57, 400, 400, 1)\n",
      "INFO:tensorflow:Using MirroredStrategy with devices ('/job:localhost/replica:0/task:0/device:GPU:0',)\n",
      "INFO:tensorflow:Reduce to /job:localhost/replica:0/task:0/device:CPU:0 then broadcast to ('/job:localhost/replica:0/task:0/device:CPU:0',).\n",
      "INFO:tensorflow:Reduce to /job:localhost/replica:0/task:0/device:CPU:0 then broadcast to ('/job:localhost/replica:0/task:0/device:CPU:0',).\n",
      "INFO:tensorflow:Reduce to /job:localhost/replica:0/task:0/device:CPU:0 then broadcast to ('/job:localhost/replica:0/task:0/device:CPU:0',).\n",
      "INFO:tensorflow:Reduce to /job:localhost/replica:0/task:0/device:CPU:0 then broadcast to ('/job:localhost/replica:0/task:0/device:CPU:0',).\n",
      "INFO:tensorflow:Reduce to /job:localhost/replica:0/task:0/device:CPU:0 then broadcast to ('/job:localhost/replica:0/task:0/device:CPU:0',).\n",
      "INFO:tensorflow:Reduce to /job:localhost/replica:0/task:0/device:CPU:0 then broadcast to ('/job:localhost/replica:0/task:0/device:CPU:0',).\n",
      "INFO:tensorflow:Reduce to /job:localhost/replica:0/task:0/device:CPU:0 then broadcast to ('/job:localhost/replica:0/task:0/device:CPU:0',).\n",
      "INFO:tensorflow:Reduce to /job:localhost/replica:0/task:0/device:CPU:0 then broadcast to ('/job:localhost/replica:0/task:0/device:CPU:0',).\n",
      "INFO:tensorflow:Reduce to /job:localhost/replica:0/task:0/device:CPU:0 then broadcast to ('/job:localhost/replica:0/task:0/device:CPU:0',).\n",
      "INFO:tensorflow:Reduce to /job:localhost/replica:0/task:0/device:CPU:0 then broadcast to ('/job:localhost/replica:0/task:0/device:CPU:0',).\n",
      "Epoch 1/4\n"
     ]
    },
    {
     "name": "stderr",
     "output_type": "stream",
     "text": [
      "2022-07-10 00:13:39.727653: W tensorflow/core/grappler/optimizers/data/auto_shard.cc:776] AUTO sharding policy will apply DATA sharding policy as it failed to apply FILE sharding policy because of the following reason: Did not find a shardable source, walked to a node which is not a dataset: name: \"FlatMapDataset/_2\"\n",
      "op: \"FlatMapDataset\"\n",
      "input: \"TensorDataset/_1\"\n",
      "attr {\n",
      "  key: \"Targuments\"\n",
      "  value {\n",
      "    list {\n",
      "    }\n",
      "  }\n",
      "}\n",
      "attr {\n",
      "  key: \"_cardinality\"\n",
      "  value {\n",
      "    i: -2\n",
      "  }\n",
      "}\n",
      "attr {\n",
      "  key: \"f\"\n",
      "  value {\n",
      "    func {\n",
      "      name: \"__inference_Dataset_flat_map_flat_map_fn_31005\"\n",
      "    }\n",
      "  }\n",
      "}\n",
      "attr {\n",
      "  key: \"metadata\"\n",
      "  value {\n",
      "    s: \"\\n\\023FlatMapDataset:5405\"\n",
      "  }\n",
      "}\n",
      "attr {\n",
      "  key: \"output_shapes\"\n",
      "  value {\n",
      "    list {\n",
      "      shape {\n",
      "        dim {\n",
      "          size: -1\n",
      "        }\n",
      "        dim {\n",
      "          size: -1\n",
      "        }\n",
      "        dim {\n",
      "          size: -1\n",
      "        }\n",
      "        dim {\n",
      "          size: -1\n",
      "        }\n",
      "      }\n",
      "      shape {\n",
      "        dim {\n",
      "          size: -1\n",
      "        }\n",
      "        dim {\n",
      "          size: -1\n",
      "        }\n",
      "        dim {\n",
      "          size: -1\n",
      "        }\n",
      "        dim {\n",
      "          size: -1\n",
      "        }\n",
      "      }\n",
      "    }\n",
      "  }\n",
      "}\n",
      "attr {\n",
      "  key: \"output_types\"\n",
      "  value {\n",
      "    list {\n",
      "      type: DT_FLOAT\n",
      "      type: DT_FLOAT\n",
      "    }\n",
      "  }\n",
      "}\n",
      "experimental_type {\n",
      "  type_id: TFT_PRODUCT\n",
      "  args {\n",
      "    type_id: TFT_DATASET\n",
      "    args {\n",
      "      type_id: TFT_PRODUCT\n",
      "      args {\n",
      "        type_id: TFT_TENSOR\n",
      "        args {\n",
      "          type_id: TFT_FLOAT\n",
      "        }\n",
      "      }\n",
      "      args {\n",
      "        type_id: TFT_TENSOR\n",
      "        args {\n",
      "          type_id: TFT_FLOAT\n",
      "        }\n",
      "      }\n",
      "    }\n",
      "  }\n",
      "  args {\n",
      "    type_id: TFT_DATASET\n",
      "    args {\n",
      "      type_id: TFT_PRODUCT\n",
      "      args {\n",
      "        type_id: TFT_TENSOR\n",
      "        args {\n",
      "          type_id: TFT_FLOAT\n",
      "        }\n",
      "      }\n",
      "      args {\n",
      "        type_id: TFT_TENSOR\n",
      "        args {\n",
      "          type_id: TFT_FLOAT\n",
      "        }\n",
      "      }\n",
      "    }\n",
      "  }\n",
      "}\n",
      ". Consider either turning off auto-sharding or switching the auto_shard_policy to DATA to shard this dataset. You can do this by creating a new `tf.data.Options()` object then setting `options.experimental_distribute.auto_shard_policy = AutoShardPolicy.DATA` before applying the options object to the dataset via `dataset.with_options(options)`.\n"
     ]
    },
    {
     "name": "stdout",
     "output_type": "stream",
     "text": [
      "19/19 [==============================] - ETA: 0s - loss: 0.2432 - dice_coef: 0.8615"
     ]
    },
    {
     "name": "stderr",
     "output_type": "stream",
     "text": [
      "2022-07-10 00:14:09.450721: W tensorflow/core/grappler/optimizers/data/auto_shard.cc:776] AUTO sharding policy will apply DATA sharding policy as it failed to apply FILE sharding policy because of the following reason: Did not find a shardable source, walked to a node which is not a dataset: name: \"FlatMapDataset/_9\"\n",
      "op: \"FlatMapDataset\"\n",
      "input: \"PrefetchDataset/_8\"\n",
      "attr {\n",
      "  key: \"Targuments\"\n",
      "  value {\n",
      "    list {\n",
      "    }\n",
      "  }\n",
      "}\n",
      "attr {\n",
      "  key: \"_cardinality\"\n",
      "  value {\n",
      "    i: -2\n",
      "  }\n",
      "}\n",
      "attr {\n",
      "  key: \"f\"\n",
      "  value {\n",
      "    func {\n",
      "      name: \"__inference_Dataset_flat_map_slice_batch_indices_38543\"\n",
      "    }\n",
      "  }\n",
      "}\n",
      "attr {\n",
      "  key: \"metadata\"\n",
      "  value {\n",
      "    s: \"\\n\\023FlatMapDataset:5430\"\n",
      "  }\n",
      "}\n",
      "attr {\n",
      "  key: \"output_shapes\"\n",
      "  value {\n",
      "    list {\n",
      "      shape {\n",
      "        dim {\n",
      "          size: -1\n",
      "        }\n",
      "      }\n",
      "    }\n",
      "  }\n",
      "}\n",
      "attr {\n",
      "  key: \"output_types\"\n",
      "  value {\n",
      "    list {\n",
      "      type: DT_INT64\n",
      "    }\n",
      "  }\n",
      "}\n",
      "experimental_type {\n",
      "  type_id: TFT_PRODUCT\n",
      "  args {\n",
      "    type_id: TFT_DATASET\n",
      "    args {\n",
      "      type_id: TFT_PRODUCT\n",
      "      args {\n",
      "        type_id: TFT_TENSOR\n",
      "        args {\n",
      "          type_id: TFT_INT64\n",
      "        }\n",
      "      }\n",
      "    }\n",
      "  }\n",
      "  args {\n",
      "    type_id: TFT_DATASET\n",
      "    args {\n",
      "      type_id: TFT_PRODUCT\n",
      "      args {\n",
      "        type_id: TFT_TENSOR\n",
      "        args {\n",
      "          type_id: TFT_INT64\n",
      "        }\n",
      "      }\n",
      "    }\n",
      "  }\n",
      "}\n",
      ". Consider either turning off auto-sharding or switching the auto_shard_policy to DATA to shard this dataset. You can do this by creating a new `tf.data.Options()` object then setting `options.experimental_distribute.auto_shard_policy = AutoShardPolicy.DATA` before applying the options object to the dataset via `dataset.with_options(options)`.\n"
     ]
    },
    {
     "name": "stdout",
     "output_type": "stream",
     "text": [
      "\n",
      "Epoch 1: val_loss improved from inf to 0.21652, saving model to /home/xandao/herbario/code/piperaceae-segmentation/model/batch16+lr0_05+epoch4+steps19+cv999+unet.h5\n",
      "19/19 [==============================] - 31s 1s/step - loss: 0.2432 - dice_coef: 0.8615 - val_loss: 0.2165 - val_dice_coef: 0.8887 - lr: 0.0500\n",
      "Epoch 2/4\n",
      "19/19 [==============================] - ETA: 0s - loss: 0.0962 - dice_coef: 0.9504\n",
      "Epoch 2: val_loss did not improve from 0.21652\n",
      "19/19 [==============================] - 26s 1s/step - loss: 0.0962 - dice_coef: 0.9504 - val_loss: 0.2165 - val_dice_coef: 0.8887 - lr: 0.0500\n",
      "Epoch 3/4\n",
      "19/19 [==============================] - ETA: 0s - loss: 0.0709 - dice_coef: 0.9624\n",
      "Epoch 3: val_loss improved from 0.21652 to 0.19687, saving model to /home/xandao/herbario/code/piperaceae-segmentation/model/batch16+lr0_05+epoch4+steps19+cv999+unet.h5\n",
      "19/19 [==============================] - 27s 1s/step - loss: 0.0709 - dice_coef: 0.9624 - val_loss: 0.1969 - val_dice_coef: 0.8983 - lr: 0.0500\n",
      "Epoch 4/4\n",
      "19/19 [==============================] - ETA: 0s - loss: 0.0676 - dice_coef: 0.9642\n",
      "Epoch 4: val_loss improved from 0.19687 to 0.16879, saving model to /home/xandao/herbario/code/piperaceae-segmentation/model/batch16+lr0_05+epoch4+steps19+cv999+unet.h5\n",
      "19/19 [==============================] - 26s 1s/step - loss: 0.0676 - dice_coef: 0.9642 - val_loss: 0.1688 - val_dice_coef: 0.9120 - lr: 0.0500\n",
      "time elapsed 00:01:50\n"
     ]
    },
    {
     "ename": "ValueError",
     "evalue": "'middle' is not a valid value for align; supported values are 'top', 'bottom', 'center', 'baseline', 'center_baseline'",
     "output_type": "error",
     "traceback": [
      "\u001B[0;31m---------------------------------------------------------------------------\u001B[0m",
      "\u001B[0;31mValueError\u001B[0m                                Traceback (most recent call last)",
      "Input \u001B[0;32mIn [48]\u001B[0m, in \u001B[0;36m<cell line: 1>\u001B[0;34m()\u001B[0m\n\u001B[1;32m      2\u001B[0m     test_cross_validation()\n\u001B[1;32m      3\u001B[0m \u001B[38;5;28;01melse\u001B[39;00m:\n\u001B[0;32m----> 4\u001B[0m     \u001B[43mwithout_cross_validation\u001B[49m\u001B[43m(\u001B[49m\u001B[43m)\u001B[49m\n",
      "Input \u001B[0;32mIn [47]\u001B[0m, in \u001B[0;36mwithout_cross_validation\u001B[0;34m()\u001B[0m\n\u001B[1;32m     25\u001B[0m X_train, X_val, Y_train, Y_val \u001B[38;5;241m=\u001B[39m sklearn\u001B[38;5;241m.\u001B[39mmodel_selection\u001B[38;5;241m.\u001B[39mtrain_test_split(X_train, Y_train, test_size\u001B[38;5;241m=\u001B[39mval_size, random_state\u001B[38;5;241m=\u001B[39m\u001B[38;5;241m1234\u001B[39m)\n\u001B[1;32m     26\u001B[0m X_train, Y_train, X_val, Y_val, X_test, Y_test \u001B[38;5;241m=\u001B[39m load_all_data(X_train, X_val, X_test, out_folder_index_cv)\n\u001B[0;32m---> 28\u001B[0m \u001B[43mtrain_test\u001B[49m\u001B[43m(\u001B[49m\u001B[43mindex_cv\u001B[49m\u001B[43m,\u001B[49m\u001B[43m \u001B[49m\u001B[43mX_train\u001B[49m\u001B[43m,\u001B[49m\u001B[43m \u001B[49m\u001B[43mY_train\u001B[49m\u001B[43m,\u001B[49m\u001B[43m \u001B[49m\u001B[43mX_val\u001B[49m\u001B[43m,\u001B[49m\u001B[43m \u001B[49m\u001B[43mY_val\u001B[49m\u001B[43m,\u001B[49m\u001B[43m \u001B[49m\u001B[43mX_test\u001B[49m\u001B[43m,\u001B[49m\u001B[43m \u001B[49m\u001B[43mY_test\u001B[49m\u001B[43m,\u001B[49m\u001B[43m \u001B[49m\u001B[43msum_iou_train\u001B[49m\u001B[43m,\u001B[49m\u001B[43m \u001B[49m\u001B[43msum_dice_train\u001B[49m\u001B[43m,\u001B[49m\u001B[43m \u001B[49m\u001B[43msum_iou_val\u001B[49m\u001B[43m,\u001B[49m\u001B[43m \u001B[49m\u001B[43msum_dice_val\u001B[49m\u001B[43m,\u001B[49m\u001B[43m \u001B[49m\u001B[43msum_iou_test\u001B[49m\u001B[43m,\u001B[49m\u001B[43m \u001B[49m\u001B[43msum_dice_test\u001B[49m\u001B[43m,\u001B[49m\u001B[43m \u001B[49m\u001B[43mout_folder_index_cv\u001B[49m\u001B[43m)\u001B[49m\n",
      "Input \u001B[0;32mIn [45]\u001B[0m, in \u001B[0;36mtrain_test\u001B[0;34m(index_cv, X_train, Y_train, X_val, Y_val, X_test, Y_test, sum_iou_train, sum_dice_train, sum_iou_val, sum_dice_val, sum_iou_test, sum_dice_test, path)\u001B[0m\n\u001B[1;32m     31\u001B[0m     \u001B[38;5;28mprint\u001B[39m(\u001B[38;5;124mf\u001B[39m\u001B[38;5;124m\"\u001B[39m\u001B[38;5;124mtime elapsed \u001B[39m\u001B[38;5;132;01m{\u001B[39;00mtime\u001B[38;5;241m.\u001B[39mstrftime(\u001B[38;5;124m'\u001B[39m\u001B[38;5;124m%\u001B[39m\u001B[38;5;124mH:\u001B[39m\u001B[38;5;124m%\u001B[39m\u001B[38;5;124mM:\u001B[39m\u001B[38;5;124m%\u001B[39m\u001B[38;5;124mS\u001B[39m\u001B[38;5;124m'\u001B[39m, time\u001B[38;5;241m.\u001B[39mgmtime(elapsed_time))\u001B[38;5;132;01m}\u001B[39;00m\u001B[38;5;124m\"\u001B[39m)\n\u001B[1;32m     33\u001B[0m     save_fit_history(fit, index_cv, path)\n\u001B[0;32m---> 34\u001B[0m     \u001B[43mplot_loss_graph\u001B[49m\u001B[43m(\u001B[49m\u001B[43mfit\u001B[49m\u001B[43m,\u001B[49m\u001B[43m \u001B[49m\u001B[43mindex_cv\u001B[49m\u001B[43m,\u001B[49m\u001B[43m \u001B[49m\u001B[43mpath\u001B[49m\u001B[43m)\u001B[49m\n\u001B[1;32m     37\u001B[0m dice_test, dice_train, dice_val, iou_test, iou_train, iou_val \u001B[38;5;241m=\u001B[39m calculate_iou_dice(X_test, X_train, X_val, Y_test,Y_train, Y_val, model)\n\u001B[1;32m     39\u001B[0m sum_iou_train \u001B[38;5;241m+\u001B[39m\u001B[38;5;241m=\u001B[39m iou_train\n",
      "Input \u001B[0;32mIn [43]\u001B[0m, in \u001B[0;36mplot_loss_graph\u001B[0;34m(model, index_cv, path)\u001B[0m\n\u001B[1;32m      4\u001B[0m ax\u001B[38;5;241m.\u001B[39mplot(model\u001B[38;5;241m.\u001B[39mhistory[\u001B[38;5;124m\"\u001B[39m\u001B[38;5;124mval_loss\u001B[39m\u001B[38;5;124m\"\u001B[39m], label\u001B[38;5;241m=\u001B[39m\u001B[38;5;124m\"\u001B[39m\u001B[38;5;124mValidation\u001B[39m\u001B[38;5;124m\"\u001B[39m, linewidth\u001B[38;5;241m=\u001B[39m\u001B[38;5;241m5\u001B[39m, marker\u001B[38;5;241m=\u001B[39m\u001B[38;5;124m\"\u001B[39m\u001B[38;5;124mo\u001B[39m\u001B[38;5;124m\"\u001B[39m)\n\u001B[1;32m      5\u001B[0m ax\u001B[38;5;241m.\u001B[39mplot(model\u001B[38;5;241m.\u001B[39mhistory[\u001B[38;5;124m\"\u001B[39m\u001B[38;5;124mlr\u001B[39m\u001B[38;5;124m\"\u001B[39m], label\u001B[38;5;241m=\u001B[39m\u001B[38;5;124m\"\u001B[39m\u001B[38;5;124mLearning rate\u001B[39m\u001B[38;5;124m\"\u001B[39m, linewidth\u001B[38;5;241m=\u001B[39m\u001B[38;5;241m5\u001B[39m, marker\u001B[38;5;241m=\u001B[39m\u001B[38;5;124m\"\u001B[39m\u001B[38;5;124mo\u001B[39m\u001B[38;5;124m\"\u001B[39m)\n\u001B[0;32m----> 6\u001B[0m \u001B[43mfig\u001B[49m\u001B[38;5;241;43m.\u001B[39;49m\u001B[43msuptitle\u001B[49m\u001B[43m(\u001B[49m\u001B[38;5;124;43m\"\u001B[39;49m\u001B[38;5;124;43mTrain, Validation and Learning Rate\u001B[39;49m\u001B[38;5;124;43m\"\u001B[39;49m\u001B[43m,\u001B[49m\u001B[43m \u001B[49m\u001B[43mcolor\u001B[49m\u001B[38;5;241;43m=\u001B[39;49m\u001B[38;5;124;43m\"\u001B[39;49m\u001B[38;5;124;43mr\u001B[39;49m\u001B[38;5;124;43m\"\u001B[39;49m\u001B[43m,\u001B[49m\u001B[43m \u001B[49m\u001B[43mfontsize\u001B[49m\u001B[38;5;241;43m=\u001B[39;49m\u001B[38;5;241;43m20\u001B[39;49m\u001B[43m,\u001B[49m\u001B[43m \u001B[49m\u001B[43mfontweight\u001B[49m\u001B[38;5;241;43m=\u001B[39;49m\u001B[38;5;124;43m\"\u001B[39;49m\u001B[38;5;124;43mbold\u001B[39;49m\u001B[38;5;124;43m\"\u001B[39;49m\u001B[43m,\u001B[49m\u001B[43m \u001B[49m\u001B[43mverticalalignment\u001B[49m\u001B[38;5;241;43m=\u001B[39;49m\u001B[38;5;124;43m\"\u001B[39;49m\u001B[38;5;124;43mmiddle\u001B[39;49m\u001B[38;5;124;43m\"\u001B[39;49m\u001B[43m)\u001B[49m\n\u001B[1;32m      7\u001B[0m ax\u001B[38;5;241m.\u001B[39mset_ylabel(\u001B[38;5;124m\"\u001B[39m\u001B[38;5;124mLoss\u001B[39m\u001B[38;5;124m\"\u001B[39m, color\u001B[38;5;241m=\u001B[39m\u001B[38;5;124m\"\u001B[39m\u001B[38;5;124mr\u001B[39m\u001B[38;5;124m\"\u001B[39m, fontsize\u001B[38;5;241m=\u001B[39m\u001B[38;5;241m16\u001B[39m)\n\u001B[1;32m      8\u001B[0m ax\u001B[38;5;241m.\u001B[39mset_xlabel(\u001B[38;5;124m\"\u001B[39m\u001B[38;5;124mEpoch\u001B[39m\u001B[38;5;124m\"\u001B[39m, color\u001B[38;5;241m=\u001B[39m\u001B[38;5;124m\"\u001B[39m\u001B[38;5;124mr\u001B[39m\u001B[38;5;124m\"\u001B[39m, fontsize\u001B[38;5;241m=\u001B[39m\u001B[38;5;241m16\u001B[39m)\n",
      "File \u001B[0;32m~/miniconda3/lib/python3.8/site-packages/matplotlib/figure.py:410\u001B[0m, in \u001B[0;36mFigureBase.suptitle\u001B[0;34m(self, t, **kwargs)\u001B[0m\n\u001B[1;32m    403\u001B[0m \u001B[38;5;129m@docstring\u001B[39m\u001B[38;5;241m.\u001B[39mSubstitution(x0\u001B[38;5;241m=\u001B[39m\u001B[38;5;241m0.5\u001B[39m, y0\u001B[38;5;241m=\u001B[39m\u001B[38;5;241m0.98\u001B[39m, name\u001B[38;5;241m=\u001B[39m\u001B[38;5;124m'\u001B[39m\u001B[38;5;124msuptitle\u001B[39m\u001B[38;5;124m'\u001B[39m, ha\u001B[38;5;241m=\u001B[39m\u001B[38;5;124m'\u001B[39m\u001B[38;5;124mcenter\u001B[39m\u001B[38;5;124m'\u001B[39m,\n\u001B[1;32m    404\u001B[0m                         va\u001B[38;5;241m=\u001B[39m\u001B[38;5;124m'\u001B[39m\u001B[38;5;124mtop\u001B[39m\u001B[38;5;124m'\u001B[39m)\n\u001B[1;32m    405\u001B[0m \u001B[38;5;129m@docstring\u001B[39m\u001B[38;5;241m.\u001B[39mcopy(_suplabels)\n\u001B[1;32m    406\u001B[0m \u001B[38;5;28;01mdef\u001B[39;00m \u001B[38;5;21msuptitle\u001B[39m(\u001B[38;5;28mself\u001B[39m, t, \u001B[38;5;241m*\u001B[39m\u001B[38;5;241m*\u001B[39mkwargs):\n\u001B[1;32m    407\u001B[0m     \u001B[38;5;66;03m# docstring from _suplabels...\u001B[39;00m\n\u001B[1;32m    408\u001B[0m     info \u001B[38;5;241m=\u001B[39m {\u001B[38;5;124m'\u001B[39m\u001B[38;5;124mname\u001B[39m\u001B[38;5;124m'\u001B[39m: \u001B[38;5;124m'\u001B[39m\u001B[38;5;124m_suptitle\u001B[39m\u001B[38;5;124m'\u001B[39m, \u001B[38;5;124m'\u001B[39m\u001B[38;5;124mx0\u001B[39m\u001B[38;5;124m'\u001B[39m: \u001B[38;5;241m0.5\u001B[39m, \u001B[38;5;124m'\u001B[39m\u001B[38;5;124my0\u001B[39m\u001B[38;5;124m'\u001B[39m: \u001B[38;5;241m0.98\u001B[39m,\n\u001B[1;32m    409\u001B[0m             \u001B[38;5;124m'\u001B[39m\u001B[38;5;124mha\u001B[39m\u001B[38;5;124m'\u001B[39m: \u001B[38;5;124m'\u001B[39m\u001B[38;5;124mcenter\u001B[39m\u001B[38;5;124m'\u001B[39m, \u001B[38;5;124m'\u001B[39m\u001B[38;5;124mva\u001B[39m\u001B[38;5;124m'\u001B[39m: \u001B[38;5;124m'\u001B[39m\u001B[38;5;124mtop\u001B[39m\u001B[38;5;124m'\u001B[39m, \u001B[38;5;124m'\u001B[39m\u001B[38;5;124mrotation\u001B[39m\u001B[38;5;124m'\u001B[39m: \u001B[38;5;241m0\u001B[39m}\n\u001B[0;32m--> 410\u001B[0m     \u001B[38;5;28;01mreturn\u001B[39;00m \u001B[38;5;28;43mself\u001B[39;49m\u001B[38;5;241;43m.\u001B[39;49m\u001B[43m_suplabels\u001B[49m\u001B[43m(\u001B[49m\u001B[43mt\u001B[49m\u001B[43m,\u001B[49m\u001B[43m \u001B[49m\u001B[43minfo\u001B[49m\u001B[43m,\u001B[49m\u001B[43m \u001B[49m\u001B[38;5;241;43m*\u001B[39;49m\u001B[38;5;241;43m*\u001B[39;49m\u001B[43mkwargs\u001B[49m\u001B[43m)\u001B[49m\n",
      "File \u001B[0;32m~/miniconda3/lib/python3.8/site-packages/matplotlib/figure.py:390\u001B[0m, in \u001B[0;36mFigureBase._suplabels\u001B[0;34m(self, t, info, **kwargs)\u001B[0m\n\u001B[1;32m    387\u001B[0m     \u001B[38;5;28;01mif\u001B[39;00m \u001B[38;5;124m'\u001B[39m\u001B[38;5;124mfontweight\u001B[39m\u001B[38;5;124m'\u001B[39m \u001B[38;5;129;01mnot\u001B[39;00m \u001B[38;5;129;01min\u001B[39;00m kwargs \u001B[38;5;129;01mand\u001B[39;00m \u001B[38;5;124m'\u001B[39m\u001B[38;5;124mweight\u001B[39m\u001B[38;5;124m'\u001B[39m \u001B[38;5;129;01mnot\u001B[39;00m \u001B[38;5;129;01min\u001B[39;00m kwargs:\n\u001B[1;32m    388\u001B[0m         kwargs[\u001B[38;5;124m'\u001B[39m\u001B[38;5;124mweight\u001B[39m\u001B[38;5;124m'\u001B[39m] \u001B[38;5;241m=\u001B[39m mpl\u001B[38;5;241m.\u001B[39mrcParams[\u001B[38;5;124m'\u001B[39m\u001B[38;5;124mfigure.titleweight\u001B[39m\u001B[38;5;124m'\u001B[39m]\n\u001B[0;32m--> 390\u001B[0m sup \u001B[38;5;241m=\u001B[39m \u001B[38;5;28;43mself\u001B[39;49m\u001B[38;5;241;43m.\u001B[39;49m\u001B[43mtext\u001B[49m\u001B[43m(\u001B[49m\u001B[43mx\u001B[49m\u001B[43m,\u001B[49m\u001B[43m \u001B[49m\u001B[43my\u001B[49m\u001B[43m,\u001B[49m\u001B[43m \u001B[49m\u001B[43mt\u001B[49m\u001B[43m,\u001B[49m\u001B[43m \u001B[49m\u001B[38;5;241;43m*\u001B[39;49m\u001B[38;5;241;43m*\u001B[39;49m\u001B[43mkwargs\u001B[49m\u001B[43m)\u001B[49m\n\u001B[1;32m    391\u001B[0m \u001B[38;5;28;01mif\u001B[39;00m suplab \u001B[38;5;129;01mis\u001B[39;00m \u001B[38;5;129;01mnot\u001B[39;00m \u001B[38;5;28;01mNone\u001B[39;00m:\n\u001B[1;32m    392\u001B[0m     suplab\u001B[38;5;241m.\u001B[39mset_text(t)\n",
      "File \u001B[0;32m~/miniconda3/lib/python3.8/site-packages/matplotlib/figure.py:1170\u001B[0m, in \u001B[0;36mFigureBase.text\u001B[0;34m(self, x, y, s, fontdict, **kwargs)\u001B[0m\n\u001B[1;32m   1131\u001B[0m \u001B[38;5;124;03m\"\"\"\u001B[39;00m\n\u001B[1;32m   1132\u001B[0m \u001B[38;5;124;03mAdd text to figure.\u001B[39;00m\n\u001B[1;32m   1133\u001B[0m \n\u001B[0;32m   (...)\u001B[0m\n\u001B[1;32m   1163\u001B[0m \u001B[38;5;124;03m.pyplot.text\u001B[39;00m\n\u001B[1;32m   1164\u001B[0m \u001B[38;5;124;03m\"\"\"\u001B[39;00m\n\u001B[1;32m   1165\u001B[0m effective_kwargs \u001B[38;5;241m=\u001B[39m {\n\u001B[1;32m   1166\u001B[0m     \u001B[38;5;124m'\u001B[39m\u001B[38;5;124mtransform\u001B[39m\u001B[38;5;124m'\u001B[39m: \u001B[38;5;28mself\u001B[39m\u001B[38;5;241m.\u001B[39mtransSubfigure,\n\u001B[1;32m   1167\u001B[0m     \u001B[38;5;241m*\u001B[39m\u001B[38;5;241m*\u001B[39m(fontdict \u001B[38;5;28;01mif\u001B[39;00m fontdict \u001B[38;5;129;01mis\u001B[39;00m \u001B[38;5;129;01mnot\u001B[39;00m \u001B[38;5;28;01mNone\u001B[39;00m \u001B[38;5;28;01melse\u001B[39;00m {}),\n\u001B[1;32m   1168\u001B[0m     \u001B[38;5;241m*\u001B[39m\u001B[38;5;241m*\u001B[39mkwargs,\n\u001B[1;32m   1169\u001B[0m }\n\u001B[0;32m-> 1170\u001B[0m text \u001B[38;5;241m=\u001B[39m \u001B[43mText\u001B[49m\u001B[43m(\u001B[49m\u001B[43mx\u001B[49m\u001B[38;5;241;43m=\u001B[39;49m\u001B[43mx\u001B[49m\u001B[43m,\u001B[49m\u001B[43m \u001B[49m\u001B[43my\u001B[49m\u001B[38;5;241;43m=\u001B[39;49m\u001B[43my\u001B[49m\u001B[43m,\u001B[49m\u001B[43m \u001B[49m\u001B[43mtext\u001B[49m\u001B[38;5;241;43m=\u001B[39;49m\u001B[43ms\u001B[49m\u001B[43m,\u001B[49m\u001B[43m \u001B[49m\u001B[38;5;241;43m*\u001B[39;49m\u001B[38;5;241;43m*\u001B[39;49m\u001B[43meffective_kwargs\u001B[49m\u001B[43m)\u001B[49m\n\u001B[1;32m   1171\u001B[0m text\u001B[38;5;241m.\u001B[39mset_figure(\u001B[38;5;28mself\u001B[39m)\n\u001B[1;32m   1172\u001B[0m text\u001B[38;5;241m.\u001B[39mstale_callback \u001B[38;5;241m=\u001B[39m _stale_figure_callback\n",
      "File \u001B[0;32m~/miniconda3/lib/python3.8/site-packages/matplotlib/text.py:149\u001B[0m, in \u001B[0;36mText.__init__\u001B[0;34m(self, x, y, text, color, verticalalignment, horizontalalignment, multialignment, fontproperties, rotation, linespacing, rotation_mode, usetex, wrap, transform_rotates_text, parse_math, **kwargs)\u001B[0m\n\u001B[1;32m    147\u001B[0m \u001B[38;5;28mself\u001B[39m\u001B[38;5;241m.\u001B[39mset_parse_math(parse_math)\n\u001B[1;32m    148\u001B[0m \u001B[38;5;28mself\u001B[39m\u001B[38;5;241m.\u001B[39mset_wrap(wrap)\n\u001B[0;32m--> 149\u001B[0m \u001B[38;5;28;43mself\u001B[39;49m\u001B[38;5;241;43m.\u001B[39;49m\u001B[43mset_verticalalignment\u001B[49m\u001B[43m(\u001B[49m\u001B[43mverticalalignment\u001B[49m\u001B[43m)\u001B[49m\n\u001B[1;32m    150\u001B[0m \u001B[38;5;28mself\u001B[39m\u001B[38;5;241m.\u001B[39mset_horizontalalignment(horizontalalignment)\n\u001B[1;32m    151\u001B[0m \u001B[38;5;28mself\u001B[39m\u001B[38;5;241m.\u001B[39m_multialignment \u001B[38;5;241m=\u001B[39m multialignment\n",
      "File \u001B[0;32m~/miniconda3/lib/python3.8/site-packages/matplotlib/text.py:1203\u001B[0m, in \u001B[0;36mText.set_verticalalignment\u001B[0;34m(self, align)\u001B[0m\n\u001B[1;32m   1195\u001B[0m \u001B[38;5;28;01mdef\u001B[39;00m \u001B[38;5;21mset_verticalalignment\u001B[39m(\u001B[38;5;28mself\u001B[39m, align):\n\u001B[1;32m   1196\u001B[0m     \u001B[38;5;124;03m\"\"\"\u001B[39;00m\n\u001B[1;32m   1197\u001B[0m \u001B[38;5;124;03m    Set the vertical alignment.\u001B[39;00m\n\u001B[1;32m   1198\u001B[0m \n\u001B[0;32m   (...)\u001B[0m\n\u001B[1;32m   1201\u001B[0m \u001B[38;5;124;03m    align : {'center', 'top', 'bottom', 'baseline', 'center_baseline'}\u001B[39;00m\n\u001B[1;32m   1202\u001B[0m \u001B[38;5;124;03m    \"\"\"\u001B[39;00m\n\u001B[0;32m-> 1203\u001B[0m     \u001B[43m_api\u001B[49m\u001B[38;5;241;43m.\u001B[39;49m\u001B[43mcheck_in_list\u001B[49m\u001B[43m(\u001B[49m\n\u001B[1;32m   1204\u001B[0m \u001B[43m        \u001B[49m\u001B[43m[\u001B[49m\u001B[38;5;124;43m'\u001B[39;49m\u001B[38;5;124;43mtop\u001B[39;49m\u001B[38;5;124;43m'\u001B[39;49m\u001B[43m,\u001B[49m\u001B[43m \u001B[49m\u001B[38;5;124;43m'\u001B[39;49m\u001B[38;5;124;43mbottom\u001B[39;49m\u001B[38;5;124;43m'\u001B[39;49m\u001B[43m,\u001B[49m\u001B[43m \u001B[49m\u001B[38;5;124;43m'\u001B[39;49m\u001B[38;5;124;43mcenter\u001B[39;49m\u001B[38;5;124;43m'\u001B[39;49m\u001B[43m,\u001B[49m\u001B[43m \u001B[49m\u001B[38;5;124;43m'\u001B[39;49m\u001B[38;5;124;43mbaseline\u001B[39;49m\u001B[38;5;124;43m'\u001B[39;49m\u001B[43m,\u001B[49m\u001B[43m \u001B[49m\u001B[38;5;124;43m'\u001B[39;49m\u001B[38;5;124;43mcenter_baseline\u001B[39;49m\u001B[38;5;124;43m'\u001B[39;49m\u001B[43m]\u001B[49m\u001B[43m,\u001B[49m\n\u001B[1;32m   1205\u001B[0m \u001B[43m        \u001B[49m\u001B[43malign\u001B[49m\u001B[38;5;241;43m=\u001B[39;49m\u001B[43malign\u001B[49m\u001B[43m)\u001B[49m\n\u001B[1;32m   1206\u001B[0m     \u001B[38;5;28mself\u001B[39m\u001B[38;5;241m.\u001B[39m_verticalalignment \u001B[38;5;241m=\u001B[39m align\n\u001B[1;32m   1207\u001B[0m     \u001B[38;5;28mself\u001B[39m\u001B[38;5;241m.\u001B[39mstale \u001B[38;5;241m=\u001B[39m \u001B[38;5;28;01mTrue\u001B[39;00m\n",
      "File \u001B[0;32m~/miniconda3/lib/python3.8/site-packages/matplotlib/_api/__init__.py:129\u001B[0m, in \u001B[0;36mcheck_in_list\u001B[0;34m(_values, _print_supported_values, **kwargs)\u001B[0m\n\u001B[1;32m    127\u001B[0m \u001B[38;5;28;01mif\u001B[39;00m _print_supported_values:\n\u001B[1;32m    128\u001B[0m     msg \u001B[38;5;241m+\u001B[39m\u001B[38;5;241m=\u001B[39m \u001B[38;5;124mf\u001B[39m\u001B[38;5;124m\"\u001B[39m\u001B[38;5;124m; supported values are \u001B[39m\u001B[38;5;132;01m{\u001B[39;00m\u001B[38;5;124m'\u001B[39m\u001B[38;5;124m, \u001B[39m\u001B[38;5;124m'\u001B[39m\u001B[38;5;241m.\u001B[39mjoin(\u001B[38;5;28mmap\u001B[39m(\u001B[38;5;28mrepr\u001B[39m, values))\u001B[38;5;132;01m}\u001B[39;00m\u001B[38;5;124m\"\u001B[39m\n\u001B[0;32m--> 129\u001B[0m \u001B[38;5;28;01mraise\u001B[39;00m \u001B[38;5;167;01mValueError\u001B[39;00m(msg)\n",
      "\u001B[0;31mValueError\u001B[0m: 'middle' is not a valid value for align; supported values are 'top', 'bottom', 'center', 'baseline', 'center_baseline'"
     ]
    },
    {
     "data": {
      "text/plain": "<Figure size 720x720 with 1 Axes>",
      "image/png": "[encoded data removed]"
     },
     "metadata": {
      "needs_background": "light"
     },
     "output_type": "display_data"
    }
   ],
   "source": [
    "if cross_validation > 1:\n",
    "    test_cross_validation()\n",
    "else:\n",
    "    without_cross_validation()"
   ],
   "metadata": {
    "collapsed": false,
    "pycharm": {
     "name": "#%%\n"
    }
   }
  }
 ],
 "metadata": {
  "kernelspec": {
   "display_name": "Python 3",
   "language": "python",
   "name": "python3"
  },
  "language_info": {
   "codemirror_mode": {
    "name": "ipython",
    "version": 2
   },
   "file_extension": ".py",
   "mimetype": "text/x-python",
   "name": "python",
   "nbconvert_exporter": "python",
   "pygments_lexer": "ipython2",
   "version": "2.7.6"
  }
 },
 "nbformat": 4,
 "nbformat_minor": 0
}