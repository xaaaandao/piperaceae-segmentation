{
 "cells": [
  {
   "cell_type": "code",
   "execution_count": 1,
   "outputs": [],
   "source": [
    "%reload_ext autoreload\n",
    "%autoreload 2\n",
    "%matplotlib inline\n",
    "import collections\n",
    "import sklearn.model_selection\n",
    "\n",
    "from classes import *\n",
    "from files import create_outfile_each_fold, create_outfile_mean, get_path_outfile_each_fold, get_path_mean, save_figs\n",
    "from gpu import set_avx_avx2, set_gpu\n",
    "from metrics import calculate_iou_dice, dice_loss, jaccard_distance_loss\n",
    "from model import cfg_model, train_model"
   ],
   "metadata": {
    "collapsed": false,
    "pycharm": {
     "name": "#%%\n"
    }
   }
  },
  {
   "cell_type": "code",
   "execution_count": 2,
   "outputs": [
    {
     "data": {
      "text/plain": "'2.8.2'"
     },
     "execution_count": 2,
     "metadata": {},
     "output_type": "execute_result"
    }
   ],
   "source": [
    "tensorflow.__version__"
   ],
   "metadata": {
    "collapsed": false,
    "pycharm": {
     "name": "#%%\n"
    }
   }
  },
  {
   "cell_type": "markdown",
   "source": [
    "# GPU"
   ],
   "metadata": {
    "collapsed": false,
    "pycharm": {
     "name": "#%% md\n"
    }
   }
  },
  {
   "cell_type": "code",
   "execution_count": 3,
   "outputs": [
    {
     "name": "stdout",
     "output_type": "stream",
     "text": [
      "GPU: /physical_device:GPU:0\n"
     ]
    }
   ],
   "source": [
    "set_avx_avx2()\n",
    "set_gpu()"
   ],
   "metadata": {
    "collapsed": false,
    "pycharm": {
     "name": "#%%\n"
    }
   }
  },
  {
   "cell_type": "code",
   "execution_count": 4,
   "outputs": [],
   "source": [
    "cfg = {\n",
    "    \"batch_size\": 8,\n",
    "    \"cross_validation\": 2,\n",
    "    \"epochs\": 2,\n",
    "    \"image_size\": 400,\n",
    "    \"learning_rate\": 0.001,\n",
    "    \"random_state\": 1234,\n",
    "    \"test_size\": 0.2,\n",
    "    \"val_size\": 0.05,\n",
    "    \"path_base\": \"dataset\",\n",
    "    \"path_out\": \"out\"\n",
    "}"
   ],
   "metadata": {
    "collapsed": false,
    "pycharm": {
     "name": "#%%\n"
    }
   }
  },
  {
   "cell_type": "code",
   "execution_count": 11,
   "outputs": [],
   "source": [
    "def get_index(cfg):\n",
    "    return sklearn.model_selection.StratifiedShuffleSplit(n_splits=cfg[\"cross_validation\"], test_size=cfg[\"test_size\"], random_state=cfg[\"random_state\"])\n",
    "\n",
    "def get_list_index(cfg, x, y):\n",
    "    list_index = get_index(cfg)\n",
    "    return list([Index(fold, index_train, index_test) for fold, (index_train, index_test) in enumerate(list_index.split(x, y))])"
   ],
   "metadata": {
    "collapsed": false,
    "pycharm": {
     "name": "#%%\n"
    }
   }
  },
  {
   "cell_type": "code",
   "execution_count": 12,
   "outputs": [
    {
     "data": {
      "text/plain": "375"
     },
     "execution_count": 12,
     "metadata": {},
     "output_type": "execute_result"
    }
   ],
   "source": [
    "piperaceae_dataset = Dataset(cfg, os.path.join(cfg[\"path_base\"], \"grayscale/images_grayscale_400_400\"), os.path.join(cfg[\"path_base\"], \"mask\"))\n",
    "len(getattr(piperaceae_dataset, \"list_images\"))"
   ],
   "metadata": {
    "collapsed": false,
    "pycharm": {
     "name": "#%%\n"
    }
   }
  },
  {
   "cell_type": "code",
   "execution_count": 13,
   "outputs": [
    {
     "data": {
      "text/plain": "Counter({'manekia': 75,\n         'ottonia': 75,\n         'peperomia': 75,\n         'piper': 75,\n         'pothomorphe': 75})"
     },
     "execution_count": 13,
     "metadata": {},
     "output_type": "execute_result"
    }
   ],
   "source": [
    "list_images = getattr(piperaceae_dataset, \"list_images\")\n",
    "x = numpy.array(list([l for l in list_images]), dtype=object)\n",
    "y = numpy.array(list([getattr(l[\"image\"], \"label\").value for l in list_images]))\n",
    "\n",
    "collections.Counter(y.tolist())"
   ],
   "metadata": {
    "collapsed": false,
    "pycharm": {
     "name": "#%%\n"
    }
   }
  },
  {
   "cell_type": "code",
   "execution_count": 14,
   "outputs": [
    {
     "data": {
      "text/plain": "2"
     },
     "execution_count": 14,
     "metadata": {},
     "output_type": "execute_result"
    }
   ],
   "source": [
    "list_index = get_list_index(cfg, x, y)\n",
    "len(list_index)"
   ],
   "metadata": {
    "collapsed": false,
    "pycharm": {
     "name": "#%%\n"
    }
   }
  },
  {
   "cell_type": "code",
   "execution_count": 16,
   "outputs": [
    {
     "name": "stdout",
     "output_type": "stream",
     "text": [
      "0\n",
      "(285, 400, 400, 1) (285, 400, 400, 1)\n",
      "(75, 400, 400, 1) (75, 400, 400, 1)\n",
      "(15, 400, 400, 1) (15, 400, 400, 1)\n",
      "INFO:tensorflow:Using MirroredStrategy with devices ('/job:localhost/replica:0/task:0/device:GPU:0',)\n",
      "Epoch 1/2\n",
      "36/36 [==============================] - ETA: 0s - loss: 0.7242 - dice_coef: 0.4267 - jaccard_distance: 0.2766 - precision: 0.8418 - recall: 0.4358\n",
      "Epoch 1: val_loss improved from inf to 0.88538, saving model to out\\02-08-2022-17-05-06\\0\\batch8+lr0_001+epoch2+steps36+fold0+unet.h5\n",
      "36/36 [==============================] - 52s 1s/step - loss: 0.7242 - dice_coef: 0.4267 - jaccard_distance: 0.2766 - precision: 0.8418 - recall: 0.4358 - val_loss: 0.8854 - val_dice_coef: 0.2057 - val_jaccard_distance: 0.1146 - val_precision: 0.7924 - val_recall: 0.0195 - lr: 0.0010\n",
      "Epoch 2/2\n",
      "36/36 [==============================] - ETA: 0s - loss: 0.5679 - dice_coef: 0.5993 - jaccard_distance: 0.4342 - precision: 0.8804 - recall: 0.3341\n",
      "Epoch 2: val_loss improved from 0.88538 to 0.67318, saving model to out\\02-08-2022-17-05-06\\0\\batch8+lr0_001+epoch2+steps36+fold0+unet.h5\n",
      "36/36 [==============================] - 158s 4s/step - loss: 0.5679 - dice_coef: 0.5993 - jaccard_distance: 0.4342 - precision: 0.8804 - recall: 0.3341 - val_loss: 0.6732 - val_dice_coef: 0.4926 - val_jaccard_distance: 0.3268 - val_precision: 0.8595 - val_recall: 0.1883 - lr: 0.0010\n",
      "time elapsed 00:03:31\n",
      "out\\02-08-2022-17-05-06\\0\\fold0-fit.pckl created\n",
      "out\\02-08-2022-17-05-06\\0\\fold0-lossgraph.png created\n",
      "['loss', 'dice_coef', 'jaccard_distance', 'precision', 'recall']\n",
      "fold: 0, elapsed_time: 00:03:31\n"
     ]
    },
    {
     "name": "stderr",
     "output_type": "stream",
     "text": [
      "C:\\Users\\xandao\\Documents\\GitKraken\\piperaceae-segmentation\\files.py:110: UserWarning: out\\02-08-2022-17-05-06\\0\\test\\14\\349pothomorpheNY00191845_01+img+mask_unet.png is a low contrast image\n",
      "  skimage.io.imsave(filename, skimage.img_as_ubyte(image))\n",
      "C:\\Users\\xandao\\Documents\\GitKraken\\piperaceae-segmentation\\files.py:110: UserWarning: out\\02-08-2022-17-05-06\\0\\test\\35\\315pothomorpheNL-L1537985+img+mask_unet.png is a low contrast image\n",
      "  skimage.io.imsave(filename, skimage.img_as_ubyte(image))\n",
      "C:\\Users\\xandao\\Documents\\GitKraken\\piperaceae-segmentation\\files.py:110: UserWarning: out\\02-08-2022-17-05-06\\0\\test\\53\\211peperomiaNL-U1481140+img+mask_unet.png is a low contrast image\n",
      "  skimage.io.imsave(filename, skimage.img_as_ubyte(image))\n",
      "C:\\Users\\xandao\\Documents\\GitKraken\\piperaceae-segmentation\\files.py:110: UserWarning: out\\02-08-2022-17-05-06\\0\\test\\74\\348pothomorpheNY00164656_01+img+mask_unet.png is a low contrast image\n",
      "  skimage.io.imsave(filename, skimage.img_as_ubyte(image))\n",
      "C:\\Users\\xandao\\Documents\\GitKraken\\piperaceae-segmentation\\files.py:110: UserWarning: out\\02-08-2022-17-05-06\\0\\train\\78\\213peperomiaNL-U1481346+img+mask_unet.png is a low contrast image\n",
      "  skimage.io.imsave(filename, skimage.img_as_ubyte(image))\n",
      "C:\\Users\\xandao\\Documents\\GitKraken\\piperaceae-segmentation\\files.py:110: UserWarning: out\\02-08-2022-17-05-06\\0\\train\\103\\291piperNL-U1484748+img+mask_unet.png is a low contrast image\n",
      "  skimage.io.imsave(filename, skimage.img_as_ubyte(image))\n",
      "C:\\Users\\xandao\\Documents\\GitKraken\\piperaceae-segmentation\\files.py:110: UserWarning: out\\02-08-2022-17-05-06\\0\\train\\202\\217peperomiaSP011027+mask_original.png is a low contrast image\n",
      "  skimage.io.imsave(filename, skimage.img_as_ubyte(image))\n",
      "C:\\Users\\xandao\\Documents\\GitKraken\\piperaceae-segmentation\\files.py:110: UserWarning: out\\02-08-2022-17-05-06\\0\\train\\202\\217peperomiaSP011027+img+mask_original.png is a low contrast image\n",
      "  skimage.io.imsave(filename, skimage.img_as_ubyte(image))\n",
      "C:\\Users\\xandao\\Documents\\GitKraken\\piperaceae-segmentation\\files.py:110: UserWarning: out\\02-08-2022-17-05-06\\0\\train\\212\\327pothomorpheNL-U1478406+img+mask_unet.png is a low contrast image\n",
      "  skimage.io.imsave(filename, skimage.img_as_ubyte(image))\n",
      "C:\\Users\\xandao\\Documents\\GitKraken\\piperaceae-segmentation\\files.py:110: UserWarning: out\\02-08-2022-17-05-06\\0\\train\\228\\292piperNL-U1490117+img+mask_unet.png is a low contrast image\n",
      "  skimage.io.imsave(filename, skimage.img_as_ubyte(image))\n",
      "C:\\Users\\xandao\\Documents\\GitKraken\\piperaceae-segmentation\\files.py:110: UserWarning: out\\02-08-2022-17-05-06\\0\\train\\234\\322pothomorpheNL-L4178118+img+mask_unet.png is a low contrast image\n",
      "  skimage.io.imsave(filename, skimage.img_as_ubyte(image))\n",
      "C:\\Users\\xandao\\Documents\\GitKraken\\piperaceae-segmentation\\files.py:110: UserWarning: out\\02-08-2022-17-05-06\\0\\train\\279\\339pothomorpheNL-U1482567+img+mask_unet.png is a low contrast image\n",
      "  skimage.io.imsave(filename, skimage.img_as_ubyte(image))\n",
      "C:\\Users\\xandao\\Documents\\GitKraken\\piperaceae-segmentation\\files.py:110: UserWarning: out\\02-08-2022-17-05-06\\0\\val\\8\\184peperomiaB100004889+img+mask_unet.png is a low contrast image\n",
      "  skimage.io.imsave(filename, skimage.img_as_ubyte(image))\n",
      "C:\\Users\\xandao\\Documents\\GitKraken\\piperaceae-segmentation\\files.py:110: UserWarning: out\\02-08-2022-17-05-06\\0\\val\\11\\351pothomorpheNY00194352_01+img+mask_unet.png is a low contrast image\n",
      "  skimage.io.imsave(filename, skimage.img_as_ubyte(image))\n"
     ]
    },
    {
     "name": "stdout",
     "output_type": "stream",
     "text": [
      "1\n",
      "(285, 400, 400, 1) (285, 400, 400, 1)\n",
      "(75, 400, 400, 1) (75, 400, 400, 1)\n",
      "(15, 400, 400, 1) (15, 400, 400, 1)\n",
      "INFO:tensorflow:Using MirroredStrategy with devices ('/job:localhost/replica:0/task:0/device:GPU:0',)\n",
      "Epoch 1/2\n",
      "36/36 [==============================] - ETA: 0s - loss: 0.6856 - dice_coef: 0.4711 - jaccard_distance: 0.3126 - precision: 0.6950 - recall: 0.4516\n",
      "Epoch 1: val_loss improved from inf to 1.00000, saving model to out\\02-08-2022-17-05-06\\1\\batch8+lr0_001+epoch2+steps36+fold1+unet.h5\n",
      "36/36 [==============================] - 201s 5s/step - loss: 0.6856 - dice_coef: 0.4711 - jaccard_distance: 0.3126 - precision: 0.6950 - recall: 0.4516 - val_loss: 1.0000 - val_dice_coef: 1.7623e-06 - val_jaccard_distance: 1.7316e-06 - val_precision: 0.0000e+00 - val_recall: 0.0000e+00 - lr: 0.0010\n",
      "Epoch 2/2\n",
      "36/36 [==============================] - ETA: 0s - loss: 0.5612 - dice_coef: 0.6040 - jaccard_distance: 0.4382 - precision: 0.8871 - recall: 0.3404\n",
      "Epoch 2: val_loss improved from 1.00000 to 0.70039, saving model to out\\02-08-2022-17-05-06\\1\\batch8+lr0_001+epoch2+steps36+fold1+unet.h5\n",
      "36/36 [==============================] - 192s 5s/step - loss: 0.5612 - dice_coef: 0.6040 - jaccard_distance: 0.4382 - precision: 0.8871 - recall: 0.3404 - val_loss: 0.7004 - val_dice_coef: 0.4611 - val_jaccard_distance: 0.2996 - val_precision: 0.9939 - val_recall: 0.1263 - lr: 0.0010\n",
      "time elapsed 00:06:34\n",
      "out\\02-08-2022-17-05-06\\1\\fold1-fit.pckl created\n",
      "out\\02-08-2022-17-05-06\\1\\fold1-lossgraph.png created\n",
      "['loss', 'dice_coef', 'jaccard_distance', 'precision', 'recall']\n",
      "fold: 1, elapsed_time: 00:06:34\n"
     ]
    },
    {
     "name": "stderr",
     "output_type": "stream",
     "text": [
      "C:\\Users\\xandao\\Documents\\GitKraken\\piperaceae-segmentation\\files.py:110: UserWarning: out\\02-08-2022-17-05-06\\1\\test\\18\\76ottoniaCRI005890+img+mask_unet.png is a low contrast image\n",
      "  skimage.io.imsave(filename, skimage.img_as_ubyte(image))\n",
      "C:\\Users\\xandao\\Documents\\GitKraken\\piperaceae-segmentation\\files.py:110: UserWarning: out\\02-08-2022-17-05-06\\1\\test\\31\\350pothomorpheNY00192217_01+img+mask_unet.png is a low contrast image\n",
      "  skimage.io.imsave(filename, skimage.img_as_ubyte(image))\n",
      "C:\\Users\\xandao\\Documents\\GitKraken\\piperaceae-segmentation\\files.py:110: UserWarning: out\\02-08-2022-17-05-06\\1\\test\\34\\329pothomorpheNL-U1478408+img+mask_unet.png is a low contrast image\n",
      "  skimage.io.imsave(filename, skimage.img_as_ubyte(image))\n",
      "C:\\Users\\xandao\\Documents\\GitKraken\\piperaceae-segmentation\\files.py:110: UserWarning: out\\02-08-2022-17-05-06\\1\\test\\41\\113ottoniaFLOR0024873+img+mask_unet.png is a low contrast image\n",
      "  skimage.io.imsave(filename, skimage.img_as_ubyte(image))\n",
      "C:\\Users\\xandao\\Documents\\GitKraken\\piperaceae-segmentation\\files.py:110: UserWarning: out\\02-08-2022-17-05-06\\1\\test\\51\\109ottoniaFLOR0023301_02+img+mask_unet.png is a low contrast image\n",
      "  skimage.io.imsave(filename, skimage.img_as_ubyte(image))\n",
      "C:\\Users\\xandao\\Documents\\GitKraken\\piperaceae-segmentation\\files.py:110: UserWarning: out\\02-08-2022-17-05-06\\1\\test\\62\\327pothomorpheNL-U1478406+img+mask_unet.png is a low contrast image\n",
      "  skimage.io.imsave(filename, skimage.img_as_ubyte(image))\n",
      "C:\\Users\\xandao\\Documents\\GitKraken\\piperaceae-segmentation\\files.py:110: UserWarning: out\\02-08-2022-17-05-06\\1\\test\\68\\116ottoniaHUEM000009830+img+mask_unet.png is a low contrast image\n",
      "  skimage.io.imsave(filename, skimage.img_as_ubyte(image))\n",
      "C:\\Users\\xandao\\Documents\\GitKraken\\piperaceae-segmentation\\files.py:110: UserWarning: out\\02-08-2022-17-05-06\\1\\test\\72\\315pothomorpheNL-L1537985+img+mask_unet.png is a low contrast image\n",
      "  skimage.io.imsave(filename, skimage.img_as_ubyte(image))\n",
      "C:\\Users\\xandao\\Documents\\GitKraken\\piperaceae-segmentation\\files.py:110: UserWarning: out\\02-08-2022-17-05-06\\1\\train\\4\\326pothomorpheNL-U1478405+img+mask_unet.png is a low contrast image\n",
      "  skimage.io.imsave(filename, skimage.img_as_ubyte(image))\n",
      "C:\\Users\\xandao\\Documents\\GitKraken\\piperaceae-segmentation\\files.py:110: UserWarning: out\\02-08-2022-17-05-06\\1\\train\\7\\211peperomiaNL-U1481140+img+mask_unet.png is a low contrast image\n",
      "  skimage.io.imsave(filename, skimage.img_as_ubyte(image))\n",
      "C:\\Users\\xandao\\Documents\\GitKraken\\piperaceae-segmentation\\files.py:110: UserWarning: out\\02-08-2022-17-05-06\\1\\train\\31\\351pothomorpheNY00194352_01+img+mask_unet.png is a low contrast image\n",
      "  skimage.io.imsave(filename, skimage.img_as_ubyte(image))\n",
      "C:\\Users\\xandao\\Documents\\GitKraken\\piperaceae-segmentation\\files.py:110: UserWarning: out\\02-08-2022-17-05-06\\1\\train\\39\\210peperomiaNL-U1481109+img+mask_unet.png is a low contrast image\n",
      "  skimage.io.imsave(filename, skimage.img_as_ubyte(image))\n",
      "C:\\Users\\xandao\\Documents\\GitKraken\\piperaceae-segmentation\\files.py:110: UserWarning: out\\02-08-2022-17-05-06\\1\\train\\49\\212peperomiaNL-U1481168+img+mask_unet.png is a low contrast image\n",
      "  skimage.io.imsave(filename, skimage.img_as_ubyte(image))\n",
      "C:\\Users\\xandao\\Documents\\GitKraken\\piperaceae-segmentation\\files.py:110: UserWarning: out\\02-08-2022-17-05-06\\1\\train\\63\\322pothomorpheNL-L4178118+img+mask_unet.png is a low contrast image\n",
      "  skimage.io.imsave(filename, skimage.img_as_ubyte(image))\n",
      "C:\\Users\\xandao\\Documents\\GitKraken\\piperaceae-segmentation\\files.py:110: UserWarning: out\\02-08-2022-17-05-06\\1\\train\\76\\339pothomorpheNL-U1482567+img+mask_unet.png is a low contrast image\n",
      "  skimage.io.imsave(filename, skimage.img_as_ubyte(image))\n",
      "C:\\Users\\xandao\\Documents\\GitKraken\\piperaceae-segmentation\\files.py:110: UserWarning: out\\02-08-2022-17-05-06\\1\\train\\99\\213peperomiaNL-U1481346+img+mask_unet.png is a low contrast image\n",
      "  skimage.io.imsave(filename, skimage.img_as_ubyte(image))\n",
      "C:\\Users\\xandao\\Documents\\GitKraken\\piperaceae-segmentation\\files.py:110: UserWarning: out\\02-08-2022-17-05-06\\1\\train\\103\\196peperomiaHUCP00016217+img+mask_unet.png is a low contrast image\n",
      "  skimage.io.imsave(filename, skimage.img_as_ubyte(image))\n",
      "C:\\Users\\xandao\\Documents\\GitKraken\\piperaceae-segmentation\\files.py:110: UserWarning: out\\02-08-2022-17-05-06\\1\\train\\117\\332pothomorpheNL-U1478412+img+mask_unet.png is a low contrast image\n",
      "  skimage.io.imsave(filename, skimage.img_as_ubyte(image))\n",
      "C:\\Users\\xandao\\Documents\\GitKraken\\piperaceae-segmentation\\files.py:110: UserWarning: out\\02-08-2022-17-05-06\\1\\train\\148\\205peperomiaNL-U1464975+img+mask_unet.png is a low contrast image\n",
      "  skimage.io.imsave(filename, skimage.img_as_ubyte(image))\n",
      "C:\\Users\\xandao\\Documents\\GitKraken\\piperaceae-segmentation\\files.py:110: UserWarning: out\\02-08-2022-17-05-06\\1\\train\\156\\78ottoniaCRI005892+img+mask_unet.png is a low contrast image\n",
      "  skimage.io.imsave(filename, skimage.img_as_ubyte(image))\n",
      "C:\\Users\\xandao\\Documents\\GitKraken\\piperaceae-segmentation\\files.py:110: UserWarning: out\\02-08-2022-17-05-06\\1\\train\\182\\293piperNL-U1490124+img+mask_unet.png is a low contrast image\n",
      "  skimage.io.imsave(filename, skimage.img_as_ubyte(image))\n",
      "C:\\Users\\xandao\\Documents\\GitKraken\\piperaceae-segmentation\\files.py:110: UserWarning: out\\02-08-2022-17-05-06\\1\\train\\192\\291piperNL-U1484748+img+mask_unet.png is a low contrast image\n",
      "  skimage.io.imsave(filename, skimage.img_as_ubyte(image))\n",
      "C:\\Users\\xandao\\Documents\\GitKraken\\piperaceae-segmentation\\files.py:110: UserWarning: out\\02-08-2022-17-05-06\\1\\train\\203\\224peperomiaVIES041188+img+mask_unet.png is a low contrast image\n",
      "  skimage.io.imsave(filename, skimage.img_as_ubyte(image))\n",
      "C:\\Users\\xandao\\Documents\\GitKraken\\piperaceae-segmentation\\files.py:110: UserWarning: out\\02-08-2022-17-05-06\\1\\train\\204\\79ottoniaCRI006083+img+mask_unet.png is a low contrast image\n",
      "  skimage.io.imsave(filename, skimage.img_as_ubyte(image))\n",
      "C:\\Users\\xandao\\Documents\\GitKraken\\piperaceae-segmentation\\files.py:110: UserWarning: out\\02-08-2022-17-05-06\\1\\train\\210\\306pothomorpheHUTO001536+img+mask_unet.png is a low contrast image\n",
      "  skimage.io.imsave(filename, skimage.img_as_ubyte(image))\n",
      "C:\\Users\\xandao\\Documents\\GitKraken\\piperaceae-segmentation\\files.py:110: UserWarning: out\\02-08-2022-17-05-06\\1\\train\\211\\184peperomiaB100004889+img+mask_unet.png is a low contrast image\n",
      "  skimage.io.imsave(filename, skimage.img_as_ubyte(image))\n",
      "C:\\Users\\xandao\\Documents\\GitKraken\\piperaceae-segmentation\\files.py:110: UserWarning: out\\02-08-2022-17-05-06\\1\\train\\227\\337pothomorpheNL-U1478424+img+mask_unet.png is a low contrast image\n",
      "  skimage.io.imsave(filename, skimage.img_as_ubyte(image))\n",
      "C:\\Users\\xandao\\Documents\\GitKraken\\piperaceae-segmentation\\files.py:110: UserWarning: out\\02-08-2022-17-05-06\\1\\train\\235\\292piperNL-U1490117+img+mask_unet.png is a low contrast image\n",
      "  skimage.io.imsave(filename, skimage.img_as_ubyte(image))\n",
      "C:\\Users\\xandao\\Documents\\GitKraken\\piperaceae-segmentation\\files.py:110: UserWarning: out\\02-08-2022-17-05-06\\1\\train\\247\\349pothomorpheNY00191845_01+img+mask_unet.png is a low contrast image\n",
      "  skimage.io.imsave(filename, skimage.img_as_ubyte(image))\n",
      "C:\\Users\\xandao\\Documents\\GitKraken\\piperaceae-segmentation\\files.py:110: UserWarning: out\\02-08-2022-17-05-06\\1\\train\\249\\75ottoniaCRI005889+img+mask_unet.png is a low contrast image\n",
      "  skimage.io.imsave(filename, skimage.img_as_ubyte(image))\n",
      "C:\\Users\\xandao\\Documents\\GitKraken\\piperaceae-segmentation\\files.py:110: UserWarning: out\\02-08-2022-17-05-06\\1\\train\\264\\0manekiaCRI006138+img+mask_unet.png is a low contrast image\n",
      "  skimage.io.imsave(filename, skimage.img_as_ubyte(image))\n",
      "C:\\Users\\xandao\\Documents\\GitKraken\\piperaceae-segmentation\\files.py:110: UserWarning: out\\02-08-2022-17-05-06\\1\\train\\266\\209peperomiaNL-U1480944+img+mask_unet.png is a low contrast image\n",
      "  skimage.io.imsave(filename, skimage.img_as_ubyte(image))\n",
      "C:\\Users\\xandao\\Documents\\GitKraken\\piperaceae-segmentation\\files.py:110: UserWarning: out\\02-08-2022-17-05-06\\1\\train\\274\\217peperomiaSP011027+mask_original.png is a low contrast image\n",
      "  skimage.io.imsave(filename, skimage.img_as_ubyte(image))\n",
      "C:\\Users\\xandao\\Documents\\GitKraken\\piperaceae-segmentation\\files.py:110: UserWarning: out\\02-08-2022-17-05-06\\1\\train\\274\\217peperomiaSP011027+img+mask_original.png is a low contrast image\n",
      "  skimage.io.imsave(filename, skimage.img_as_ubyte(image))\n",
      "C:\\Users\\xandao\\Documents\\GitKraken\\piperaceae-segmentation\\files.py:110: UserWarning: out\\02-08-2022-17-05-06\\1\\val\\5\\208peperomiaNL-U1480932+img+mask_unet.png is a low contrast image\n",
      "  skimage.io.imsave(filename, skimage.img_as_ubyte(image))\n",
      "C:\\Users\\xandao\\Documents\\GitKraken\\piperaceae-segmentation\\files.py:110: UserWarning: out\\02-08-2022-17-05-06\\1\\val\\9\\102ottoniaFLOR0015968+img+mask_unet.png is a low contrast image\n",
      "  skimage.io.imsave(filename, skimage.img_as_ubyte(image))\n",
      "C:\\Users\\xandao\\Documents\\GitKraken\\piperaceae-segmentation\\files.py:110: UserWarning: out\\02-08-2022-17-05-06\\1\\val\\11\\77ottoniaCRI005891+img+mask_unet.png is a low contrast image\n",
      "  skimage.io.imsave(filename, skimage.img_as_ubyte(image))\n"
     ]
    }
   ],
   "source": [
    "from metrics import jaccard_distance, dice_coef\n",
    "\n",
    "\n",
    "def get_image(cfg, list_images):\n",
    "    x = list([])\n",
    "    y = list([])\n",
    "    for image in list_images:\n",
    "        x.append(getattr(image[\"image\"], \"image\"))\n",
    "        y.append(getattr(image[\"mask\"], \"image\"))\n",
    "    x = numpy.array(x)\n",
    "    y = numpy.array(y)\n",
    "    return x.reshape(x.shape[0], cfg[\"image_size\"], cfg[\"image_size\"], 1), y.reshape(y.shape[0], cfg[\"image_size\"], cfg[\"image_size\"], 1)\n",
    "\n",
    "\n",
    "list_result = list([])\n",
    "list_elapsed_time = list([])\n",
    "path = get_path_mean(cfg)\n",
    "pathlib.Path(path).mkdir(parents=True, exist_ok=True)\n",
    "for index in list_index:\n",
    "    fold = str(getattr(index, \"fold\"))\n",
    "    print(fold)\n",
    "    path_outfile_each_fold = get_path_outfile_each_fold(fold, path)\n",
    "    pathlib.Path(path_outfile_each_fold).mkdir(parents=True, exist_ok=True)\n",
    "\n",
    "    x_train_o, y_train_o = x[getattr(index, \"index_train\")], y[getattr(index, \"index_train\")]\n",
    "    x_test_o, y_test_o = x[getattr(index, \"index_test\")], y[getattr(index, \"index_test\")]\n",
    "    x_train_o, x_val_o, y_train_o, y_val_o = sklearn.model_selection.train_test_split(x_train_o, y_train_o, test_size=cfg[\"val_size\"], random_state=cfg[\"random_state\"])\n",
    "\n",
    "    x_train, y_train = get_image(cfg, x_train_o)\n",
    "    x_test, y_test = get_image(cfg, x_test_o)\n",
    "    x_val, y_val = get_image(cfg, x_val_o)\n",
    "\n",
    "    print(x_train.shape, y_train.shape)\n",
    "    print(x_test.shape, y_test.shape)\n",
    "    print(x_val.shape, y_val.shape)\n",
    "\n",
    "    # unet_filename = \"out/31-07-2022-18-09-15/0/batch8+lr0_001+epoch3+steps36+fold0+unet.h5\"\n",
    "\n",
    "    checkpointer, reduce_learning_rate, steps_per_epoch, strategy, train_generator, unet_filename = cfg_model(cfg, fold, path_outfile_each_fold, x_train, y_train)\n",
    "\n",
    "    elapsed_time = None\n",
    "    if os.path.exists(unet_filename):\n",
    "        model = tensorflow.keras.models.load_model(unet_filename, custom_objects = {\"jaccard_distance_loss\": jaccard_distance_loss, \"dice_coef\": dice_coef, \"jaccard_distance\": jaccard_distance })\n",
    "    else:\n",
    "        elapsed_time, model = train_model(cfg, checkpointer, fold, path_outfile_each_fold, reduce_learning_rate, steps_per_epoch, strategy, train_generator, x_val, y_val)\n",
    "\n",
    "    metrics = calculate_iou_dice(model, x_test, x_train, x_val, y_test, y_train, y_val)\n",
    "    list_elapsed_time.append(elapsed_time)\n",
    "    list_result.append(metrics)\n",
    "    create_outfile_each_fold(elapsed_time, fold, metrics, path_outfile_each_fold)\n",
    "    save_figs(cfg, model, path_outfile_each_fold, x_test_o, x_train_o, x_val_o, y_test_o, y_train_o, y_val_o)"
   ],
   "metadata": {
    "collapsed": false,
    "pycharm": {
     "name": "#%%\n"
    }
   }
  },
  {
   "cell_type": "code",
   "execution_count": null,
   "outputs": [],
   "source": [
    "create_outfile_mean(cfg, list_elapsed_time, list_result, path)\n",
    "len(list_result)"
   ],
   "metadata": {
    "collapsed": false,
    "pycharm": {
     "name": "#%%\n"
    }
   }
  },
  {
   "cell_type": "code",
   "execution_count": null,
   "outputs": [],
   "source": [],
   "metadata": {
    "collapsed": false,
    "pycharm": {
     "name": "#%%\n"
    }
   }
  }
 ],
 "metadata": {
  "kernelspec": {
   "display_name": "Python 3",
   "language": "python",
   "name": "python3"
  },
  "language_info": {
   "codemirror_mode": {
    "name": "ipython",
    "version": 2
   },
   "file_extension": ".py",
   "mimetype": "text/x-python",
   "name": "python",
   "nbconvert_exporter": "python",
   "pygments_lexer": "ipython2",
   "version": "2.7.6"
  }
 },
 "nbformat": 4,
 "nbformat_minor": 0
}