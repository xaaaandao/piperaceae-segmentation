{
 "cells": [
  {
   "cell_type": "code",
   "execution_count": null,
   "outputs": [],
   "source": [
    "import collections\n",
    "import sklearn.model_selection\n",
    "\n",
    "from classes import *\n",
    "from files import create_outfile_each_fold, create_outfile_mean, get_path_outfile_each_fold, get_path_mean, load_image, load_mask, save_figs\n",
    "from gpu import set_avx_avx2, set_gpu\n",
    "from metrics import calculate_iou_dice, dice_loss, jaccard_distance_loss\n",
    "from model import cfg_model, train_model"
   ],
   "metadata": {
    "collapsed": false,
    "pycharm": {
     "name": "#%%\n"
    }
   }
  },
  {
   "cell_type": "code",
   "execution_count": 11,
   "outputs": [
    {
     "data": {
      "text/plain": "'2.8.2'"
     },
     "execution_count": 11,
     "metadata": {},
     "output_type": "execute_result"
    }
   ],
   "source": [
    "tensorflow.__version__"
   ],
   "metadata": {
    "collapsed": false,
    "pycharm": {
     "name": "#%%\n"
    }
   }
  },
  {
   "cell_type": "markdown",
   "source": [
    "# GPU"
   ],
   "metadata": {
    "collapsed": false,
    "pycharm": {
     "name": "#%% md\n"
    }
   }
  },
  {
   "cell_type": "code",
   "execution_count": 12,
   "outputs": [
    {
     "name": "stdout",
     "output_type": "stream",
     "text": [
      "GPU: /physical_device:GPU:0\n"
     ]
    }
   ],
   "source": [
    "set_avx_avx2()\n",
    "set_gpu()"
   ],
   "metadata": {
    "collapsed": false,
    "pycharm": {
     "name": "#%%\n"
    }
   }
  },
  {
   "cell_type": "code",
   "execution_count": 13,
   "outputs": [],
   "source": [
    "cfg = {\n",
    "    \"batch_size\": 4,\n",
    "    \"cross_validation\": 2,\n",
    "    \"epochs\": 4,\n",
    "    \"image_size\": 400,\n",
    "    \"learning_rate\": 0.05,\n",
    "    \"random_state\": 1234,\n",
    "    \"test_size\": 0.15,\n",
    "    \"val_size\": 0.05,\n",
    "    \"path_base\": \"dataset\",\n",
    "    \"path_out\": \"out\"\n",
    "}"
   ],
   "metadata": {
    "collapsed": false,
    "pycharm": {
     "name": "#%%\n"
    }
   }
  },
  {
   "cell_type": "code",
   "execution_count": 14,
   "outputs": [],
   "source": [
    "def get_index(cfg):\n",
    "    return sklearn.model_selection.StratifiedShuffleSplit(n_splits=cfg[\"cross_validation\"], test_size=cfg[\"test_size\"], random_state=cfg[\"random_state\"])\n",
    "\n",
    "def get_list_index(cfg, x, y):\n",
    "    list_index = get_index(cfg)\n",
    "    return list([Index(fold, index_train, index_test) for fold, (index_train, index_test) in enumerate(list_index.split(x, y))])"
   ],
   "metadata": {
    "collapsed": false,
    "pycharm": {
     "name": "#%%\n"
    }
   }
  },
  {
   "cell_type": "code",
   "execution_count": 15,
   "outputs": [
    {
     "data": {
      "text/plain": "375"
     },
     "execution_count": 15,
     "metadata": {},
     "output_type": "execute_result"
    }
   ],
   "source": [
    "piperaceae_dataset = Dataset(cfg, os.path.join(cfg[\"path_base\"], \"images\"), os.path.join(cfg[\"path_base\"], \"mask\"))\n",
    "len(getattr(piperaceae_dataset, \"list_images\"))"
   ],
   "metadata": {
    "collapsed": false,
    "pycharm": {
     "name": "#%%\n"
    }
   }
  },
  {
   "cell_type": "code",
   "execution_count": 16,
   "outputs": [
    {
     "data": {
      "text/plain": "Counter({'manekia': 75,\n         'ottonia': 75,\n         'peperomia': 75,\n         'piper': 75,\n         'pothomorphe': 75})"
     },
     "execution_count": 16,
     "metadata": {},
     "output_type": "execute_result"
    }
   ],
   "source": [
    "list_images = getattr(piperaceae_dataset, \"list_images\")\n",
    "x = numpy.array(list([l for l in list_images]), dtype=object)\n",
    "y = numpy.array(list([getattr(l[\"image\"], \"label\").value for l in list_images]))\n",
    "\n",
    "collections.Counter(y.tolist())"
   ],
   "metadata": {
    "collapsed": false,
    "pycharm": {
     "name": "#%%\n"
    }
   }
  },
  {
   "cell_type": "code",
   "execution_count": 17,
   "outputs": [
    {
     "data": {
      "text/plain": "2"
     },
     "execution_count": 17,
     "metadata": {},
     "output_type": "execute_result"
    }
   ],
   "source": [
    "list_index = get_list_index(cfg, x, y)\n",
    "len(list_index)"
   ],
   "metadata": {
    "collapsed": false,
    "pycharm": {
     "name": "#%%\n"
    }
   }
  },
  {
   "cell_type": "code",
   "execution_count": 18,
   "outputs": [
    {
     "name": "stdout",
     "output_type": "stream",
     "text": [
      "0\n",
      "(302, 400, 400, 1) (302, 400, 400, 1)\n",
      "(57, 400, 400, 1) (57, 400, 400, 1)\n",
      "(16, 400, 400, 1) (16, 400, 400, 1)\n"
     ]
    },
    {
     "name": "stderr",
     "output_type": "stream",
     "text": [
      "C:\\Users\\xandao\\Documents\\GitHub\\piperaceae-segmentation\\files.py:92: UserWarning: out\\26-07-2022-09-05-13\\0\\test\\0\\0manekiaCRI006138+mask_unet.png is a low contrast image\n",
      "  skimage.io.imsave(filename, skimage.img_as_ubyte(image))\n"
     ]
    },
    {
     "ename": "ValueError",
     "evalue": "Image must be 2D (grayscale, RGB, or RGBA).",
     "output_type": "error",
     "traceback": [
      "\u001B[1;31m---------------------------------------------------------------------------\u001B[0m",
      "\u001B[1;31mValueError\u001B[0m                                Traceback (most recent call last)",
      "Input \u001B[1;32mIn [18]\u001B[0m, in \u001B[0;36m<cell line: 14>\u001B[1;34m()\u001B[0m\n\u001B[0;32m     36\u001B[0m model \u001B[38;5;241m=\u001B[39m tensorflow\u001B[38;5;241m.\u001B[39mkeras\u001B[38;5;241m.\u001B[39mmodels\u001B[38;5;241m.\u001B[39mload_model(unet_filename, custom_objects \u001B[38;5;241m=\u001B[39m {\u001B[38;5;124m\"\u001B[39m\u001B[38;5;124mjaccard_distance_loss\u001B[39m\u001B[38;5;124m\"\u001B[39m: jaccard_distance_loss,\u001B[38;5;124m\"\u001B[39m\u001B[38;5;124mdice_coef\u001B[39m\u001B[38;5;124m\"\u001B[39m: dice_coef})\n\u001B[0;32m     37\u001B[0m \u001B[38;5;66;03m# else:\u001B[39;00m\n\u001B[0;32m     38\u001B[0m \u001B[38;5;66;03m#     elapsed_time, model = train_model(cfg, checkpointer, fold, path_outfile_each_fold, reduce_learning_rate, steps_per_epoch, strategy, train_generator, x_val, y_val)\u001B[39;00m\n\u001B[0;32m     39\u001B[0m \u001B[38;5;66;03m#\u001B[39;00m\n\u001B[0;32m     40\u001B[0m \u001B[38;5;66;03m# metrics = calculate_iou_dice(model, x_test, x_train, x_val, y_test, y_train, y_val)\u001B[39;00m\n\u001B[0;32m     41\u001B[0m \u001B[38;5;66;03m# list_result.append(metrics)\u001B[39;00m\n\u001B[0;32m     42\u001B[0m \u001B[38;5;66;03m# create_outfile_each_fold(fold, metrics, path_outfile_each_fold)\u001B[39;00m\n\u001B[1;32m---> 43\u001B[0m \u001B[43msave_figs\u001B[49m\u001B[43m(\u001B[49m\u001B[43mcfg\u001B[49m\u001B[43m,\u001B[49m\u001B[43m \u001B[49m\u001B[43mmodel\u001B[49m\u001B[43m,\u001B[49m\u001B[43m \u001B[49m\u001B[43mpath_outfile_each_fold\u001B[49m\u001B[43m,\u001B[49m\u001B[43m \u001B[49m\u001B[43mx\u001B[49m\u001B[43m,\u001B[49m\u001B[43m \u001B[49m\u001B[43mx_train\u001B[49m\u001B[43m,\u001B[49m\u001B[43m \u001B[49m\u001B[43mx_val\u001B[49m\u001B[43m,\u001B[49m\u001B[43m \u001B[49m\u001B[43my_test\u001B[49m\u001B[43m,\u001B[49m\u001B[43m \u001B[49m\u001B[43my_train\u001B[49m\u001B[43m,\u001B[49m\u001B[43m \u001B[49m\u001B[43my_val\u001B[49m\u001B[43m)\u001B[49m\n",
      "File \u001B[1;32m~\\Documents\\GitHub\\piperaceae-segmentation\\files.py:127\u001B[0m, in \u001B[0;36msave_figs\u001B[1;34m(cfg, model, path, x_test, x_train, x_val, y_test, y_train, y_val)\u001B[0m\n\u001B[0;32m    125\u001B[0m path_val \u001B[38;5;241m=\u001B[39m os\u001B[38;5;241m.\u001B[39mpath\u001B[38;5;241m.\u001B[39mjoin(path, \u001B[38;5;124m\"\u001B[39m\u001B[38;5;124mval\u001B[39m\u001B[38;5;124m\"\u001B[39m)\n\u001B[0;32m    126\u001B[0m pathlib\u001B[38;5;241m.\u001B[39mPath(path_val)\u001B[38;5;241m.\u001B[39mmkdir(parents\u001B[38;5;241m=\u001B[39m\u001B[38;5;28;01mTrue\u001B[39;00m, exist_ok\u001B[38;5;241m=\u001B[39m\u001B[38;5;28;01mTrue\u001B[39;00m)\n\u001B[1;32m--> 127\u001B[0m \u001B[43mpredict_and_save\u001B[49m\u001B[43m(\u001B[49m\u001B[43mcfg\u001B[49m\u001B[43m,\u001B[49m\u001B[43m \u001B[49m\u001B[43mmodel\u001B[49m\u001B[43m,\u001B[49m\u001B[43m \u001B[49m\u001B[43mpath_test\u001B[49m\u001B[43m,\u001B[49m\u001B[43m \u001B[49m\u001B[43mx_test\u001B[49m\u001B[43m,\u001B[49m\u001B[43m \u001B[49m\u001B[43my_test\u001B[49m\u001B[43m)\u001B[49m\n",
      "File \u001B[1;32m~\\Documents\\GitHub\\piperaceae-segmentation\\files.py:116\u001B[0m, in \u001B[0;36mpredict_and_save\u001B[1;34m(cfg, model, path, x, y)\u001B[0m\n\u001B[0;32m    114\u001B[0m save_image(\u001B[38;5;124mf\u001B[39m\u001B[38;5;124m\"\u001B[39m\u001B[38;5;132;01m{\u001B[39;00mfile\u001B[38;5;241m.\u001B[39mstem\u001B[38;5;132;01m}\u001B[39;00m\u001B[38;5;124m+mask_original.png\u001B[39m\u001B[38;5;124m\"\u001B[39m, mask_original[\u001B[38;5;241m0\u001B[39m,:,:,\u001B[38;5;241m0\u001B[39m], p)\n\u001B[0;32m    115\u001B[0m save_image(\u001B[38;5;124mf\u001B[39m\u001B[38;5;124m\"\u001B[39m\u001B[38;5;132;01m{\u001B[39;00mfile\u001B[38;5;241m.\u001B[39mstem\u001B[38;5;132;01m}\u001B[39;00m\u001B[38;5;124m+mask_unet.png\u001B[39m\u001B[38;5;124m\"\u001B[39m, mask_unet, p)\n\u001B[1;32m--> 116\u001B[0m \u001B[43msave_image\u001B[49m\u001B[43m(\u001B[49m\u001B[38;5;124;43mf\u001B[39;49m\u001B[38;5;124;43m\"\u001B[39;49m\u001B[38;5;132;43;01m{\u001B[39;49;00m\u001B[43mfile\u001B[49m\u001B[38;5;241;43m.\u001B[39;49m\u001B[43mstem\u001B[49m\u001B[38;5;132;43;01m}\u001B[39;49;00m\u001B[38;5;124;43m+img+mask_original.png\u001B[39;49m\u001B[38;5;124;43m\"\u001B[39;49m\u001B[43m,\u001B[49m\u001B[43m \u001B[49m\u001B[43mimage_with_mask_original\u001B[49m\u001B[43m,\u001B[49m\u001B[43m \u001B[49m\u001B[43mp\u001B[49m\u001B[43m)\u001B[49m\n\u001B[0;32m    117\u001B[0m save_image(\u001B[38;5;124mf\u001B[39m\u001B[38;5;124m\"\u001B[39m\u001B[38;5;132;01m{\u001B[39;00mfile\u001B[38;5;241m.\u001B[39mstem\u001B[38;5;132;01m}\u001B[39;00m\u001B[38;5;124m+img+mask_unet.png\u001B[39m\u001B[38;5;124m\"\u001B[39m, image_with_mask_unet, p)\n",
      "File \u001B[1;32m~\\Documents\\GitHub\\piperaceae-segmentation\\files.py:92\u001B[0m, in \u001B[0;36msave_image\u001B[1;34m(filename, image, path)\u001B[0m\n\u001B[0;32m     90\u001B[0m \u001B[38;5;28;01mdef\u001B[39;00m \u001B[38;5;21msave_image\u001B[39m(filename, image, path):\n\u001B[0;32m     91\u001B[0m     filename \u001B[38;5;241m=\u001B[39m os\u001B[38;5;241m.\u001B[39mpath\u001B[38;5;241m.\u001B[39mjoin(path, filename)\n\u001B[1;32m---> 92\u001B[0m     \u001B[43mskimage\u001B[49m\u001B[38;5;241;43m.\u001B[39;49m\u001B[43mio\u001B[49m\u001B[38;5;241;43m.\u001B[39;49m\u001B[43mimsave\u001B[49m\u001B[43m(\u001B[49m\u001B[43mfilename\u001B[49m\u001B[43m,\u001B[49m\u001B[43m \u001B[49m\u001B[43mskimage\u001B[49m\u001B[38;5;241;43m.\u001B[39;49m\u001B[43mimg_as_ubyte\u001B[49m\u001B[43m(\u001B[49m\u001B[43mimage\u001B[49m\u001B[43m)\u001B[49m\u001B[43m)\u001B[49m\n",
      "File \u001B[1;32m~\\anaconda3\\lib\\site-packages\\skimage\\io\\_io.py:136\u001B[0m, in \u001B[0;36mimsave\u001B[1;34m(fname, arr, plugin, check_contrast, **plugin_args)\u001B[0m\n\u001B[0;32m    134\u001B[0m \u001B[38;5;28;01mif\u001B[39;00m check_contrast \u001B[38;5;129;01mand\u001B[39;00m is_low_contrast(arr):\n\u001B[0;32m    135\u001B[0m     warn(\u001B[38;5;124m'\u001B[39m\u001B[38;5;132;01m%s\u001B[39;00m\u001B[38;5;124m is a low contrast image\u001B[39m\u001B[38;5;124m'\u001B[39m \u001B[38;5;241m%\u001B[39m fname)\n\u001B[1;32m--> 136\u001B[0m \u001B[38;5;28;01mreturn\u001B[39;00m call_plugin(\u001B[38;5;124m'\u001B[39m\u001B[38;5;124mimsave\u001B[39m\u001B[38;5;124m'\u001B[39m, fname, arr, plugin\u001B[38;5;241m=\u001B[39mplugin, \u001B[38;5;241m*\u001B[39m\u001B[38;5;241m*\u001B[39mplugin_args)\n",
      "File \u001B[1;32m~\\anaconda3\\lib\\site-packages\\skimage\\io\\manage_plugins.py:207\u001B[0m, in \u001B[0;36mcall_plugin\u001B[1;34m(kind, *args, **kwargs)\u001B[0m\n\u001B[0;32m    203\u001B[0m     \u001B[38;5;28;01mexcept\u001B[39;00m \u001B[38;5;167;01mIndexError\u001B[39;00m:\n\u001B[0;32m    204\u001B[0m         \u001B[38;5;28;01mraise\u001B[39;00m \u001B[38;5;167;01mRuntimeError\u001B[39;00m(\u001B[38;5;124m'\u001B[39m\u001B[38;5;124mCould not find the plugin \u001B[39m\u001B[38;5;124m\"\u001B[39m\u001B[38;5;132;01m%s\u001B[39;00m\u001B[38;5;124m\"\u001B[39m\u001B[38;5;124m for \u001B[39m\u001B[38;5;132;01m%s\u001B[39;00m\u001B[38;5;124m.\u001B[39m\u001B[38;5;124m'\u001B[39m \u001B[38;5;241m%\u001B[39m\n\u001B[0;32m    205\u001B[0m                            (plugin, kind))\n\u001B[1;32m--> 207\u001B[0m \u001B[38;5;28;01mreturn\u001B[39;00m func(\u001B[38;5;241m*\u001B[39margs, \u001B[38;5;241m*\u001B[39m\u001B[38;5;241m*\u001B[39mkwargs)\n",
      "File \u001B[1;32m~\\anaconda3\\lib\\site-packages\\imageio\\core\\functions.py:300\u001B[0m, in \u001B[0;36mimwrite\u001B[1;34m(uri, im, format, **kwargs)\u001B[0m\n\u001B[0;32m    298\u001B[0m     \u001B[38;5;28;01mpass\u001B[39;00m\n\u001B[0;32m    299\u001B[0m \u001B[38;5;28;01melse\u001B[39;00m:\n\u001B[1;32m--> 300\u001B[0m     \u001B[38;5;28;01mraise\u001B[39;00m \u001B[38;5;167;01mValueError\u001B[39;00m(\u001B[38;5;124m\"\u001B[39m\u001B[38;5;124mImage must be 2D (grayscale, RGB, or RGBA).\u001B[39m\u001B[38;5;124m\"\u001B[39m)\n\u001B[0;32m    302\u001B[0m \u001B[38;5;66;03m# Get writer and write first\u001B[39;00m\n\u001B[0;32m    303\u001B[0m writer \u001B[38;5;241m=\u001B[39m get_writer(uri, \u001B[38;5;28mformat\u001B[39m, \u001B[38;5;124m\"\u001B[39m\u001B[38;5;124mi\u001B[39m\u001B[38;5;124m\"\u001B[39m, \u001B[38;5;241m*\u001B[39m\u001B[38;5;241m*\u001B[39mkwargs)\n",
      "\u001B[1;31mValueError\u001B[0m: Image must be 2D (grayscale, RGB, or RGBA)."
     ]
    }
   ],
   "source": [
    "def get_image(cfg, list_images):\n",
    "    x = list([])\n",
    "    y = list([])\n",
    "    for image in list_images:\n",
    "        x.append(getattr(image[\"image\"], \"image\"))\n",
    "        y.append(getattr(image[\"mask\"], \"image\"))\n",
    "    x = numpy.array(x)\n",
    "    y = numpy.array(y)\n",
    "    return x.reshape(x.shape[0], cfg[\"image_size\"], cfg[\"image_size\"], 1), y.reshape(y.shape[0], cfg[\"image_size\"], cfg[\"image_size\"], 1)\n",
    "\n",
    "list_result = list([])\n",
    "path = get_path_mean(cfg)\n",
    "pathlib.Path(path).mkdir(parents=True, exist_ok=True)\n",
    "for index in list_index:\n",
    "    fold = str(getattr(index, \"fold\"))\n",
    "    print(fold)\n",
    "    path_outfile_each_fold = get_path_outfile_each_fold(fold, path)\n",
    "    pathlib.Path(path_outfile_each_fold).mkdir(parents=True, exist_ok=True)\n",
    "\n",
    "    x_train, y_train = x[getattr(index, \"index_train\")], y[getattr(index, \"index_train\")]\n",
    "    x_test, y_test = x[getattr(index, \"index_test\")], y[getattr(index, \"index_test\")]\n",
    "    x_train, x_val, y_train, y_val = sklearn.model_selection.train_test_split(x_train, y_train, test_size=cfg[\"val_size\"], random_state=cfg[\"random_state\"])\n",
    "\n",
    "    x_train, y_train = get_image(cfg, x_train)\n",
    "    x_test, y_test = get_image(cfg, x_test)\n",
    "    x_val, y_val = get_image(cfg, x_val)\n",
    "\n",
    "    print(x_train.shape, y_train.shape)\n",
    "    print(x_test.shape, y_test.shape)\n",
    "    print(x_val.shape, y_val.shape)\n",
    "\n",
    "    # unet_filename = \"batch16+lr0_05+epoch200+steps22+unet.h5\"\n",
    "    checkpointer, reduce_learning_rate, steps_per_epoch, strategy, train_generator, unet_filename = cfg_model(cfg, fold, path_outfile_each_fold, x_train, y_train)\n",
    "\n",
    "    if os.path.exists(unet_filename):\n",
    "        model = tensorflow.keras.models.load_model(unet_filename, custom_objects = {\"jaccard_distance_loss\": jaccard_distance_loss,\"dice_coef\": dice_coef})\n",
    "    else:\n",
    "        elapsed_time, model = train_model(cfg, checkpointer, fold, path_outfile_each_fold, reduce_learning_rate, steps_per_epoch, strategy, train_generator, x_val, y_val)\n",
    "\n",
    "    metrics = calculate_iou_dice(model, x_test, x_train, x_val, y_test, y_train, y_val)\n",
    "    list_result.append(metrics)\n",
    "    create_outfile_each_fold(fold, metrics, path_outfile_each_fold)\n",
    "    # save_figs(cfg, model, path_outfile_each_fold, x, x_train, x_val, y_test, y_train, y_val)"
   ],
   "metadata": {
    "collapsed": false,
    "pycharm": {
     "name": "#%%\n"
    }
   }
  },
  {
   "cell_type": "code",
   "execution_count": null,
   "outputs": [],
   "source": [
    "create_outfile_mean(cfg, list_result, path)\n",
    "len(list_result)"
   ],
   "metadata": {
    "collapsed": false,
    "pycharm": {
     "name": "#%%\n"
    }
   }
  },
  {
   "cell_type": "code",
   "execution_count": null,
   "outputs": [],
   "source": [],
   "metadata": {
    "collapsed": false,
    "pycharm": {
     "name": "#%%\n"
    }
   }
  }
 ],
 "metadata": {
  "kernelspec": {
   "display_name": "Python 3",
   "language": "python",
   "name": "python3"
  },
  "language_info": {
   "codemirror_mode": {
    "name": "ipython",
    "version": 2
   },
   "file_extension": ".py",
   "mimetype": "text/x-python",
   "name": "python",
   "nbconvert_exporter": "python",
   "pygments_lexer": "ipython2",
   "version": "2.7.6"
  }
 },
 "nbformat": 4,
 "nbformat_minor": 0
}