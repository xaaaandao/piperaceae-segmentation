{
 "cells": [
  {
   "cell_type": "code",
   "execution_count": null,
   "outputs": [],
   "source": [
    "%reload_ext autoreload\n",
    "%autoreload 2\n",
    "%matplotlib inline\n",
    "import collections\n",
    "import sklearn.model_selection\n",
    "\n",
    "from classes import *\n",
    "from files import create_outfile_each_fold, create_outfile_mean, get_path_outfile_each_fold, get_path_mean, save_figs\n",
    "from gpu import set_avx_avx2, set_gpu\n",
    "from metrics import calculate_iou_dice, dice_loss, jaccard_distance_loss, jaccard_distance, dice_coef\n",
    "from model import cfg_model, train_model"
   ],
   "metadata": {
    "collapsed": false,
    "pycharm": {
     "name": "#%%\n"
    }
   }
  },
  {
   "cell_type": "code",
   "execution_count": null,
   "outputs": [],
   "source": [
    "tensorflow.__version__"
   ],
   "metadata": {
    "collapsed": false,
    "pycharm": {
     "name": "#%%\n"
    }
   }
  },
  {
   "cell_type": "markdown",
   "source": [
    "# GPU"
   ],
   "metadata": {
    "collapsed": false,
    "pycharm": {
     "name": "#%% md\n"
    }
   }
  },
  {
   "cell_type": "code",
   "execution_count": null,
   "outputs": [],
   "source": [
    "set_avx_avx2()\n",
    "set_gpu()"
   ],
   "metadata": {
    "collapsed": false,
    "pycharm": {
     "name": "#%%\n"
    }
   }
  },
  {
   "cell_type": "code",
   "execution_count": null,
   "outputs": [],
   "source": [
    "cfg = {\n",
    "    \"channel\": 1,\n",
    "    \"batch_size\": 4,\n",
    "    \"cross_validation\": 5,\n",
    "    \"epochs\": 75,\n",
    "    \"image_size\": 400,\n",
    "    \"learning_rate\": 0.001,\n",
    "    \"random_state\": 1234,\n",
    "    \"test_size\": 0.2,\n",
    "    \"val_size\": 0.05,\n",
    "    \"path_base\": \"dataset\",\n",
    "    \"path_out\": \"out\"\n",
    "}\n",
    "path_images = os.path.join(cfg[\"path_base\"], \"grayscale/images_grayscale_400_400\")\n",
    "path_mask = os.path.join(cfg[\"path_base\"], \"mask\")"
   ],
   "metadata": {
    "collapsed": false,
    "pycharm": {
     "name": "#%%\n"
    }
   }
  },
  {
   "cell_type": "code",
   "execution_count": null,
   "outputs": [],
   "source": [
    "piperaceae_dataset = Dataset(cfg, path_images, path_mask)\n",
    "list_images = getattr(piperaceae_dataset, \"list_images\")\n",
    "len(getattr(piperaceae_dataset, \"list_images\"))"
   ],
   "metadata": {
    "collapsed": false,
    "pycharm": {
     "name": "#%%\n"
    }
   }
  },
  {
   "cell_type": "code",
   "execution_count": null,
   "outputs": [],
   "source": [
    "x = numpy.array(list([l for l in list_images]), dtype=object)\n",
    "y = numpy.array(list([getattr(l[\"image\"], \"label\").value for l in list_images]))\n",
    "\n",
    "collections.Counter(y.tolist())"
   ],
   "metadata": {
    "collapsed": false,
    "pycharm": {
     "name": "#%%\n"
    }
   }
  },
  {
   "cell_type": "code",
   "execution_count": null,
   "outputs": [],
   "source": [
    "index_train_test = sklearn.model_selection.StratifiedKFold(n_splits=cfg[\"cross_validation\"], shuffle=True, random_state=cfg[\"random_state\"])\n",
    "list_index = list([Index(fold, index_train, index_test) for fold, (index_train, index_test) in enumerate(index_train_test.split(x, y))])\n",
    "len(list_index)"
   ],
   "metadata": {
    "collapsed": false,
    "pycharm": {
     "name": "#%%\n"
    }
   }
  },
  {
   "cell_type": "code",
   "execution_count": null,
   "outputs": [],
   "source": [
    "import itertools\n",
    "list_index_test = list([getattr(i, \"index_test\").tolist() for i in list_index])\n",
    "list_all_index_test = list(itertools.chain(*list_index_test))\n",
    "print(collections.Counter(sorted(list_all_index_test)), sep=\"\")"
   ],
   "metadata": {
    "collapsed": false,
    "pycharm": {
     "name": "#%%\n"
    }
   }
  },
  {
   "cell_type": "code",
   "execution_count": null,
   "outputs": [],
   "source": [
    "set(numpy.arange(0, 375).tolist()) ^ set(list_all_index_test)"
   ],
   "metadata": {
    "collapsed": false,
    "pycharm": {
     "name": "#%%\n"
    }
   }
  },
  {
   "cell_type": "markdown",
   "source": [],
   "metadata": {
    "collapsed": false,
    "pycharm": {
     "name": "#%% md\n"
    }
   }
  },
  {
   "cell_type": "code",
   "execution_count": null,
   "outputs": [],
   "source": [
    "def get_image(cfg, list_images):\n",
    "    images = list([getattr(image[\"image\"], \"image\") for image in list_images])\n",
    "    mask = list([getattr(image[\"mask\"], \"image\") for image in list_images])\n",
    "    x = numpy.array(images).reshape((len(images), cfg[\"image_size\"], cfg[\"image_size\"], cfg[\"channel\"]))\n",
    "    y = numpy.array(mask).reshape((len(mask), cfg[\"image_size\"], cfg[\"image_size\"], 1))\n",
    "    return x, y\n",
    "\n",
    "\n",
    "list_result = list([])\n",
    "list_elapsed_time = list([])\n",
    "path = get_path_mean(cfg)\n",
    "pathlib.Path(path).mkdir(parents=True, exist_ok=True)\n",
    "b = list([])\n",
    "for index in list_index:\n",
    "    fold = str(getattr(index, \"fold\"))\n",
    "    print(fold)\n",
    "    path_outfile_each_fold = get_path_outfile_each_fold(fold, path)\n",
    "    pathlib.Path(path_outfile_each_fold).mkdir(parents=True, exist_ok=True)\n",
    "\n",
    "    index_train = getattr(index, \"index_train\")\n",
    "    index_test = getattr(index, \"index_test\")\n",
    "\n",
    "    x_train_o, y_train_o = x[index_train], y[index_train]\n",
    "    x_test_o, y_test_o = x[index_test], y[index_test]\n",
    "    x_train_o, x_val_o, y_train_o, y_val_o = sklearn.model_selection.train_test_split(x_train_o, y_train_o, test_size=cfg[\"val_size\"], random_state=cfg[\"random_state\"])\n",
    "\n",
    "    x_train, y_train = get_image(cfg, x_train_o)\n",
    "    x_test, y_test = get_image(cfg, x_test_o)\n",
    "    x_val, y_val = get_image(cfg, x_val_o)\n",
    "\n",
    "    print(x_train.shape, y_train.shape)\n",
    "    print(x_test.shape, y_test.shape)\n",
    "    print(x_val.shape, y_val.shape)\n",
    "\n",
    "    checkpointer, reduce_learning_rate, steps_per_epoch, strategy, train_generator, unet_filename = cfg_model(cfg, fold, path_outfile_each_fold, x_train, y_train)\n",
    "\n",
    "    if os.path.exists(unet_filename):\n",
    "        model = tensorflow.keras.models.load_model(unet_filename, custom_objects = {\"jaccard_distance_loss\": jaccard_distance_loss, \"dice_coef\": dice_coef, \"jaccard_distance\": jaccard_distance })\n",
    "    else:\n",
    "        elapsed_time, model = train_model(cfg, checkpointer, fold, path_outfile_each_fold, reduce_learning_rate, steps_per_epoch, strategy, train_generator, x_val, y_val)\n",
    "\n",
    "    metrics = calculate_iou_dice(model, x_test, x_train, x_val, y_test, y_train, y_val)\n",
    "    list_elapsed_time.append(elapsed_time)\n",
    "    list_result.append(metrics)\n",
    "    create_outfile_each_fold(elapsed_time, fold, metrics, path_outfile_each_fold)\n",
    "    save_figs(cfg, model, path_outfile_each_fold, x_test_o, x_train_o, x_val_o, y_test_o, y_train_o, y_val_o)\n",
    "    break"
   ],
   "metadata": {
    "collapsed": false,
    "pycharm": {
     "name": "#%%\n"
    }
   }
  },
  {
   "cell_type": "code",
   "execution_count": null,
   "outputs": [],
   "source": [
    "create_outfile_mean(cfg, list_elapsed_time, list_result, path)\n",
    "len(list_result)"
   ],
   "metadata": {
    "collapsed": false,
    "pycharm": {
     "name": "#%%\n"
    }
   }
  },
  {
   "cell_type": "code",
   "execution_count": null,
   "outputs": [],
   "source": [],
   "metadata": {
    "collapsed": false,
    "pycharm": {
     "name": "#%%\n"
    }
   }
  },
  {
   "cell_type": "code",
   "execution_count": null,
   "outputs": [],
   "source": [],
   "metadata": {
    "collapsed": false,
    "pycharm": {
     "name": "#%%\n"
    }
   }
  }
 ],
 "metadata": {
  "kernelspec": {
   "display_name": "Python 3",
   "language": "python",
   "name": "python3"
  },
  "language_info": {
   "codemirror_mode": {
    "name": "ipython",
    "version": 2
   },
   "file_extension": ".py",
   "mimetype": "text/x-python",
   "name": "python",
   "nbconvert_exporter": "python",
   "pygments_lexer": "ipython2",
   "version": "2.7.6"
  }
 },
 "nbformat": 4,
 "nbformat_minor": 0
}