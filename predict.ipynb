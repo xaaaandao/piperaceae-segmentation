{
 "cells": [
  {
   "cell_type": "code",
   "execution_count": null,
   "outputs": [],
   "source": [
    "import numpy as np\n",
    "import os\n",
    "import pathlib\n",
    "import skimage.io\n",
    "import skimage.transform\n",
    "import tensorflow\n",
    "\n",
    "from metrics import dice_coef, dice_loss, jaccard_distance"
   ],
   "metadata": {
    "collapsed": false
   }
  },
  {
   "cell_type": "code",
   "execution_count": null,
   "outputs": [],
   "source": [
    "image_size = (400, 400)\n",
    "path_imgs = os.path.join('../dataset_george', 'imgs', 'RGB', '400', 'OUT')\n",
    "out_folder = os.path.join('../dataset_george', 'imgs_segmentada', 'RGB', '400')\n",
    "pathlib.Path(out_folder).mkdir(parents=True, exist_ok=True)\n",
    "\n",
    "list_images = sorted([file for file in pathlib.Path(path_imgs).rglob('*')])\n",
    "\n",
    "os.path.exists(path_imgs), len(list_images)"
   ],
   "metadata": {
    "collapsed": false
   }
  },
  {
   "cell_type": "code",
   "execution_count": null,
   "outputs": [],
   "source": [
    "for d in ['mask_unet', 'w_pred_mask']:\n",
    "    p = os.path.join(out_folder, d)\n",
    "    pathlib.Path(p).mkdir(parents=True, exist_ok=True)\n",
    "\n",
    "model = tensorflow.keras.models.load_model('predict/400/unet.h5', custom_objects = {'dice_loss': dice_loss, 'dice_coef': dice_coef, 'jaccard_distance': jaccard_distance })\n",
    "\n",
    "for i, file in enumerate(list_images):\n",
    "    print(i, file.resolve())\n",
    "    img = skimage.io.imread(file.resolve())\n",
    "    img = skimage.transform.resize(img, image_size)\n",
    "    img = img.reshape((1, 400, 400, 3))\n",
    "    mask = model.predict(img)\n",
    "    mask = mask[0, :, :, :]\n",
    "    new_filename = os.path.join(out_folder, 'mask_unet', str(file.stem) + '.png')\n",
    "    skimage.io.imsave(new_filename, skimage.img_as_ubyte(mask))\n",
    "\n",
    "    image_segmented = img * mask\n",
    "    image_segmented[image_segmented == 0] = 1\n",
    "    image_segmented = image_segmented[0, :, :, :]\n",
    "    new_filename = os.path.join(out_folder, 'w_pred_mask', str(file.stem) + '.png')\n",
    "    skimage.io.imsave(new_filename, skimage.img_as_ubyte(image_segmented))"
   ],
   "metadata": {
    "collapsed": false
   }
  }
 ],
 "metadata": {
  "kernelspec": {
   "display_name": "Python 3",
   "language": "python",
   "name": "python3"
  },
  "language_info": {
   "codemirror_mode": {
    "name": "ipython",
    "version": 2
   },
   "file_extension": ".py",
   "mimetype": "text/x-python",
   "name": "python",
   "nbconvert_exporter": "python",
   "pygments_lexer": "ipython2",
   "version": "2.7.6"
  }
 },
 "nbformat": 4,
 "nbformat_minor": 0
}
