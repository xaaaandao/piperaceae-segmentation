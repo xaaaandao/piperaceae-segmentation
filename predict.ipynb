{
 "cells": [
  {
   "cell_type": "code",
   "execution_count": null,
   "outputs": [],
   "source": [
    "import numpy as np\n",
    "import os\n",
    "import pathlib\n",
    "import tensorflow as tf\n",
    "\n",
    "from metrics import dice_coef, dice_loss, jaccard_distance"
   ],
   "metadata": {
    "collapsed": false
   }
  },
  {
   "cell_type": "code",
   "execution_count": null,
   "outputs": [],
   "source": [
    "image_size = (512, 512)\n",
    "path_imgs = 'jpeg'\n",
    "out_folder = 'a'\n",
    "pathlib.Path(out_folder).mkdir(parents=True, exist_ok=True)\n",
    "\n",
    "list_images = sorted([file for file in pathlib.Path(path_imgs).rglob('*')])\n",
    "\n",
    "os.path.exists(path_imgs), len(list_images)"
   ],
   "metadata": {
    "collapsed": false
   }
  },
  {
   "cell_type": "code",
   "execution_count": null,
   "outputs": [],
   "source": [
    "from PIL import ImageChops, Image\n",
    "import cv2\n",
    "\n",
    "for d in ['mask_unet', 'w_pred_mask', 'transparency']:\n",
    "    p = os.path.join(out_folder, d)\n",
    "    print(p)\n",
    "    pathlib.Path(p).mkdir(parents=True, exist_ok=True)\n",
    "\n",
    "model = tf.keras.models.load_model('unet.h5', custom_objects = {'dice_loss': dice_loss, 'dice_coef': dice_coef, 'jaccard_distance': jaccard_distance })\n",
    "\n",
    "for i, file in enumerate(list_images):\n",
    "    print(i, file.resolve())\n",
    "    image_original = tf.keras.preprocessing.image.load_img(file.resolve())\n",
    "    image = tf.keras.preprocessing.image.img_to_array(image_original)\n",
    "    image = image / 255\n",
    "    image = image.reshape((1, 512, 512, 3))\n",
    "    mask = model.predict(image)\n",
    "    mask = mask[0, :, :, :]\n",
    "    new_filename = os.path.join(out_folder, 'mask_unet', str(file.stem) + '.bmp')\n",
    "    print(new_filename, mask.shape)\n",
    "    tf.keras.preprocessing.image.save_img(new_filename, mask)\n",
    "\n",
    "    mask = tf.keras.preprocessing.image.array_to_img(mask).convert('L')\n",
    "    image_original = image_original.convert('RGBA')\n",
    "    new_filename = os.path.join(out_folder, 'transparency', str(file.stem) + '_transparente.png')\n",
    "    image_original.putalpha(mask)\n",
    "    image_original.save(new_filename)\n",
    "\n",
    "    background = Image.new('RGBA', (512, 512), \"WHITE\")\n",
    "    img_w, img_h = image_original.size\n",
    "    bg_w, bg_h = background.size\n",
    "    offset = ((bg_w - img_w) // 2, (bg_h - img_h) // 2)\n",
    "    background.paste(image_original, offset, image_original)\n",
    "    new_filename = os.path.join(out_folder, 'w_pred_mask', str(file.stem) + '.png')\n",
    "    background.save(new_filename)"
   ],
   "metadata": {
    "collapsed": false
   }
  },
  {
   "cell_type": "code",
   "execution_count": null,
   "outputs": [],
   "source": [],
   "metadata": {
    "collapsed": false
   }
  }
 ],
 "metadata": {
  "kernelspec": {
   "display_name": "Python 3",
   "language": "python",
   "name": "python3"
  },
  "language_info": {
   "codemirror_mode": {
    "name": "ipython",
    "version": 2
   },
   "file_extension": ".py",
   "mimetype": "text/x-python",
   "name": "python",
   "nbconvert_exporter": "python",
   "pygments_lexer": "ipython2",
   "version": "2.7.6"
  }
 },
 "nbformat": 4,
 "nbformat_minor": 0
}
