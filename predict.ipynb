{
 "cells": [
  {
   "cell_type": "code",
   "execution_count": null,
   "outputs": [],
   "source": [
    "import matplotlib.pyplot\n",
    "import os\n",
    "import pathlib\n",
    "import skimage.io\n",
    "import skimage.transform\n",
    "import tensorflow\n",
    "\n",
    "from metrics import dice_coef, dice_loss, jaccard_distance"
   ],
   "metadata": {
    "collapsed": false,
    "pycharm": {
     "name": "#%%\n"
    }
   }
  },
  {
   "cell_type": "code",
   "execution_count": null,
   "outputs": [],
   "source": [
    "images_predict_folder = os.path.join(\"dataset\", \"hcf\")\n",
    "mask_predict_folder = os.path.join(\"predict\", \"mask\")\n",
    "pathlib.Path(mask_predict_folder).mkdir(parents=True, exist_ok=True)"
   ],
   "metadata": {
    "collapsed": false,
    "pycharm": {
     "name": "#%%\n"
    }
   }
  },
  {
   "cell_type": "code",
   "execution_count": null,
   "outputs": [],
   "source": [
    "list_images = sorted(list([file for file in pathlib.Path(images_predict_folder).rglob(\"*\")]))\n",
    "\n",
    "len(list_images)"
   ],
   "metadata": {
    "collapsed": false,
    "pycharm": {
     "name": "#%%\n"
    }
   }
  },
  {
   "cell_type": "code",
   "execution_count": null,
   "outputs": [],
   "source": [
    "model = tensorflow.keras.models.load_model(\"out/train/unet.h5\", custom_objects = {\"dice_loss\": dice_loss, \"dice_coef\": dice_coef, \"jaccard_distance\": jaccard_distance })\n",
    "for i, file in enumerate(list_images):\n",
    "    print(i, file.resolve())\n",
    "    img = skimage.io.imread(file.resolve())\n",
    "    img = skimage.transform.resize(img, (256, 256))\n",
    "    img = img.reshape((1, 256, 256, 3))\n",
    "    mask = model.predict(img)\n",
    "    mask = mask[0, :, :, :]\n",
    "    filename_mask_pred = os.path.join(mask_predict_folder, str(file.stem) + \".png\")\n",
    "    skimage.io.imsave(filename_mask_pred, skimage.img_as_ubyte(mask))\n",
    "matplotlib.pyplot.imshow(mask, cmap=\"gray\")"
   ],
   "metadata": {
    "collapsed": false,
    "pycharm": {
     "name": "#%%\n"
    }
   }
  }
 ],
 "metadata": {
  "kernelspec": {
   "display_name": "Python 3",
   "language": "python",
   "name": "python3"
  },
  "language_info": {
   "codemirror_mode": {
    "name": "ipython",
    "version": 2
   },
   "file_extension": ".py",
   "mimetype": "text/x-python",
   "name": "python",
   "nbconvert_exporter": "python",
   "pygments_lexer": "ipython2",
   "version": "2.7.6"
  }
 },
 "nbformat": 4,
 "nbformat_minor": 0
}