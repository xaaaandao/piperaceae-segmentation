{
 "cells": [
  {
   "cell_type": "code",
   "execution_count": 1,
   "metadata": {
    "collapsed": true,
    "pycharm": {
     "name": "#%%\n"
    }
   },
   "outputs": [],
   "source": [
    "import numpy\n",
    "import pathlib\n",
    "import skimage.io\n",
    "import skimage.transform\n",
    "import tensorflow\n",
    "\n",
    "list_imgs_bitmap_gimp = list([file for file in pathlib.Path(\"dataset/mask/gimp/bitmap/256/mask\").rglob(\"*\")])\n",
    "list_imgs_bitmap_photoshop = list([file for file in pathlib.Path(\"dataset/mask/photoshop/bitmap/256/png\").rglob(\"*\")])\n",
    "list_imgs_grayscale_photoshop = list([file for file in pathlib.Path(\"dataset/mask/photoshop/grayscale/original/jpg\").rglob(\"*\")])"
   ]
  },
  {
   "cell_type": "markdown",
   "source": [
    "### valores imgs"
   ],
   "metadata": {
    "collapsed": false,
    "pycharm": {
     "name": "#%% md\n"
    }
   }
  },
  {
   "cell_type": "code",
   "execution_count": 2,
   "outputs": [
    {
     "data": {
      "text/plain": "(array([  0,   1,   2,   3,   4,   5,   6,   7,   8,   9,  10,  11,  12,\n         13,  14,  15,  16,  17,  18,  19,  20,  21,  22,  23,  24,  25,\n         26,  27,  28,  29,  30,  31,  32,  33,  34,  35,  36,  37,  38,\n         39,  40,  41,  42,  43,  44,  45,  46,  47,  48,  49,  50,  51,\n         52,  53,  54,  55,  56,  57,  58,  59,  60,  61,  62,  63,  64,\n         65,  66,  67,  68,  69,  70,  71,  72,  73,  74,  75,  76,  77,\n         78,  79,  80,  81,  82,  83,  84,  85,  86,  87,  88,  89,  90,\n         91,  92,  93,  94,  95,  96,  97,  98,  99, 100, 101, 102, 103,\n        104, 105, 106, 107, 108, 109, 110, 111, 112, 113, 114, 115, 116,\n        117, 118, 119, 120, 121, 122, 123, 124, 125, 126, 127, 128, 129,\n        130, 131, 132, 133, 134, 135, 136, 137, 138, 139, 140, 141, 142,\n        143, 144, 145, 146, 147, 148, 149, 150, 151, 152, 153, 154, 155,\n        156, 157, 158, 159, 160, 161, 162, 163, 164, 165, 166, 167, 168,\n        169, 170, 171, 172, 173, 174, 175, 176, 177, 178, 179, 180, 181,\n        182, 183, 184, 185, 186, 187, 188, 189, 190, 191, 192, 193, 194,\n        195, 196, 197, 198, 199, 200, 201, 202, 203, 204, 205, 206, 207,\n        208, 209, 210, 211, 212, 213, 214, 215, 216, 217, 218, 219, 220,\n        221, 222, 223, 224, 225, 226, 227, 228, 229, 230, 231, 232, 233,\n        234, 235, 236, 237, 238, 239, 240, 241, 242, 243, 244, 245, 246,\n        247, 248, 249, 250, 251, 252, 253, 254, 255], dtype=uint8),\n (1255, 1024))"
     },
     "execution_count": 2,
     "metadata": {},
     "output_type": "execute_result"
    }
   ],
   "source": [
    "img_grayscale_photoshop = skimage.io.imread(list_imgs_grayscale_photoshop[0].resolve())\n",
    "\n",
    "numpy.unique(img_grayscale_photoshop), img_grayscale_photoshop.shape"
   ],
   "metadata": {
    "collapsed": false,
    "pycharm": {
     "name": "#%%\n"
    }
   }
  },
  {
   "cell_type": "code",
   "execution_count": 3,
   "outputs": [
    {
     "data": {
      "text/plain": "(array([0.00000000e+00, 2.68075980e-05, 5.36151961e-05, ...,\n        9.99444700e-01, 9.99946385e-01, 1.00000000e+00]),\n (256, 256),\n dtype('float64'))"
     },
     "execution_count": 3,
     "metadata": {},
     "output_type": "execute_result"
    }
   ],
   "source": [
    "img_grayscale_photoshop = skimage.transform.resize(img_grayscale_photoshop, (256, 256), anti_aliasing=True)\n",
    "numpy.unique(img_grayscale_photoshop), img_grayscale_photoshop.shape, img_grayscale_photoshop.dtype"
   ],
   "metadata": {
    "collapsed": false,
    "pycharm": {
     "name": "#%%\n"
    }
   }
  },
  {
   "cell_type": "markdown",
   "source": [
    "### load_img skimage"
   ],
   "metadata": {
    "collapsed": false,
    "pycharm": {
     "name": "#%% md\n"
    }
   }
  },
  {
   "cell_type": "code",
   "execution_count": 4,
   "outputs": [
    {
     "data": {
      "text/plain": "(array([  0, 255], dtype=uint8),\n (256, 256),\n array([  0, 255], dtype=uint8),\n (256, 256))"
     },
     "execution_count": 4,
     "metadata": {},
     "output_type": "execute_result"
    }
   ],
   "source": [
    "img_bitmap_gimp = skimage.io.imread(list_imgs_bitmap_gimp[0].resolve())\n",
    "img_bitmap_photoshop = skimage.io.imread(list_imgs_bitmap_photoshop[0].resolve())\n",
    "\n",
    "numpy.unique(img_bitmap_photoshop), img_bitmap_photoshop.shape, numpy.unique(img_bitmap_gimp), img_bitmap_gimp.shape"
   ],
   "metadata": {
    "collapsed": false,
    "pycharm": {
     "name": "#%%\n"
    }
   }
  },
  {
   "cell_type": "markdown",
   "source": [
    "### load_img tf"
   ],
   "metadata": {
    "collapsed": false,
    "pycharm": {
     "name": "#%% md\n"
    }
   }
  },
  {
   "cell_type": "code",
   "execution_count": 5,
   "outputs": [
    {
     "name": "stderr",
     "output_type": "stream",
     "text": [
      "2022-08-23 14:49:56.135231: I tensorflow/stream_executor/cuda/cuda_gpu_executor.cc:936] successful NUMA node read from SysFS had negative value (-1), but there must be at least one NUMA node, so returning NUMA node zero\n",
      "2022-08-23 14:49:56.154583: I tensorflow/stream_executor/cuda/cuda_gpu_executor.cc:936] successful NUMA node read from SysFS had negative value (-1), but there must be at least one NUMA node, so returning NUMA node zero\n",
      "2022-08-23 14:49:56.154726: I tensorflow/stream_executor/cuda/cuda_gpu_executor.cc:936] successful NUMA node read from SysFS had negative value (-1), but there must be at least one NUMA node, so returning NUMA node zero\n",
      "2022-08-23 14:49:56.155211: I tensorflow/core/platform/cpu_feature_guard.cc:151] This TensorFlow binary is optimized with oneAPI Deep Neural Network Library (oneDNN) to use the following CPU instructions in performance-critical operations:  AVX2 FMA\n",
      "To enable them in other operations, rebuild TensorFlow with the appropriate compiler flags.\n",
      "2022-08-23 14:49:56.155688: I tensorflow/stream_executor/cuda/cuda_gpu_executor.cc:936] successful NUMA node read from SysFS had negative value (-1), but there must be at least one NUMA node, so returning NUMA node zero\n",
      "2022-08-23 14:49:56.155807: I tensorflow/stream_executor/cuda/cuda_gpu_executor.cc:936] successful NUMA node read from SysFS had negative value (-1), but there must be at least one NUMA node, so returning NUMA node zero\n",
      "2022-08-23 14:49:56.155908: I tensorflow/stream_executor/cuda/cuda_gpu_executor.cc:936] successful NUMA node read from SysFS had negative value (-1), but there must be at least one NUMA node, so returning NUMA node zero\n",
      "2022-08-23 14:49:56.465113: I tensorflow/stream_executor/cuda/cuda_gpu_executor.cc:936] successful NUMA node read from SysFS had negative value (-1), but there must be at least one NUMA node, so returning NUMA node zero\n",
      "2022-08-23 14:49:56.465304: I tensorflow/stream_executor/cuda/cuda_gpu_executor.cc:936] successful NUMA node read from SysFS had negative value (-1), but there must be at least one NUMA node, so returning NUMA node zero\n",
      "2022-08-23 14:49:56.465458: I tensorflow/stream_executor/cuda/cuda_gpu_executor.cc:936] successful NUMA node read from SysFS had negative value (-1), but there must be at least one NUMA node, so returning NUMA node zero\n",
      "2022-08-23 14:49:56.465580: I tensorflow/core/common_runtime/gpu/gpu_device.cc:1525] Created device /job:localhost/replica:0/task:0/device:GPU:0 with 821 MB memory:  -> device: 0, name: NVIDIA GeForce RTX 3060, pci bus id: 0000:01:00.0, compute capability: 8.6\n"
     ]
    },
    {
     "data": {
      "text/plain": "(array([  0, 255], dtype=uint8), (256, 256))"
     },
     "execution_count": 5,
     "metadata": {},
     "output_type": "execute_result"
    }
   ],
   "source": [
    "img_bitmap_gimp_decode = tensorflow.io.decode_image(tensorflow.io.read_file(str(list_imgs_bitmap_gimp[0].resolve())))\n",
    "numpy.unique(img_bitmap_gimp), img_bitmap_gimp.shape #bug metrics"
   ],
   "metadata": {
    "collapsed": false,
    "pycharm": {
     "name": "#%%\n"
    }
   }
  },
  {
   "cell_type": "code",
   "execution_count": 6,
   "outputs": [
    {
     "data": {
      "text/plain": "(array([  0, 255], dtype=uint8), (256, 256))"
     },
     "execution_count": 6,
     "metadata": {},
     "output_type": "execute_result"
    }
   ],
   "source": [
    "img_bitmap_gimp_load = tensorflow.keras.utils.img_to_array(tensorflow.keras.utils.load_img(str(list_imgs_bitmap_gimp[0].resolve()),color_mode=\"grayscale\"))\n",
    "numpy.unique(img_bitmap_gimp), img_bitmap_gimp.shape"
   ],
   "metadata": {
    "collapsed": false,
    "pycharm": {
     "name": "#%%\n"
    }
   }
  },
  {
   "cell_type": "code",
   "execution_count": 7,
   "outputs": [
    {
     "data": {
      "text/plain": "(array([  0, 255], dtype=uint8), (256, 256))"
     },
     "execution_count": 7,
     "metadata": {},
     "output_type": "execute_result"
    }
   ],
   "source": [
    "img_bitmap_gimp_decode = tensorflow.image.resize(img_bitmap_gimp_decode, (256, 256))\n",
    "numpy.unique(img_bitmap_gimp), img_bitmap_gimp.shape"
   ],
   "metadata": {
    "collapsed": false,
    "pycharm": {
     "name": "#%%\n"
    }
   }
  }
 ],
 "metadata": {
  "kernelspec": {
   "display_name": "Python 3",
   "language": "python",
   "name": "python3"
  },
  "language_info": {
   "codemirror_mode": {
    "name": "ipython",
    "version": 2
   },
   "file_extension": ".py",
   "mimetype": "text/x-python",
   "name": "python",
   "nbconvert_exporter": "python",
   "pygments_lexer": "ipython2",
   "version": "2.7.6"
  }
 },
 "nbformat": 4,
 "nbformat_minor": 0
}