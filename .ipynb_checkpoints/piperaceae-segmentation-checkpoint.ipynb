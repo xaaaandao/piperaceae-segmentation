{
 "cells": [
  {
   "cell_type": "code",
   "execution_count": 1,
   "metadata": {
    "pycharm": {
     "name": "#%%\n"
    }
   },
   "outputs": [],
   "source": [
    "import cv2\n",
    "import math\n",
    "import matplotlib.pyplot\n",
    "import numpy\n",
    "import os\n",
    "import pathlib\n",
    "import PIL\n",
    "import skimage.morphology\n",
    "import skimage.io\n",
    "import sklearn\n",
    "import sklearn.model_selection  \n",
    "import sklearn.utils\n",
    "import tensorflow\n",
    "\n",
    "from albumentations import (\n",
    "    Compose, HorizontalFlip, ShiftScaleRotate, ElasticTransform,\n",
    "    RandomBrightness, RandomContrast, RandomGamma\n",
    ")\n",
    "from IPython.display import Image, display\n",
    "from PIL import ImageOps\n",
    "from keras.preprocessing.image import array_to_img"
   ]
  },
  {
   "cell_type": "code",
   "execution_count": 2,
   "metadata": {
    "pycharm": {
     "name": "#%%\n"
    }
   },
   "outputs": [],
   "source": [
    "path_mask = \"mask\"\n",
    "path_images = \"images\"\n",
    "image_size = 400\n",
    "\n",
    "def load_mask(filename):\n",
    "    return numpy.float32(skimage.io.imread(filename) / 255)\n",
    "\n",
    "\n",
    "def load_all_masks(path):\n",
    "    return [load_mask(filename) for filename in sorted(pathlib.Path(path).rglob(\"*\"))]\n",
    "\n",
    "\n",
    "def load_image(filename):\n",
    "    return skimage.img_as_float32(skimage.io.imread(filename))\n",
    "\n",
    "\n",
    "def load_all_images(path):\n",
    "    return [load_image(filename) for filename in sorted(pathlib.Path(path).rglob(\"*\"))]"
   ]
  },
  {
   "cell_type": "code",
   "execution_count": 3,
   "metadata": {
    "pycharm": {
     "name": "#%%\n"
    }
   },
   "outputs": [],
   "source": [
    "def set_avx_avx2():\n",
    "    os.environ['TF_CPP_MIN_LOG_LEVEL'] = '2'\n",
    "\n",
    "\n",
    "def set_gpu():\n",
    "    gpus = tensorflow.config.experimental.list_physical_devices(\"GPU\")\n",
    "    if gpus:\n",
    "        try:\n",
    "            # Currently, memory growth needs to be the same across GPUs\n",
    "            for gpu in gpus:\n",
    "                print(f\"GPU: {gpu.name}\")\n",
    "                tensorflow.config.experimental.set_memory_growth(gpu, True)\n",
    "        except RuntimeError as e:\n",
    "            print(e)"
   ]
  },
  {
   "cell_type": "code",
   "execution_count": 4,
   "metadata": {
    "pycharm": {
     "name": "#%%\n"
    }
   },
   "outputs": [],
   "source": [
    "class AugmentationSequence(tensorflow.keras.utils.Sequence):\n",
    "    def __init__(self, x_set, y_set, batch_size, augmentations):\n",
    "        self.x, self.y = x_set, y_set\n",
    "        self.batch_size = batch_size\n",
    "        self.augment = augmentations\n",
    "\n",
    "    def __len__(self):\n",
    "        return int(numpy.ceil(len(self.x) / float(self.batch_size)))\n",
    "\n",
    "    def __getitem__(self, idx):\n",
    "        batch_x = self.x[idx * self.batch_size:(idx + 1) * self.batch_size]\n",
    "        batch_y = self.y[idx * self.batch_size:(idx + 1) * self.batch_size]\n",
    "\n",
    "        aug_x = numpy.zeros(batch_x.shape)\n",
    "        aug_y = numpy.zeros(batch_y.shape)\n",
    "\n",
    "        for idx in range(batch_x.shape[0]):\n",
    "            aug = self.augment(image=batch_x[idx, :, :, :], mask=batch_y[idx, :, :, :])\n",
    "            aug_x[idx, :, :, :] = aug[\"image\"]\n",
    "            aug_y[idx, :, :, :] = aug[\"mask\"]\n",
    "\n",
    "        return aug_x, aug_y"
   ]
  },
  {
   "cell_type": "code",
   "execution_count": 5,
   "metadata": {
    "pycharm": {
     "name": "#%%\n"
    }
   },
   "outputs": [],
   "source": [
    "def unet_model(keras=None, img_size=None):\n",
    "\n",
    "    input_img = tensorflow.keras.layers.Input((img_size, img_size, 1), name = \"img\")\n",
    "\n",
    "    # Contract #1\n",
    "    c1 = tensorflow.keras.layers.Conv2D(16, (3, 3), kernel_initializer = \"he_uniform\", padding = \"same\")(input_img)\n",
    "    c1 = tensorflow.keras.layers.BatchNormalization()(c1)\n",
    "    c1 = tensorflow.keras.layers.Activation(\"relu\")(c1)\n",
    "    c1 = tensorflow.keras.layers.Dropout(0.1)(c1)\n",
    "    c1 = tensorflow.keras.layers.Conv2D(16, (3, 3), kernel_initializer = \"he_uniform\", padding = \"same\")(c1)\n",
    "    c1 = tensorflow.keras.layers.BatchNormalization()(c1)\n",
    "    c1 = tensorflow.keras.layers.Activation(\"relu\")(c1)\n",
    "    p1 = tensorflow.keras.layers.MaxPooling2D((2, 2))(c1)\n",
    "\n",
    "    # Contract #2\n",
    "    c2 = tensorflow.keras.layers.Conv2D(32, (3, 3), kernel_initializer = \"he_uniform\", padding = \"same\")(p1)\n",
    "    c2 = tensorflow.keras.layers.BatchNormalization()(c2)\n",
    "    c2 = tensorflow.keras.layers.Activation(\"relu\")(c2)\n",
    "    c2 = tensorflow.keras.layers.Dropout(0.2)(c2)\n",
    "    c2 = tensorflow.keras.layers.Conv2D(32, (3, 3), kernel_initializer = \"he_uniform\", padding = \"same\")(c2)\n",
    "    c2 = tensorflow.keras.layers.BatchNormalization()(c2)\n",
    "    c2 = tensorflow.keras.layers.Activation(\"relu\")(c2)\n",
    "    p2 = tensorflow.keras.layers.MaxPooling2D((2, 2))(c2)\n",
    "\n",
    "    # Contract #3\n",
    "    c3 = tensorflow.keras.layers.Conv2D(64, (3, 3), kernel_initializer = \"he_uniform\", padding = \"same\")(p2)\n",
    "    c3 = tensorflow.keras.layers.BatchNormalization()(c3)\n",
    "    c3 = tensorflow.keras.layers.Activation(\"relu\")(c3)\n",
    "    c3 = tensorflow.keras.layers.Dropout(0.3)(c3)\n",
    "    c3 = tensorflow.keras.layers.Conv2D(64, (3, 3), kernel_initializer = \"he_uniform\", padding = \"same\")(c3)\n",
    "    c3 = tensorflow.keras.layers.BatchNormalization()(c3)\n",
    "    c3 = tensorflow.keras.layers.Activation(\"relu\")(c3)\n",
    "    p3 = tensorflow.keras.layers.MaxPooling2D((2, 2))(c3)\n",
    "\n",
    "    # Contract #4\n",
    "    c4 = tensorflow.keras.layers.Conv2D(128, (3, 3), kernel_initializer = \"he_uniform\", padding = \"same\")(p3)\n",
    "    c4 = tensorflow.keras.layers.BatchNormalization()(c4)\n",
    "    c4 = tensorflow.keras.layers.Activation(\"relu\")(c4)\n",
    "    c4 = tensorflow.keras.layers.Dropout(0.4)(c4)\n",
    "    c4 = tensorflow.keras.layers.Conv2D(128, (3, 3), kernel_initializer = \"he_uniform\", padding = \"same\")(c4)\n",
    "    c4 = tensorflow.keras.layers.BatchNormalization()(c4)\n",
    "    c4 = tensorflow.keras.layers.Activation(\"relu\")(c4)\n",
    "    p4 = tensorflow.keras.layers.MaxPooling2D((2, 2))(c4)\n",
    "\n",
    "    # Middle\n",
    "    c5 = tensorflow.keras.layers.Conv2D(256, (3, 3), kernel_initializer = \"he_uniform\", padding = \"same\")(p4)\n",
    "    c5 = tensorflow.keras.layers.BatchNormalization()(c5)\n",
    "    c5 = tensorflow.keras.layers.Activation(\"relu\")(c5)\n",
    "    c5 = tensorflow.keras.layers.Dropout(0.5)(c5)\n",
    "    c5 = tensorflow.keras.layers.Conv2D(256, (3, 3), kernel_initializer = \"he_uniform\", padding = \"same\")(c5)\n",
    "    c5 = tensorflow.keras.layers.BatchNormalization()(c5)\n",
    "    c5 = tensorflow.keras.layers.Activation(\"relu\")(c5)\n",
    "\n",
    "    # Expand (upscale) #1\n",
    "    u6 = tensorflow.keras.layers.Conv2DTranspose(128, (3, 3), strides = (2, 2), padding = \"same\")(c5)\n",
    "    u6 = tensorflow.keras.layers.concatenate([u6, c4])\n",
    "    c6 = tensorflow.keras.layers.Conv2D(128, (3, 3), kernel_initializer = \"he_uniform\", padding = \"same\")(u6)\n",
    "    c6 = tensorflow.keras.layers.BatchNormalization()(c6)\n",
    "    c6 = tensorflow.keras.layers.Activation(\"relu\")(c6)\n",
    "    c6 = tensorflow.keras.layers.Dropout(0.5)(c6)\n",
    "    c6 = tensorflow.keras.layers.Conv2D(128, (3, 3), kernel_initializer = \"he_uniform\", padding = \"same\")(c6)\n",
    "    c6 = tensorflow.keras.layers.BatchNormalization()(c6)\n",
    "    c6 = tensorflow.keras.layers.Activation(\"relu\")(c6)\n",
    "\n",
    "    # Expand (upscale) #2\n",
    "    u7 = tensorflow.keras.layers.Conv2DTranspose(64, (3, 3), strides = (2, 2), padding = \"same\")(c6)\n",
    "    u7 = tensorflow.keras.layers.concatenate([u7, c3])\n",
    "    c7 = tensorflow.keras.layers.Conv2D(64, (3, 3), kernel_initializer = \"he_uniform\", padding = \"same\")(u7)\n",
    "    c7 = tensorflow.keras.layers.BatchNormalization()(c7)\n",
    "    c7 = tensorflow.keras.layers.Activation(\"relu\")(c7)\n",
    "    c7 = tensorflow.keras.layers.Dropout(0.5)(c7)\n",
    "    c7 = tensorflow.keras.layers.Conv2D(64, (3, 3), kernel_initializer = \"he_uniform\", padding = \"same\")(c7)\n",
    "    c7 = tensorflow.keras.layers.BatchNormalization()(c7)\n",
    "    c7 = tensorflow.keras.layers.Activation(\"relu\")(c7)\n",
    "\n",
    "    # Expand (upscale) #3\n",
    "    u8 = tensorflow.keras.layers.Conv2DTranspose(32, (3, 3), strides = (2, 2), padding = \"same\")(c7)\n",
    "    u8 = tensorflow.keras.layers.concatenate([u8, c2])\n",
    "    c8 = tensorflow.keras.layers.Conv2D(32, (3, 3), kernel_initializer = \"he_uniform\", padding = \"same\")(u8)\n",
    "    c8 = tensorflow.keras.layers.BatchNormalization()(c8)\n",
    "    c8 = tensorflow.keras.layers.Activation(\"relu\")(c8)\n",
    "    c8 = tensorflow.keras.layers.Dropout(0.5)(c8)\n",
    "    c8 = tensorflow.keras.layers.Conv2D(32, (3, 3), kernel_initializer = \"he_uniform\", padding = \"same\")(c8)\n",
    "    c8 = tensorflow.keras.layers.BatchNormalization()(c8)\n",
    "    c8 = tensorflow.keras.layers.Activation(\"relu\")(c8)\n",
    "\n",
    "    # Expand (upscale) #4\n",
    "    u9 = tensorflow.keras.layers.Conv2DTranspose(16, (3, 3), strides = (2, 2), padding = \"same\")(c8)\n",
    "    u9 = tensorflow.keras.layers.concatenate([u9, c1])\n",
    "    c9 = tensorflow.keras.layers.Conv2D(16, (3, 3), kernel_initializer = \"he_uniform\", padding = \"same\")(u9)\n",
    "    c9 = tensorflow.keras.layers.BatchNormalization()(c9)\n",
    "    c9 = tensorflow.keras.layers.Activation(\"relu\")(c9)\n",
    "    c9 = tensorflow.keras.layers.Dropout(0.5)(c9)\n",
    "    c9 = tensorflow.keras.layers.Conv2D(16, (3, 3), kernel_initializer = \"he_uniform\", padding = \"same\")(c9)\n",
    "    c9 = tensorflow.keras.layers.BatchNormalization()(c9)\n",
    "    c9 = tensorflow.keras.layers.Activation(\"relu\")(c9)\n",
    "\n",
    "    output = tensorflow.keras.layers.Conv2D(1, (1, 1), activation = \"sigmoid\")(c9)\n",
    "    model = tensorflow.keras.Model(inputs = [input_img], outputs = [output])\n",
    "    return model"
   ]
  },
  {
   "cell_type": "code",
   "execution_count": 6,
   "metadata": {},
   "outputs": [],
   "source": [
    "def jaccard_distance_loss(y_true, y_pred, smooth = 100):\n",
    "    intersection = tensorflow.keras.backend.sum(tensorflow.keras.backend.abs(y_true * y_pred), axis = -1)\n",
    "    union = tensorflow.keras.backend.sum(tensorflow.keras.backend.abs(y_true) + tensorflow.keras.backend.abs(y_pred), axis = -1)\n",
    "    jac = (intersection + smooth) / (union - intersection + smooth)\n",
    "    loss = (1 - jac) * smooth\n",
    "    return loss\n",
    "\n",
    "\n",
    "def dice_coef(y_true, y_pred, smooth = 1):\n",
    "    intersection = tensorflow.keras.backend.sum(tensorflow.keras.backend.abs(y_true * y_pred), axis = -1)\n",
    "    union = tensorflow.keras.backend.sum(tensorflow.keras.backend.abs(y_true), -1) + tensorflow.keras.backend.sum(tensorflow.keras.backend.abs(y_pred), -1)\n",
    "    return (2. * intersection + smooth) / (union + smooth)"
   ]
  },
  {
   "cell_type": "code",
   "execution_count": 7,
   "metadata": {},
   "outputs": [],
   "source": [
    "def display_mask(i):\n",
    "    \"\"\"Quick utility to display a model's prediction.\"\"\"\n",
    "    print(f\"i.shape {i.shape}\")\n",
    "    mask = numpy.argmax(i, axis=-1)\n",
    "    mask = numpy.expand_dims(mask, axis=-1)\n",
    "    print(f\"mask.shape {mask.shape}\")\n",
    "    img = PIL.ImageOps.autocontrast(array_to_img(mask))\n",
    "    img.save(f\"mask.jpg\")\n",
    "    display(img)"
   ]
  },
  {
   "cell_type": "code",
   "execution_count": 8,
   "metadata": {
    "pycharm": {
     "name": "#%%\n"
    }
   },
   "outputs": [
    {
     "name": "stdout",
     "output_type": "stream",
     "text": [
      "images[50].shape: (400, 400)\n",
      "masks[50].shape: (400, 400)\n"
     ]
    },
    {
     "data": {
      "text/plain": [
       "<matplotlib.image.AxesImage at 0x7ff4bdbcf0d0>"
      ]
     },
     "execution_count": 8,
     "metadata": {},
     "output_type": "execute_result"
    },
    {
     "data": {
      "image/png": "[encoded data removed]",
      "text/plain": [
       "<Figure size 432x288 with 2 Axes>"
      ]
     },
     "metadata": {
      "needs_background": "light"
     },
     "output_type": "display_data"
    }
   ],
   "source": [
    "images = load_all_images(path_images)\n",
    "masks = load_all_masks(path_mask)\n",
    "\n",
    "\n",
    "print(f\"images[50].shape: {images[50].shape}\")\n",
    "print(f\"masks[50].shape: {masks[50].shape}\")\n",
    "f = matplotlib.pyplot.figure()\n",
    "f.add_subplot(3, 2, 1)\n",
    "matplotlib.pyplot.imshow(images[50], cmap = \"gray\")\n",
    "f.add_subplot(3, 2, 2)\n",
    "matplotlib.pyplot.imshow(masks[50], cmap = \"gray\")"
   ]
  },
  {
   "cell_type": "code",
   "execution_count": 9,
   "metadata": {
    "pycharm": {
     "name": "#%%\n"
    }
   },
   "outputs": [
    {
     "name": "stdout",
     "output_type": "stream",
     "text": [
      "(338, 400, 400, 1)\n",
      "(18, 400, 400, 1)\n",
      "(19, 400, 400, 1)\n",
      "(375, 400, 400, 1)\n"
     ]
    }
   ],
   "source": [
    "X = numpy.array(images).reshape(len(images), image_size, image_size, 1)\n",
    "Y = numpy.array(masks).reshape(len(masks), image_size, image_size, 1)\n",
    "X, Y = sklearn.utils.shuffle(X, Y, random_state=1234)\n",
    "\n",
    "X_train, X_test, Y_train, Y_test = sklearn.model_selection.train_test_split(X, Y, test_size=0.05, random_state=1234)\n",
    "X_train, X_val, Y_train, Y_val = sklearn.model_selection.train_test_split(X_train, Y_train, test_size=0.05, random_state=1234)\n",
    "\n",
    "print(X_train.shape)\n",
    "print(X_val.shape)\n",
    "print(X_test.shape)\n",
    "print(X.shape)"
   ]
  },
  {
   "cell_type": "code",
   "execution_count": 10,
   "metadata": {},
   "outputs": [],
   "source": [
    "images_test_ids = []\n",
    "\n",
    "nimages = X_test.shape[0]\n",
    "for idx in range(nimages):\n",
    "  test_image = X_test[idx,:,:,0]\n",
    "  if any(numpy.array_equal(test_image, x) for x in images):\n",
    "    images_test_ids.append(idx)\n"
   ]
  },
  {
   "cell_type": "code",
   "execution_count": 11,
   "metadata": {},
   "outputs": [
    {
     "name": "stderr",
     "output_type": "stream",
     "text": [
      "/home/xandao/miniconda3/lib/python3.8/site-packages/albumentations/augmentations/transforms.py:1613: FutureWarning: This class has been deprecated. Please use RandomBrightnessContrast\n",
      "  warnings.warn(\n",
      "/home/xandao/miniconda3/lib/python3.8/site-packages/albumentations/augmentations/transforms.py:1639: FutureWarning: RandomContrast has been deprecated. Please use RandomBrightnessContrast\n",
      "  warnings.warn(\n"
     ]
    },
    {
     "data": {
      "text/plain": [
       "<matplotlib.image.AxesImage at 0x7ff4b82deeb0>"
      ]
     },
     "execution_count": 11,
     "metadata": {},
     "output_type": "execute_result"
    },
    {
     "data": {
      "image/png": "[encoded data removed]",
      "text/plain": [
       "<Figure size 432x288 with 4 Axes>"
      ]
     },
     "metadata": {
      "needs_background": "light"
     },
     "output_type": "display_data"
    }
   ],
   "source": [
    "augment = Compose([\n",
    "        HorizontalFlip(),\n",
    "        ShiftScaleRotate(rotate_limit=45, border_mode=cv2.BORDER_CONSTANT),\n",
    "        ElasticTransform(border_mode=cv2.BORDER_CONSTANT),\n",
    "        RandomBrightness(),\n",
    "        RandomContrast(),\n",
    "        RandomGamma()\n",
    "    ])\n",
    "\n",
    "batch_size = 16\n",
    "train_generator = AugmentationSequence(X_train, Y_train, batch_size, augment)\n",
    "steps_per_epoch = math.ceil(X_train.shape[0] / batch_size)\n",
    "reduce_learning_rate = tensorflow.keras.callbacks.ReduceLROnPlateau( monitor=\"loss\", factor=0.5, patience=3, verbose=1 )\n",
    "\n",
    "X_aug, Y_aug = train_generator.__getitem__(20)\n",
    "f = matplotlib.pyplot.figure()\n",
    "f.add_subplot(4, 2, 1)\n",
    "matplotlib.pyplot.imshow(X_aug[0,:,:,0], cmap = \"gray\")\n",
    "f.add_subplot(4, 2, 2)\n",
    "matplotlib.pyplot.imshow(Y_aug[0,:,:,0], cmap = \"gray\")\n",
    "\n",
    "f.add_subplot(4, 2, 3)\n",
    "matplotlib.pyplot.imshow(X_aug[1,:,:,0], cmap = \"gray\")\n",
    "f.add_subplot(4, 2, 4)\n",
    "matplotlib.pyplot.imshow(Y_aug[1,:,:,0], cmap = \"gray\")\n"
   ]
  },
  {
   "cell_type": "code",
   "execution_count": 12,
   "metadata": {},
   "outputs": [
    {
     "name": "stdout",
     "output_type": "stream",
     "text": [
      "INFO:tensorflow:Using MirroredStrategy with devices ('/job:localhost/replica:0/task:0/device:GPU:0',)\n"
     ]
    },
    {
     "name": "stderr",
     "output_type": "stream",
     "text": [
      "2022-07-02 12:45:28.334324: I tensorflow/stream_executor/cuda/cuda_gpu_executor.cc:936] successful NUMA node read from SysFS had negative value (-1), but there must be at least one NUMA node, so returning NUMA node zero\n",
      "2022-07-02 12:45:28.353998: I tensorflow/stream_executor/cuda/cuda_gpu_executor.cc:936] successful NUMA node read from SysFS had negative value (-1), but there must be at least one NUMA node, so returning NUMA node zero\n",
      "2022-07-02 12:45:28.354161: I tensorflow/stream_executor/cuda/cuda_gpu_executor.cc:936] successful NUMA node read from SysFS had negative value (-1), but there must be at least one NUMA node, so returning NUMA node zero\n",
      "2022-07-02 12:45:28.354632: I tensorflow/core/platform/cpu_feature_guard.cc:151] This TensorFlow binary is optimized with oneAPI Deep Neural Network Library (oneDNN) to use the following CPU instructions in performance-critical operations:  AVX2 FMA\n",
      "To enable them in other operations, rebuild TensorFlow with the appropriate compiler flags.\n",
      "2022-07-02 12:45:28.355224: I tensorflow/stream_executor/cuda/cuda_gpu_executor.cc:936] successful NUMA node read from SysFS had negative value (-1), but there must be at least one NUMA node, so returning NUMA node zero\n",
      "2022-07-02 12:45:28.355387: I tensorflow/stream_executor/cuda/cuda_gpu_executor.cc:936] successful NUMA node read from SysFS had negative value (-1), but there must be at least one NUMA node, so returning NUMA node zero\n",
      "2022-07-02 12:45:28.355525: I tensorflow/stream_executor/cuda/cuda_gpu_executor.cc:936] successful NUMA node read from SysFS had negative value (-1), but there must be at least one NUMA node, so returning NUMA node zero\n",
      "2022-07-02 12:45:28.600613: I tensorflow/stream_executor/cuda/cuda_gpu_executor.cc:936] successful NUMA node read from SysFS had negative value (-1), but there must be at least one NUMA node, so returning NUMA node zero\n",
      "2022-07-02 12:45:28.600761: I tensorflow/stream_executor/cuda/cuda_gpu_executor.cc:936] successful NUMA node read from SysFS had negative value (-1), but there must be at least one NUMA node, so returning NUMA node zero\n",
      "2022-07-02 12:45:28.600878: I tensorflow/stream_executor/cuda/cuda_gpu_executor.cc:936] successful NUMA node read from SysFS had negative value (-1), but there must be at least one NUMA node, so returning NUMA node zero\n",
      "2022-07-02 12:45:28.600978: I tensorflow/core/common_runtime/gpu/gpu_device.cc:1525] Created device /job:localhost/replica:0/task:0/device:GPU:0 with 179 MB memory:  -> device: 0, name: NVIDIA GeForce RTX 3080, pci bus id: 0000:06:00.0, compute capability: 8.6\n",
      "2022-07-02 12:45:28.603933: I tensorflow/stream_executor/cuda/cuda_driver.cc:739] failed to allocate 179.00M (187695104 bytes) from device: CUDA_ERROR_OUT_OF_MEMORY: out of memory\n"
     ]
    }
   ],
   "source": [
    "\n",
    "\n",
    "reduce_learning_rate = tensorflow.keras.callbacks.ReduceLROnPlateau(\n",
    "  monitor = \"loss\", \n",
    "  factor = 0.5, \n",
    "  patience = 3, \n",
    "  verbose = 1\n",
    ")\n",
    "\n",
    "checkpointer = tensorflow.keras.callbacks.ModelCheckpoint(\n",
    "  \"model/unet.h5\", \n",
    "  verbose = 1, \n",
    "  save_best_only = True\n",
    ")\n",
    "\n",
    "strategy = tensorflow.distribute.MirroredStrategy()\n",
    "\n",
    "if (os.path.exists(\"model/unet.h5\")):\n",
    "  model = tensorflow.keras.models.load_model(\"model/unet.h5\",\n",
    "    custom_objects = {\n",
    "      \"jaccard_distance_loss\": jaccard_distance_loss,\n",
    "      \"dice_coef\": dice_coef\n",
    "    }\n",
    "  )\n",
    "  \n",
    "else:\n",
    "  with strategy.scope():\n",
    "    model = unet_model()\n",
    "    adam_opt = tensorflow.keras.optimizers.Adam(learning_rate = 0.001)\n",
    "    model.compile(optimizer = adam_opt, loss = jaccard_distance_loss, metrics = [dice_coef])\n",
    "    \n",
    "  fit = model.fit(train_generator, \n",
    "    steps_per_epoch = steps_per_epoch, \n",
    "    epochs = 100,\n",
    "    validation_data = (X_val, Y_val),\n",
    "    callbacks = [\n",
    "      checkpointer,\n",
    "      reduce_learning_rate\n",
    "    ]\n",
    "  )\n",
    "\n"
   ]
  },
  {
   "cell_type": "code",
   "execution_count": 13,
   "metadata": {},
   "outputs": [],
   "source": [
    "def crop_image(img, mask):\n",
    "  crop_mask = mask > 0\n",
    "  m, n = mask.shape\n",
    "  crop_mask0, crop_mask1 = crop_mask.any(0), crop_mask.any(1)\n",
    "  col_start, col_end = crop_mask0.argmax(), n - crop_mask0[::-1].argmax()\n",
    "  row_start, row_end = crop_mask1.argmax(), m - crop_mask1[::-1].argmax()\n",
    "  return img[row_start:row_end, col_start:col_end], mask[row_start:row_end, col_start:col_end]"
   ]
  },
  {
   "cell_type": "code",
   "execution_count": null,
   "metadata": {},
   "outputs": [],
   "source": [
    "idx = 15\n",
    "test_img = X_test[idx,:,:,:].reshape((1, image_size, image_size, 1))\n",
    "test_mask = Y_test[idx,:,:,:].reshape((1, image_size, image_size, 1))\n",
    "pred_mask = model.predict(test_img)[0,:,:,0]\n",
    "pred_mask = numpy.uint8(pred_mask > 0.5)\n",
    "open_pred_mask = skimage.morphology.erosion(pred_mask, skimage.morphology.square(5))\n",
    "open_pred_mask = skimage.morphology.dilation(open_pred_mask, skimage.morphology.square(5))\n",
    "post_pred_mask = skimage.morphology.dilation(open_pred_mask, skimage.morphology.square(5))\n",
    "\n",
    "crop_img, crop_mask = crop_image(test_img[0,:,:,0], post_pred_mask)\n",
    "\n",
    "crop_img_masked = crop_img * crop_mask\n",
    "\n",
    "# row, column\n",
    "f = matplotlib.pyplot.figure(figsize=(20, 10))\n",
    "f.add_subplot(2, 2, 1)\n",
    "matplotlib.pyplot.imshow(skimage.img_as_ubyte(test_img[0,:,:,0]), cmap = \"gray\")\n",
    "f.add_subplot(2, 2, 2)\n",
    "matplotlib.pyplot.imshow(post_pred_mask, cmap = \"gray\")"
   ]
  }
 ],
 "metadata": {
  "kernelspec": {
   "display_name": "Python 3 (ipykernel)",
   "language": "python",
   "name": "python3"
  },
  "language_info": {
   "codemirror_mode": {
    "name": "ipython",
    "version": 3
   },
   "file_extension": ".py",
   "mimetype": "text/x-python",
   "name": "python",
   "nbconvert_exporter": "python",
   "pygments_lexer": "ipython3",
   "version": "3.8.13"
  },
  "vscode": {
   "interpreter": {
    "hash": "53ce972a288a646521e393254486dd3d4e40ae124f0f9a66da52dff344d61cdc"
   }
  }
 },
 "nbformat": 4,
 "nbformat_minor": 1
}
